{
  "nbformat": 4,
  "nbformat_minor": 0,
  "metadata": {
    "colab": {
      "name": "rajaraman_vgg.ipynb",
      "version": "0.3.2",
      "provenance": [],
      "collapsed_sections": []
    },
    "kernelspec": {
      "name": "python3",
      "display_name": "Python 3"
    },
    "accelerator": "GPU"
  },
  "cells": [
    {
      "metadata": {
        "id": "tiEV3cHhSQ5u",
        "colab_type": "code",
        "colab": {}
      },
      "cell_type": "code",
      "source": [
        "import numpy as np \n",
        "import pandas as pd \n",
        "import os\n",
        "import glob\n",
        "import time\n",
        "import cv2\n",
        "import random\n",
        "import itertools\n",
        "import matplotlib.pyplot as plt\n",
        "from sklearn.metrics import log_loss\n",
        "from sklearn.utils import class_weight\n",
        "from keras.optimizers import SGD\n",
        "from sklearn.metrics import roc_curve, auc\n",
        "from sklearn.metrics import classification_report,confusion_matrix, accuracy_score\n",
        "import matplotlib.pyplot as plt\n",
        "from sklearn.metrics import average_precision_score\n",
        "from imgaug import augmenters as iaa\n",
        "from keras.models import Sequential\n",
        "from keras.optimizers import RMSprop\n",
        "from keras.layers import Conv2D, MaxPooling2D\n",
        "from keras.layers import Activation, Dropout, Flatten, Dense\n",
        "from sklearn.utils import shuffle\n",
        "from sklearn.model_selection import train_test_split\n",
        "from keras import optimizers\n",
        "from keras.utils import to_categorical, plot_model\n",
        "from keras.layers import Dense, Input, Conv2D, Flatten, MaxPooling2D, Activation\n",
        "from keras.layers import Conv2D, Activation, Dense, MaxPooling2D, Flatten, Dropout, GlobalAveragePooling2D\n",
        "from keras.models import Model, Sequential\n",
        "from keras.layers import Activation, Dropout, Flatten, Dense\n",
        "from keras.callbacks import ModelCheckpoint\n",
        "from keras.optimizers import Adam\n",
        "from keras.applications.vgg16 import VGG16\n",
        "from keras.models import load_model\n",
        "from keras.utils import np_utils\n",
        "from keras import backend as K\n",
        "\n",
        "np.random.seed(1)"
      ],
      "execution_count": 0,
      "outputs": []
    },
    {
      "metadata": {
        "id": "SOd7fODrVyra",
        "colab_type": "code",
        "outputId": "a3765a95-ba59-466f-bdfd-dc490aa25f95",
        "colab": {
          "base_uri": "https://localhost:8080/",
          "height": 34
        }
      },
      "cell_type": "code",
      "source": [
        "!ls"
      ],
      "execution_count": 2,
      "outputs": [
        {
          "output_type": "stream",
          "text": [
            "sample_data\n"
          ],
          "name": "stdout"
        }
      ]
    },
    {
      "metadata": {
        "id": "nwaLEhTcSW61",
        "colab_type": "code",
        "colab": {}
      },
      "cell_type": "code",
      "source": [
        "!pip install -U -q kaggle\n",
        "!mkdir -p ~/.kaggle"
      ],
      "execution_count": 0,
      "outputs": []
    },
    {
      "metadata": {
        "id": "qsoVbwN9UVNE",
        "colab_type": "code",
        "outputId": "87fa56c4-87be-4317-af40-4625948df7d7",
        "colab": {
          "resources": {
            "http://localhost:8080/nbextensions/google.colab/files.js": {
              "data": "Ly8gQ29weXJpZ2h0IDIwMTcgR29vZ2xlIExMQwovLwovLyBMaWNlbnNlZCB1bmRlciB0aGUgQXBhY2hlIExpY2Vuc2UsIFZlcnNpb24gMi4wICh0aGUgIkxpY2Vuc2UiKTsKLy8geW91IG1heSBub3QgdXNlIHRoaXMgZmlsZSBleGNlcHQgaW4gY29tcGxpYW5jZSB3aXRoIHRoZSBMaWNlbnNlLgovLyBZb3UgbWF5IG9idGFpbiBhIGNvcHkgb2YgdGhlIExpY2Vuc2UgYXQKLy8KLy8gICAgICBodHRwOi8vd3d3LmFwYWNoZS5vcmcvbGljZW5zZXMvTElDRU5TRS0yLjAKLy8KLy8gVW5sZXNzIHJlcXVpcmVkIGJ5IGFwcGxpY2FibGUgbGF3IG9yIGFncmVlZCB0byBpbiB3cml0aW5nLCBzb2Z0d2FyZQovLyBkaXN0cmlidXRlZCB1bmRlciB0aGUgTGljZW5zZSBpcyBkaXN0cmlidXRlZCBvbiBhbiAiQVMgSVMiIEJBU0lTLAovLyBXSVRIT1VUIFdBUlJBTlRJRVMgT1IgQ09ORElUSU9OUyBPRiBBTlkgS0lORCwgZWl0aGVyIGV4cHJlc3Mgb3IgaW1wbGllZC4KLy8gU2VlIHRoZSBMaWNlbnNlIGZvciB0aGUgc3BlY2lmaWMgbGFuZ3VhZ2UgZ292ZXJuaW5nIHBlcm1pc3Npb25zIGFuZAovLyBsaW1pdGF0aW9ucyB1bmRlciB0aGUgTGljZW5zZS4KCi8qKgogKiBAZmlsZW92ZXJ2aWV3IEhlbHBlcnMgZm9yIGdvb2dsZS5jb2xhYiBQeXRob24gbW9kdWxlLgogKi8KKGZ1bmN0aW9uKHNjb3BlKSB7CmZ1bmN0aW9uIHNwYW4odGV4dCwgc3R5bGVBdHRyaWJ1dGVzID0ge30pIHsKICBjb25zdCBlbGVtZW50ID0gZG9jdW1lbnQuY3JlYXRlRWxlbWVudCgnc3BhbicpOwogIGVsZW1lbnQudGV4dENvbnRlbnQgPSB0ZXh0OwogIGZvciAoY29uc3Qga2V5IG9mIE9iamVjdC5rZXlzKHN0eWxlQXR0cmlidXRlcykpIHsKICAgIGVsZW1lbnQuc3R5bGVba2V5XSA9IHN0eWxlQXR0cmlidXRlc1trZXldOwogIH0KICByZXR1cm4gZWxlbWVudDsKfQoKLy8gTWF4IG51bWJlciBvZiBieXRlcyB3aGljaCB3aWxsIGJlIHVwbG9hZGVkIGF0IGEgdGltZS4KY29uc3QgTUFYX1BBWUxPQURfU0laRSA9IDEwMCAqIDEwMjQ7Ci8vIE1heCBhbW91bnQgb2YgdGltZSB0byBibG9jayB3YWl0aW5nIGZvciB0aGUgdXNlci4KY29uc3QgRklMRV9DSEFOR0VfVElNRU9VVF9NUyA9IDMwICogMTAwMDsKCmZ1bmN0aW9uIF91cGxvYWRGaWxlcyhpbnB1dElkLCBvdXRwdXRJZCkgewogIGNvbnN0IHN0ZXBzID0gdXBsb2FkRmlsZXNTdGVwKGlucHV0SWQsIG91dHB1dElkKTsKICBjb25zdCBvdXRwdXRFbGVtZW50ID0gZG9jdW1lbnQuZ2V0RWxlbWVudEJ5SWQob3V0cHV0SWQpOwogIC8vIENhY2hlIHN0ZXBzIG9uIHRoZSBvdXRwdXRFbGVtZW50IHRvIG1ha2UgaXQgYXZhaWxhYmxlIGZvciB0aGUgbmV4dCBjYWxsCiAgLy8gdG8gdXBsb2FkRmlsZXNDb250aW51ZSBmcm9tIFB5dGhvbi4KICBvdXRwdXRFbGVtZW50LnN0ZXBzID0gc3RlcHM7CgogIHJldHVybiBfdXBsb2FkRmlsZXNDb250aW51ZShvdXRwdXRJZCk7Cn0KCi8vIFRoaXMgaXMgcm91Z2hseSBhbiBhc3luYyBnZW5lcmF0b3IgKG5vdCBzdXBwb3J0ZWQgaW4gdGhlIGJyb3dzZXIgeWV0KSwKLy8gd2hlcmUgdGhlcmUgYXJlIG11bHRpcGxlIGFzeW5jaHJvbm91cyBzdGVwcyBhbmQgdGhlIFB5dGhvbiBzaWRlIGlzIGdvaW5nCi8vIHRvIHBvbGwgZm9yIGNvbXBsZXRpb24gb2YgZWFjaCBzdGVwLgovLyBUaGlzIHVzZXMgYSBQcm9taXNlIHRvIGJsb2NrIHRoZSBweXRob24gc2lkZSBvbiBjb21wbGV0aW9uIG9mIGVhY2ggc3RlcCwKLy8gdGhlbiBwYXNzZXMgdGhlIHJlc3VsdCBvZiB0aGUgcHJldmlvdXMgc3RlcCBhcyB0aGUgaW5wdXQgdG8gdGhlIG5leHQgc3RlcC4KZnVuY3Rpb24gX3VwbG9hZEZpbGVzQ29udGludWUob3V0cHV0SWQpIHsKICBjb25zdCBvdXRwdXRFbGVtZW50ID0gZG9jdW1lbnQuZ2V0RWxlbWVudEJ5SWQob3V0cHV0SWQpOwogIGNvbnN0IHN0ZXBzID0gb3V0cHV0RWxlbWVudC5zdGVwczsKCiAgY29uc3QgbmV4dCA9IHN0ZXBzLm5leHQob3V0cHV0RWxlbWVudC5sYXN0UHJvbWlzZVZhbHVlKTsKICByZXR1cm4gUHJvbWlzZS5yZXNvbHZlKG5leHQudmFsdWUucHJvbWlzZSkudGhlbigodmFsdWUpID0+IHsKICAgIC8vIENhY2hlIHRoZSBsYXN0IHByb21pc2UgdmFsdWUgdG8gbWFrZSBpdCBhdmFpbGFibGUgdG8gdGhlIG5leHQKICAgIC8vIHN0ZXAgb2YgdGhlIGdlbmVyYXRvci4KICAgIG91dHB1dEVsZW1lbnQubGFzdFByb21pc2VWYWx1ZSA9IHZhbHVlOwogICAgcmV0dXJuIG5leHQudmFsdWUucmVzcG9uc2U7CiAgfSk7Cn0KCi8qKgogKiBHZW5lcmF0b3IgZnVuY3Rpb24gd2hpY2ggaXMgY2FsbGVkIGJldHdlZW4gZWFjaCBhc3luYyBzdGVwIG9mIHRoZSB1cGxvYWQKICogcHJvY2Vzcy4KICogQHBhcmFtIHtzdHJpbmd9IGlucHV0SWQgRWxlbWVudCBJRCBvZiB0aGUgaW5wdXQgZmlsZSBwaWNrZXIgZWxlbWVudC4KICogQHBhcmFtIHtzdHJpbmd9IG91dHB1dElkIEVsZW1lbnQgSUQgb2YgdGhlIG91dHB1dCBkaXNwbGF5LgogKiBAcmV0dXJuIHshSXRlcmFibGU8IU9iamVjdD59IEl0ZXJhYmxlIG9mIG5leHQgc3RlcHMuCiAqLwpmdW5jdGlvbiogdXBsb2FkRmlsZXNTdGVwKGlucHV0SWQsIG91dHB1dElkKSB7CiAgY29uc3QgaW5wdXRFbGVtZW50ID0gZG9jdW1lbnQuZ2V0RWxlbWVudEJ5SWQoaW5wdXRJZCk7CiAgaW5wdXRFbGVtZW50LmRpc2FibGVkID0gZmFsc2U7CgogIGNvbnN0IG91dHB1dEVsZW1lbnQgPSBkb2N1bWVudC5nZXRFbGVtZW50QnlJZChvdXRwdXRJZCk7CiAgb3V0cHV0RWxlbWVudC5pbm5lckhUTUwgPSAnJzsKCiAgY29uc3QgcGlja2VkUHJvbWlzZSA9IG5ldyBQcm9taXNlKChyZXNvbHZlKSA9PiB7CiAgICBpbnB1dEVsZW1lbnQuYWRkRXZlbnRMaXN0ZW5lcignY2hhbmdlJywgKGUpID0+IHsKICAgICAgcmVzb2x2ZShlLnRhcmdldC5maWxlcyk7CiAgICB9KTsKICB9KTsKCiAgY29uc3QgY2FuY2VsID0gZG9jdW1lbnQuY3JlYXRlRWxlbWVudCgnYnV0dG9uJyk7CiAgaW5wdXRFbGVtZW50LnBhcmVudEVsZW1lbnQuYXBwZW5kQ2hpbGQoY2FuY2VsKTsKICBjYW5jZWwudGV4dENvbnRlbnQgPSAnQ2FuY2VsIHVwbG9hZCc7CiAgY29uc3QgY2FuY2VsUHJvbWlzZSA9IG5ldyBQcm9taXNlKChyZXNvbHZlKSA9PiB7CiAgICBjYW5jZWwub25jbGljayA9ICgpID0+IHsKICAgICAgcmVzb2x2ZShudWxsKTsKICAgIH07CiAgfSk7CgogIC8vIENhbmNlbCB1cGxvYWQgaWYgdXNlciBoYXNuJ3QgcGlja2VkIGFueXRoaW5nIGluIHRpbWVvdXQuCiAgY29uc3QgdGltZW91dFByb21pc2UgPSBuZXcgUHJvbWlzZSgocmVzb2x2ZSkgPT4gewogICAgc2V0VGltZW91dCgoKSA9PiB7CiAgICAgIHJlc29sdmUobnVsbCk7CiAgICB9LCBGSUxFX0NIQU5HRV9USU1FT1VUX01TKTsKICB9KTsKCiAgLy8gV2FpdCBmb3IgdGhlIHVzZXIgdG8gcGljayB0aGUgZmlsZXMuCiAgY29uc3QgZmlsZXMgPSB5aWVsZCB7CiAgICBwcm9taXNlOiBQcm9taXNlLnJhY2UoW3BpY2tlZFByb21pc2UsIHRpbWVvdXRQcm9taXNlLCBjYW5jZWxQcm9taXNlXSksCiAgICByZXNwb25zZTogewogICAgICBhY3Rpb246ICdzdGFydGluZycsCiAgICB9CiAgfTsKCiAgaWYgKCFmaWxlcykgewogICAgcmV0dXJuIHsKICAgICAgcmVzcG9uc2U6IHsKICAgICAgICBhY3Rpb246ICdjb21wbGV0ZScsCiAgICAgIH0KICAgIH07CiAgfQoKICBjYW5jZWwucmVtb3ZlKCk7CgogIC8vIERpc2FibGUgdGhlIGlucHV0IGVsZW1lbnQgc2luY2UgZnVydGhlciBwaWNrcyBhcmUgbm90IGFsbG93ZWQuCiAgaW5wdXRFbGVtZW50LmRpc2FibGVkID0gdHJ1ZTsKCiAgZm9yIChjb25zdCBmaWxlIG9mIGZpbGVzKSB7CiAgICBjb25zdCBsaSA9IGRvY3VtZW50LmNyZWF0ZUVsZW1lbnQoJ2xpJyk7CiAgICBsaS5hcHBlbmQoc3BhbihmaWxlLm5hbWUsIHtmb250V2VpZ2h0OiAnYm9sZCd9KSk7CiAgICBsaS5hcHBlbmQoc3BhbigKICAgICAgICBgKCR7ZmlsZS50eXBlIHx8ICduL2EnfSkgLSAke2ZpbGUuc2l6ZX0gYnl0ZXMsIGAgKwogICAgICAgIGBsYXN0IG1vZGlmaWVkOiAkewogICAgICAgICAgICBmaWxlLmxhc3RNb2RpZmllZERhdGUgPyBmaWxlLmxhc3RNb2RpZmllZERhdGUudG9Mb2NhbGVEYXRlU3RyaW5nKCkgOgogICAgICAgICAgICAgICAgICAgICAgICAgICAgICAgICAgICAnbi9hJ30gLSBgKSk7CiAgICBjb25zdCBwZXJjZW50ID0gc3BhbignMCUgZG9uZScpOwogICAgbGkuYXBwZW5kQ2hpbGQocGVyY2VudCk7CgogICAgb3V0cHV0RWxlbWVudC5hcHBlbmRDaGlsZChsaSk7CgogICAgY29uc3QgZmlsZURhdGFQcm9taXNlID0gbmV3IFByb21pc2UoKHJlc29sdmUpID0+IHsKICAgICAgY29uc3QgcmVhZGVyID0gbmV3IEZpbGVSZWFkZXIoKTsKICAgICAgcmVhZGVyLm9ubG9hZCA9IChlKSA9PiB7CiAgICAgICAgcmVzb2x2ZShlLnRhcmdldC5yZXN1bHQpOwogICAgICB9OwogICAgICByZWFkZXIucmVhZEFzQXJyYXlCdWZmZXIoZmlsZSk7CiAgICB9KTsKICAgIC8vIFdhaXQgZm9yIHRoZSBkYXRhIHRvIGJlIHJlYWR5LgogICAgbGV0IGZpbGVEYXRhID0geWllbGQgewogICAgICBwcm9taXNlOiBmaWxlRGF0YVByb21pc2UsCiAgICAgIHJlc3BvbnNlOiB7CiAgICAgICAgYWN0aW9uOiAnY29udGludWUnLAogICAgICB9CiAgICB9OwoKICAgIC8vIFVzZSBhIGNodW5rZWQgc2VuZGluZyB0byBhdm9pZCBtZXNzYWdlIHNpemUgbGltaXRzLiBTZWUgYi82MjExNTY2MC4KICAgIGxldCBwb3NpdGlvbiA9IDA7CiAgICB3aGlsZSAocG9zaXRpb24gPCBmaWxlRGF0YS5ieXRlTGVuZ3RoKSB7CiAgICAgIGNvbnN0IGxlbmd0aCA9IE1hdGgubWluKGZpbGVEYXRhLmJ5dGVMZW5ndGggLSBwb3NpdGlvbiwgTUFYX1BBWUxPQURfU0laRSk7CiAgICAgIGNvbnN0IGNodW5rID0gbmV3IFVpbnQ4QXJyYXkoZmlsZURhdGEsIHBvc2l0aW9uLCBsZW5ndGgpOwogICAgICBwb3NpdGlvbiArPSBsZW5ndGg7CgogICAgICBjb25zdCBiYXNlNjQgPSBidG9hKFN0cmluZy5mcm9tQ2hhckNvZGUuYXBwbHkobnVsbCwgY2h1bmspKTsKICAgICAgeWllbGQgewogICAgICAgIHJlc3BvbnNlOiB7CiAgICAgICAgICBhY3Rpb246ICdhcHBlbmQnLAogICAgICAgICAgZmlsZTogZmlsZS5uYW1lLAogICAgICAgICAgZGF0YTogYmFzZTY0LAogICAgICAgIH0sCiAgICAgIH07CiAgICAgIHBlcmNlbnQudGV4dENvbnRlbnQgPQogICAgICAgICAgYCR7TWF0aC5yb3VuZCgocG9zaXRpb24gLyBmaWxlRGF0YS5ieXRlTGVuZ3RoKSAqIDEwMCl9JSBkb25lYDsKICAgIH0KICB9CgogIC8vIEFsbCBkb25lLgogIHlpZWxkIHsKICAgIHJlc3BvbnNlOiB7CiAgICAgIGFjdGlvbjogJ2NvbXBsZXRlJywKICAgIH0KICB9Owp9CgpzY29wZS5nb29nbGUgPSBzY29wZS5nb29nbGUgfHwge307CnNjb3BlLmdvb2dsZS5jb2xhYiA9IHNjb3BlLmdvb2dsZS5jb2xhYiB8fCB7fTsKc2NvcGUuZ29vZ2xlLmNvbGFiLl9maWxlcyA9IHsKICBfdXBsb2FkRmlsZXMsCiAgX3VwbG9hZEZpbGVzQ29udGludWUsCn07Cn0pKHNlbGYpOwo=",
              "ok": true,
              "headers": [
                [
                  "content-type",
                  "application/javascript"
                ]
              ],
              "status": 200,
              "status_text": ""
            }
          },
          "base_uri": "https://localhost:8080/",
          "height": 91
        }
      },
      "cell_type": "code",
      "source": [
        "from google.colab import files\n",
        "\n",
        "uploaded = files.upload()\n",
        "\n",
        "for fn in uploaded.keys():\n",
        "  print('User uploaded file \"{name}\" with length {length} bytes'.format(\n",
        "      name=fn, length=len(uploaded[fn])))"
      ],
      "execution_count": 4,
      "outputs": [
        {
          "output_type": "display_data",
          "data": {
            "text/html": [
              "\n",
              "     <input type=\"file\" id=\"files-98abc2bb-f7ab-4ae6-ad48-5de711cc64fe\" name=\"files[]\" multiple disabled />\n",
              "     <output id=\"result-98abc2bb-f7ab-4ae6-ad48-5de711cc64fe\">\n",
              "      Upload widget is only available when the cell has been executed in the\n",
              "      current browser session. Please rerun this cell to enable.\n",
              "      </output>\n",
              "      <script src=\"/nbextensions/google.colab/files.js\"></script> "
            ],
            "text/plain": [
              "<IPython.core.display.HTML object>"
            ]
          },
          "metadata": {
            "tags": []
          }
        },
        {
          "output_type": "stream",
          "text": [
            "Saving kaggle.json to kaggle.json\n",
            "User uploaded file \"kaggle.json\" with length 67 bytes\n"
          ],
          "name": "stdout"
        }
      ]
    },
    {
      "metadata": {
        "id": "cUuuu_vrWAQY",
        "colab_type": "code",
        "colab": {}
      },
      "cell_type": "code",
      "source": [
        "!cp kaggle.json ~/.kaggle/"
      ],
      "execution_count": 0,
      "outputs": []
    },
    {
      "metadata": {
        "id": "riPFNpayXg76",
        "colab_type": "code",
        "outputId": "296d2b95-8ca0-4f22-d4e2-14528a7d5a4e",
        "colab": {
          "base_uri": "https://localhost:8080/",
          "height": 87
        }
      },
      "cell_type": "code",
      "source": [
        "!kaggle datasets download -d hasibzunair/malaria"
      ],
      "execution_count": 6,
      "outputs": [
        {
          "output_type": "stream",
          "text": [
            "Warning: Your Kaggle API key is readable by other users on this system! To fix this, you can run 'chmod 600 /root/.kaggle/kaggle.json'\n",
            "Downloading malaria.zip to /content\n",
            "100% 811M/815M [00:10<00:00, 92.5MB/s]\n",
            "100% 815M/815M [00:10<00:00, 80.5MB/s]\n"
          ],
          "name": "stdout"
        }
      ]
    },
    {
      "metadata": {
        "id": "w4GI7_AIYh7o",
        "colab_type": "code",
        "outputId": "98d528d0-a6d1-4669-a23e-ac18b27ec2e5",
        "colab": {
          "base_uri": "https://localhost:8080/",
          "height": 141
        }
      },
      "cell_type": "code",
      "source": [
        "!unzip 'malaria.zip'"
      ],
      "execution_count": 7,
      "outputs": [
        {
          "output_type": "stream",
          "text": [
            "Archive:  malaria.zip\n",
            "  inflating: y_test.npy              \n",
            "  inflating: x_test.npy              \n",
            "  inflating: y_train.npy             \n",
            "  inflating: y_val.npy               \n",
            "  inflating: x_train.npy             \n",
            "  inflating: x_val.npy               \n"
          ],
          "name": "stdout"
        }
      ]
    },
    {
      "metadata": {
        "id": "vNtyCkIPYjKy",
        "colab_type": "code",
        "outputId": "5f0f258f-43e2-4aec-8f6f-4785893d6010",
        "colab": {
          "base_uri": "https://localhost:8080/",
          "height": 52
        }
      },
      "cell_type": "code",
      "source": [
        "!ls"
      ],
      "execution_count": 8,
      "outputs": [
        {
          "output_type": "stream",
          "text": [
            "kaggle.json  sample_data  x_train.npy  y_test.npy   y_val.npy\n",
            "malaria.zip  x_test.npy   x_val.npy    y_train.npy\n"
          ],
          "name": "stdout"
        }
      ]
    },
    {
      "metadata": {
        "id": "7YEH44-4pjyZ",
        "colab_type": "code",
        "colab": {}
      },
      "cell_type": "code",
      "source": [
        "#x_train = np.load(\"x_train.npy\")\n",
        "#y_train = np.load(\"y_train.npy\")\n",
        "#x_train.shape, y_train.shape\n",
        "#x_val = np.load(\"x_val.npy\")\n",
        "#y_val = np.load(\"y_val.npy\")\n",
        "#x_val.shape, y_val.shape\n",
        "#x_test = np.load(\"x_test.npy\")\n",
        "#y_test = np.load(\"y_test.npy\")\n",
        "#x_test.shape, y_test.shape\n",
        "#print(x_train.shape, y_train.shape)\n",
        "#print(x_val.shape, x_test.shape, y_val.shape, y_test.shape)"
      ],
      "execution_count": 0,
      "outputs": []
    },
    {
      "metadata": {
        "id": "zr0uBPoToDLV",
        "colab_type": "code",
        "colab": {}
      },
      "cell_type": "code",
      "source": [
        "nb_train_samples = 22046 #  modify for your dataset\n",
        "nb_valid_samples = 2756 #  modify for your dataset\n",
        "nb_test_samples = 2756 # modify for your dataset\n",
        "num_classes = 2 # binary classification "
      ],
      "execution_count": 0,
      "outputs": []
    },
    {
      "metadata": {
        "id": "d7Llq3Cim4D9",
        "colab_type": "code",
        "colab": {}
      },
      "cell_type": "code",
      "source": [
        "def plot_confusion_matrix(cm, classes,\n",
        "                          normalize=False, #if true all values in confusion matrix is between 0 and 1\n",
        "                          title='Confusion matrix',\n",
        "                          cmap=plt.cm.Blues):\n",
        "    plt.imshow(cm, interpolation='nearest', cmap=cmap)\n",
        "    plt.title(title)\n",
        "    plt.colorbar()\n",
        "    tick_marks = np.arange(len(classes))\n",
        "    plt.xticks(tick_marks, classes, rotation=45)\n",
        "    plt.yticks(tick_marks, classes)\n",
        "\n",
        "    if normalize:\n",
        "        cm = cm.astype('float') / cm.sum(axis=1)[:, np.newaxis]\n",
        "        print(\"Normalized confusion matrix\")\n",
        "    else:\n",
        "        print('Confusion matrix, without normalization')\n",
        "\n",
        "    print(cm)\n",
        "    thresh = cm.max() / 2.\n",
        "    for i, j in itertools.product(range(cm.shape[0]), range(cm.shape[1])):\n",
        "        plt.text(j, i, cm[i, j],\n",
        "                 horizontalalignment=\"center\",\n",
        "                 color=\"white\" if cm[i, j] > thresh else \"black\")\n",
        "    plt.tight_layout()\n",
        "    plt.ylabel('True label')\n",
        "    plt.xlabel('Predicted label')"
      ],
      "execution_count": 0,
      "outputs": []
    },
    {
      "metadata": {
        "id": "MZq77LbMm6Xn",
        "colab_type": "code",
        "colab": {}
      },
      "cell_type": "code",
      "source": [
        "def load_resized_training_data(img_rows, img_cols):\n",
        "\n",
        "    X_train = np.load(\"x_train.npy\")\n",
        "    Y_train = np.load(\"y_train.npy\")\n",
        "    X_train = np.array([cv2.resize(img, (img_rows,img_cols)) for img in X_train[:nb_train_samples,:,:,:]])\n",
        "    \n",
        "    return X_train, Y_train\n",
        "    \n",
        "def load_resized_validation_data(img_rows, img_cols):\n",
        "\n",
        "    X_valid = np.load(\"x_val.npy\")\n",
        "    Y_valid = np.load(\"y_val.npy\")\n",
        "    X_valid = np.array([cv2.resize(img, (img_rows,img_cols)) for img in X_valid[:nb_valid_samples,:,:,:]])\n",
        "        \n",
        "    return X_valid, Y_valid   \n",
        "\n",
        "def load_resized_test_data(img_rows, img_cols):\n",
        "\n",
        "    X_test = np.load(\"x_test.npy\")\n",
        "    Y_test = np.load(\"y_test.npy\")\n",
        "    X_test = np.array([cv2.resize(img, (img_rows,img_cols)) for img in X_test[:nb_test_samples,:,:,:]])\n",
        "    \n",
        "    return X_test, Y_test"
      ],
      "execution_count": 0,
      "outputs": []
    },
    {
      "metadata": {
        "id": "h9WTMhnrnoMr",
        "colab_type": "code",
        "colab": {}
      },
      "cell_type": "code",
      "source": [
        "img_rows=224 #dimensions of image required for VGG16\n",
        "img_cols=224\n",
        "channel = 3 #RGB\n",
        "batch_size = 32 # modify based on the GPUs in your system\n",
        "num_epoch = 100 # modify depending on the model's convergence with your data\n",
        "\n",
        "#load data\n",
        "X_train, Y_train = load_resized_training_data(img_rows, img_cols)"
      ],
      "execution_count": 0,
      "outputs": []
    },
    {
      "metadata": {
        "id": "L7XgkZODnsYe",
        "colab_type": "code",
        "colab": {}
      },
      "cell_type": "code",
      "source": [
        "X_valid, Y_valid = load_resized_validation_data(img_rows, img_cols)"
      ],
      "execution_count": 0,
      "outputs": []
    },
    {
      "metadata": {
        "id": "a9PNC9Qansf1",
        "colab_type": "code",
        "colab": {}
      },
      "cell_type": "code",
      "source": [
        "X_test, Y_test = load_resized_test_data(img_rows, img_cols)"
      ],
      "execution_count": 0,
      "outputs": []
    },
    {
      "metadata": {
        "id": "9tA27z3XnzNc",
        "colab_type": "code",
        "colab": {
          "base_uri": "https://localhost:8080/",
          "height": 70
        },
        "outputId": "15d646b3-ed6c-430d-b26c-24c24b683bf8"
      },
      "cell_type": "code",
      "source": [
        "#print the shape of the data\n",
        "print(X_train.shape, Y_train.shape)\n",
        "print(X_valid.shape, Y_valid.shape)\n",
        "print(X_test.shape, Y_test.shape)"
      ],
      "execution_count": 18,
      "outputs": [
        {
          "output_type": "stream",
          "text": [
            "(22046, 224, 224, 3) (22046, 2)\n",
            "(2756, 224, 224, 3) (2756, 2)\n",
            "(2756, 224, 224, 3) (2756, 2)\n"
          ],
          "name": "stdout"
        }
      ]
    },
    {
      "metadata": {
        "colab_type": "code",
        "id": "gHYInTAGqb11",
        "outputId": "71a1a5f9-a4e7-4b23-a11c-a45af980cd64",
        "colab": {
          "base_uri": "https://localhost:8080/",
          "height": 34
        }
      },
      "cell_type": "code",
      "source": [
        "IMAGE_SIZE = x_train.shape[1]\n",
        "IMAGE_SIZE"
      ],
      "execution_count": 14,
      "outputs": [
        {
          "output_type": "execute_result",
          "data": {
            "text/plain": [
              "200"
            ]
          },
          "metadata": {
            "tags": []
          },
          "execution_count": 14
        }
      ]
    },
    {
      "metadata": {
        "id": "cJA_ensDpYUC",
        "colab_type": "code",
        "colab": {
          "base_uri": "https://localhost:8080/",
          "height": 816
        },
        "outputId": "a7c01dbc-aa66-405a-af90-624eae3bceea"
      },
      "cell_type": "code",
      "source": [
        "base_model = VGG16(weights='imagenet', include_top=False, input_shape=(img_rows, img_cols, channel))\n",
        "\n",
        "#extract feature from the optimal layer for your data\n",
        "base_model = Model(input=base_model.input, output=base_model.get_layer('block5_conv2').output) \n",
        "\n",
        "#get the model summary\n",
        "base_model.summary()"
      ],
      "execution_count": 20,
      "outputs": [
        {
          "output_type": "stream",
          "text": [
            "Downloading data from https://github.com/fchollet/deep-learning-models/releases/download/v0.1/vgg16_weights_tf_dim_ordering_tf_kernels_notop.h5\n",
            "58892288/58889256 [==============================] - 2s 0us/step\n",
            "_________________________________________________________________\n",
            "Layer (type)                 Output Shape              Param #   \n",
            "=================================================================\n",
            "input_1 (InputLayer)         (None, 224, 224, 3)       0         \n",
            "_________________________________________________________________\n",
            "block1_conv1 (Conv2D)        (None, 224, 224, 64)      1792      \n",
            "_________________________________________________________________\n",
            "block1_conv2 (Conv2D)        (None, 224, 224, 64)      36928     \n",
            "_________________________________________________________________\n",
            "block1_pool (MaxPooling2D)   (None, 112, 112, 64)      0         \n",
            "_________________________________________________________________\n",
            "block2_conv1 (Conv2D)        (None, 112, 112, 128)     73856     \n",
            "_________________________________________________________________\n",
            "block2_conv2 (Conv2D)        (None, 112, 112, 128)     147584    \n",
            "_________________________________________________________________\n",
            "block2_pool (MaxPooling2D)   (None, 56, 56, 128)       0         \n",
            "_________________________________________________________________\n",
            "block3_conv1 (Conv2D)        (None, 56, 56, 256)       295168    \n",
            "_________________________________________________________________\n",
            "block3_conv2 (Conv2D)        (None, 56, 56, 256)       590080    \n",
            "_________________________________________________________________\n",
            "block3_conv3 (Conv2D)        (None, 56, 56, 256)       590080    \n",
            "_________________________________________________________________\n",
            "block3_pool (MaxPooling2D)   (None, 28, 28, 256)       0         \n",
            "_________________________________________________________________\n",
            "block4_conv1 (Conv2D)        (None, 28, 28, 512)       1180160   \n",
            "_________________________________________________________________\n",
            "block4_conv2 (Conv2D)        (None, 28, 28, 512)       2359808   \n",
            "_________________________________________________________________\n",
            "block4_conv3 (Conv2D)        (None, 28, 28, 512)       2359808   \n",
            "_________________________________________________________________\n",
            "block4_pool (MaxPooling2D)   (None, 14, 14, 512)       0         \n",
            "_________________________________________________________________\n",
            "block5_conv1 (Conv2D)        (None, 14, 14, 512)       2359808   \n",
            "_________________________________________________________________\n",
            "block5_conv2 (Conv2D)        (None, 14, 14, 512)       2359808   \n",
            "=================================================================\n",
            "Total params: 12,354,880\n",
            "Trainable params: 12,354,880\n",
            "Non-trainable params: 0\n",
            "_________________________________________________________________\n"
          ],
          "name": "stdout"
        },
        {
          "output_type": "stream",
          "text": [
            "/usr/local/lib/python3.6/dist-packages/ipykernel_launcher.py:4: UserWarning: Update your `Model` call to the Keras 2 API: `Model(inputs=Tensor(\"in..., outputs=Tensor(\"bl...)`\n",
            "  after removing the cwd from sys.path.\n"
          ],
          "name": "stderr"
        }
      ]
    },
    {
      "metadata": {
        "id": "s_4bSEnPpkOx",
        "colab_type": "text"
      },
      "cell_type": "markdown",
      "source": [
        "Lets modify the architecture by adding a global spatial average pooling layer and a fully-connected layer with a dropout ratio of 0.5 to prevent overfitting and help model generalization. We will train only the top layers which are randomly initialized, freeze all the convolutional layers to prevent large gradient updates wrecking the learned weights."
      ]
    },
    {
      "metadata": {
        "id": "yMMyJQiepYXC",
        "colab_type": "code",
        "colab": {
          "base_uri": "https://localhost:8080/",
          "height": 905
        },
        "outputId": "8e0f79a5-64c7-4774-99b2-a53ce8af76f8"
      },
      "cell_type": "code",
      "source": [
        "x = base_model.output\n",
        "x = GlobalAveragePooling2D()(x)\n",
        "x = Dense(1024, activation='relu')(x)\n",
        "x = Dropout(0.5)(x)\n",
        "predictions = Dense(num_classes, activation='softmax', name='predictions')(x)\n",
        "\n",
        "# this is the model we will train\n",
        "model = Model(inputs=base_model.input, outputs=predictions)\n",
        "\n",
        "# Train only the top layers (which were randomly initialized)\n",
        "# i.e. freeze all convolutional layers to prevent large gradient updates wrecking the learned weights\n",
        "for layer in base_model.layers:\n",
        "    layer.trainable = False\n",
        "\n",
        "#fix the optimizer\n",
        "sgd = SGD(lr=0.00001, decay=1e-6, momentum=0.9, nesterov=True) \n",
        "\n",
        "#compile the model\n",
        "model.compile(optimizer=sgd,\n",
        "              loss='categorical_crossentropy',\n",
        "              metrics=['accuracy'])\n",
        "\n",
        "print(\"The final model...\")\n",
        "model.summary()"
      ],
      "execution_count": 30,
      "outputs": [
        {
          "output_type": "stream",
          "text": [
            "The final model...\n",
            "_________________________________________________________________\n",
            "Layer (type)                 Output Shape              Param #   \n",
            "=================================================================\n",
            "input_1 (InputLayer)         (None, 224, 224, 3)       0         \n",
            "_________________________________________________________________\n",
            "block1_conv1 (Conv2D)        (None, 224, 224, 64)      1792      \n",
            "_________________________________________________________________\n",
            "block1_conv2 (Conv2D)        (None, 224, 224, 64)      36928     \n",
            "_________________________________________________________________\n",
            "block1_pool (MaxPooling2D)   (None, 112, 112, 64)      0         \n",
            "_________________________________________________________________\n",
            "block2_conv1 (Conv2D)        (None, 112, 112, 128)     73856     \n",
            "_________________________________________________________________\n",
            "block2_conv2 (Conv2D)        (None, 112, 112, 128)     147584    \n",
            "_________________________________________________________________\n",
            "block2_pool (MaxPooling2D)   (None, 56, 56, 128)       0         \n",
            "_________________________________________________________________\n",
            "block3_conv1 (Conv2D)        (None, 56, 56, 256)       295168    \n",
            "_________________________________________________________________\n",
            "block3_conv2 (Conv2D)        (None, 56, 56, 256)       590080    \n",
            "_________________________________________________________________\n",
            "block3_conv3 (Conv2D)        (None, 56, 56, 256)       590080    \n",
            "_________________________________________________________________\n",
            "block3_pool (MaxPooling2D)   (None, 28, 28, 256)       0         \n",
            "_________________________________________________________________\n",
            "block4_conv1 (Conv2D)        (None, 28, 28, 512)       1180160   \n",
            "_________________________________________________________________\n",
            "block4_conv2 (Conv2D)        (None, 28, 28, 512)       2359808   \n",
            "_________________________________________________________________\n",
            "block4_conv3 (Conv2D)        (None, 28, 28, 512)       2359808   \n",
            "_________________________________________________________________\n",
            "block4_pool (MaxPooling2D)   (None, 14, 14, 512)       0         \n",
            "_________________________________________________________________\n",
            "block5_conv1 (Conv2D)        (None, 14, 14, 512)       2359808   \n",
            "_________________________________________________________________\n",
            "block5_conv2 (Conv2D)        (None, 14, 14, 512)       2359808   \n",
            "_________________________________________________________________\n",
            "global_average_pooling2d_3 ( (None, 512)               0         \n",
            "_________________________________________________________________\n",
            "dense_3 (Dense)              (None, 1024)              525312    \n",
            "_________________________________________________________________\n",
            "dropout_3 (Dropout)          (None, 1024)              0         \n",
            "_________________________________________________________________\n",
            "predictions (Dense)          (None, 2)                 2050      \n",
            "=================================================================\n",
            "Total params: 12,882,242\n",
            "Trainable params: 527,362\n",
            "Non-trainable params: 12,354,880\n",
            "_________________________________________________________________\n"
          ],
          "name": "stdout"
        }
      ]
    },
    {
      "metadata": {
        "id": "WE_jjLfKqhMt",
        "colab_type": "code",
        "colab": {
          "base_uri": "https://localhost:8080/",
          "height": 34
        },
        "outputId": "1a4536c0-ab3e-4f21-dd93-4abb7642f93f"
      },
      "cell_type": "code",
      "source": [
        "model.name"
      ],
      "execution_count": 31,
      "outputs": [
        {
          "output_type": "execute_result",
          "data": {
            "text/plain": [
              "'model_4'"
            ]
          },
          "metadata": {
            "tags": []
          },
          "execution_count": 31
        }
      ]
    },
    {
      "metadata": {
        "id": "4ZqXHwe37gRF",
        "colab_type": "code",
        "outputId": "539fb9d8-57b3-407a-bad0-7326d59a0110",
        "colab": {
          "base_uri": "https://localhost:8080/",
          "height": 34
        }
      },
      "cell_type": "code",
      "source": [
        "# check input\n",
        "print(X_train.shape, Y_train.shape, X_valid.shape, Y_valid.shape, X_test.shape, Y_test.shape)"
      ],
      "execution_count": 27,
      "outputs": [
        {
          "output_type": "stream",
          "text": [
            "(22046, 224, 224, 3) (22046, 2) (2756, 224, 224, 3) (2756, 2) (2756, 224, 224, 3) (2756, 2)\n"
          ],
          "name": "stdout"
        }
      ]
    },
    {
      "metadata": {
        "id": "ZDzM1zb5rLFE",
        "colab_type": "code",
        "colab": {}
      },
      "cell_type": "code",
      "source": [
        "mkdir weights"
      ],
      "execution_count": 0,
      "outputs": []
    },
    {
      "metadata": {
        "id": "hQ6YqTRgt6im",
        "colab_type": "code",
        "outputId": "a5f62eb9-589b-4f40-8265-a7220a10bb0a",
        "colab": {
          "base_uri": "https://localhost:8080/",
          "height": 52
        }
      },
      "cell_type": "code",
      "source": [
        "!ls"
      ],
      "execution_count": 34,
      "outputs": [
        {
          "output_type": "stream",
          "text": [
            "kaggle.json  sample_data  x_test.npy   x_val.npy   y_train.npy\n",
            "malaria.zip  weights\t  x_train.npy  y_test.npy  y_val.npy\n"
          ],
          "name": "stdout"
        }
      ]
    },
    {
      "metadata": {
        "id": "uUTy2tgnstHJ",
        "colab_type": "code",
        "colab": {}
      },
      "cell_type": "code",
      "source": [
        "!rm -f \"vgg_1a.h5\""
      ],
      "execution_count": 0,
      "outputs": []
    },
    {
      "metadata": {
        "id": "y4ikeUhUgKp0",
        "colab_type": "code",
        "outputId": "317beb6e-0391-407b-afa2-af03fbcf711f",
        "colab": {
          "base_uri": "https://localhost:8080/",
          "height": 6043
        }
      },
      "cell_type": "code",
      "source": [
        "#model=vgg16()\n",
        "#path_model='vgg_1a.h5'  \n",
        "\n",
        "filepath = 'weights/' + model.name + '.{epoch:02d}-{val_acc:.4f}.hdf5'\n",
        "checkpoint = ModelCheckpoint(filepath, monitor='val_acc', verbose=1, \n",
        "                             save_weights_only=True, save_best_only=True, mode='max', period=1)\n",
        "\n",
        "#tensor_board = TensorBoard(log_dir='logs/', histogram_freq=0, batch_size=batch_size)\n",
        "callbacks_list = [checkpoint]\n",
        "\n",
        "#compute training time\n",
        "t=time.time()\n",
        "hist = model.fit(X_train, Y_train, batch_size=batch_size, \n",
        "                 callbacks=callbacks_list,\n",
        "                 epochs=num_epoch, verbose=1, \n",
        "                 shuffle=True, validation_data=[X_valid, Y_valid])\n",
        "\n",
        "#compute the training time\n",
        "print('Training time: %s' % (time.time()-t))\n"
      ],
      "execution_count": 38,
      "outputs": [
        {
          "output_type": "stream",
          "text": [
            "Train on 22046 samples, validate on 2756 samples\n",
            "Epoch 1/100\n",
            "22046/22046 [==============================] - 238s 11ms/step - loss: 1.4578 - acc: 0.7672 - val_loss: 0.2578 - val_acc: 0.9401\n",
            "\n",
            "Epoch 00001: val_acc improved from -inf to 0.94013, saving model to weights/model_4.01-0.9401.hdf5\n",
            "Epoch 2/100\n",
            "22046/22046 [==============================] - 229s 10ms/step - loss: 0.4897 - acc: 0.8806 - val_loss: 0.2063 - val_acc: 0.9470\n",
            "\n",
            "Epoch 00002: val_acc improved from 0.94013 to 0.94702, saving model to weights/model_4.02-0.9470.hdf5\n",
            "Epoch 3/100\n",
            "22046/22046 [==============================] - 229s 10ms/step - loss: 0.3333 - acc: 0.9042 - val_loss: 0.1792 - val_acc: 0.9492\n",
            "\n",
            "Epoch 00003: val_acc improved from 0.94702 to 0.94920, saving model to weights/model_4.03-0.9492.hdf5\n",
            "Epoch 4/100\n",
            "22046/22046 [==============================] - 229s 10ms/step - loss: 0.2709 - acc: 0.9164 - val_loss: 0.1686 - val_acc: 0.9481\n",
            "\n",
            "Epoch 00004: val_acc did not improve from 0.94920\n",
            "Epoch 5/100\n",
            "22046/22046 [==============================] - 229s 10ms/step - loss: 0.2429 - acc: 0.9215 - val_loss: 0.1590 - val_acc: 0.9499\n",
            "\n",
            "Epoch 00005: val_acc improved from 0.94920 to 0.94993, saving model to weights/model_4.05-0.9499.hdf5\n",
            "Epoch 6/100\n",
            "22046/22046 [==============================] - 229s 10ms/step - loss: 0.2270 - acc: 0.9231 - val_loss: 0.1581 - val_acc: 0.9478\n",
            "\n",
            "Epoch 00006: val_acc did not improve from 0.94993\n",
            "Epoch 7/100\n",
            "22046/22046 [==============================] - 229s 10ms/step - loss: 0.2121 - acc: 0.9290 - val_loss: 0.1514 - val_acc: 0.9528\n",
            "\n",
            "Epoch 00007: val_acc improved from 0.94993 to 0.95283, saving model to weights/model_4.07-0.9528.hdf5\n",
            "Epoch 8/100\n",
            "22046/22046 [==============================] - 229s 10ms/step - loss: 0.2064 - acc: 0.9305 - val_loss: 0.1535 - val_acc: 0.9492\n",
            "\n",
            "Epoch 00008: val_acc did not improve from 0.95283\n",
            "Epoch 9/100\n",
            "22046/22046 [==============================] - 229s 10ms/step - loss: 0.1939 - acc: 0.9323 - val_loss: 0.1466 - val_acc: 0.9543\n",
            "\n",
            "Epoch 00009: val_acc improved from 0.95283 to 0.95428, saving model to weights/model_4.09-0.9543.hdf5\n",
            "Epoch 10/100\n",
            "22046/22046 [==============================] - 230s 10ms/step - loss: 0.1909 - acc: 0.9344 - val_loss: 0.1471 - val_acc: 0.9557\n",
            "\n",
            "Epoch 00010: val_acc improved from 0.95428 to 0.95573, saving model to weights/model_4.10-0.9557.hdf5\n",
            "Epoch 11/100\n",
            "22046/22046 [==============================] - 230s 10ms/step - loss: 0.1860 - acc: 0.9364 - val_loss: 0.1446 - val_acc: 0.9525\n",
            "\n",
            "Epoch 00011: val_acc did not improve from 0.95573\n",
            "Epoch 12/100\n",
            "22046/22046 [==============================] - 229s 10ms/step - loss: 0.1828 - acc: 0.9368 - val_loss: 0.1467 - val_acc: 0.9525\n",
            "\n",
            "Epoch 00012: val_acc did not improve from 0.95573\n",
            "Epoch 13/100\n",
            "22046/22046 [==============================] - 229s 10ms/step - loss: 0.1790 - acc: 0.9392 - val_loss: 0.1425 - val_acc: 0.9539\n",
            "\n",
            "Epoch 00013: val_acc did not improve from 0.95573\n",
            "Epoch 14/100\n",
            "22046/22046 [==============================] - 229s 10ms/step - loss: 0.1754 - acc: 0.9400 - val_loss: 0.1414 - val_acc: 0.9572\n",
            "\n",
            "Epoch 00014: val_acc improved from 0.95573 to 0.95718, saving model to weights/model_4.14-0.9572.hdf5\n",
            "Epoch 15/100\n",
            "22046/22046 [==============================] - 229s 10ms/step - loss: 0.1736 - acc: 0.9399 - val_loss: 0.1454 - val_acc: 0.9517\n",
            "\n",
            "Epoch 00015: val_acc did not improve from 0.95718\n",
            "Epoch 16/100\n",
            "22046/22046 [==============================] - 229s 10ms/step - loss: 0.1700 - acc: 0.9414 - val_loss: 0.1495 - val_acc: 0.9488\n",
            "\n",
            "Epoch 00016: val_acc did not improve from 0.95718\n",
            "Epoch 17/100\n",
            "22046/22046 [==============================] - 229s 10ms/step - loss: 0.1727 - acc: 0.9399 - val_loss: 0.1398 - val_acc: 0.9565\n",
            "\n",
            "Epoch 00017: val_acc did not improve from 0.95718\n",
            "Epoch 18/100\n",
            "22046/22046 [==============================] - 229s 10ms/step - loss: 0.1723 - acc: 0.9407 - val_loss: 0.1396 - val_acc: 0.9536\n",
            "\n",
            "Epoch 00018: val_acc did not improve from 0.95718\n",
            "Epoch 19/100\n",
            "22046/22046 [==============================] - 228s 10ms/step - loss: 0.1686 - acc: 0.9412 - val_loss: 0.1367 - val_acc: 0.9583\n",
            "\n",
            "Epoch 00019: val_acc improved from 0.95718 to 0.95827, saving model to weights/model_4.19-0.9583.hdf5\n",
            "Epoch 20/100\n",
            "22046/22046 [==============================] - 227s 10ms/step - loss: 0.1653 - acc: 0.9412 - val_loss: 0.1365 - val_acc: 0.9579\n",
            "\n",
            "Epoch 00020: val_acc did not improve from 0.95827\n",
            "Epoch 21/100\n",
            "22046/22046 [==============================] - 227s 10ms/step - loss: 0.1650 - acc: 0.9433 - val_loss: 0.1353 - val_acc: 0.9557\n",
            "\n",
            "Epoch 00021: val_acc did not improve from 0.95827\n",
            "Epoch 22/100\n",
            "22046/22046 [==============================] - 227s 10ms/step - loss: 0.1655 - acc: 0.9439 - val_loss: 0.1354 - val_acc: 0.9590\n",
            "\n",
            "Epoch 00022: val_acc improved from 0.95827 to 0.95900, saving model to weights/model_4.22-0.9590.hdf5\n",
            "Epoch 23/100\n",
            "22046/22046 [==============================] - 228s 10ms/step - loss: 0.1616 - acc: 0.9434 - val_loss: 0.1348 - val_acc: 0.9554\n",
            "\n",
            "Epoch 00023: val_acc did not improve from 0.95900\n",
            "Epoch 24/100\n",
            "22046/22046 [==============================] - 228s 10ms/step - loss: 0.1622 - acc: 0.9442 - val_loss: 0.1355 - val_acc: 0.9579\n",
            "\n",
            "Epoch 00024: val_acc did not improve from 0.95900\n",
            "Epoch 25/100\n",
            "22046/22046 [==============================] - 229s 10ms/step - loss: 0.1633 - acc: 0.9436 - val_loss: 0.1364 - val_acc: 0.9586\n",
            "\n",
            "Epoch 00025: val_acc did not improve from 0.95900\n",
            "Epoch 26/100\n",
            "22046/22046 [==============================] - 228s 10ms/step - loss: 0.1593 - acc: 0.9465 - val_loss: 0.1366 - val_acc: 0.9594\n",
            "\n",
            "Epoch 00026: val_acc improved from 0.95900 to 0.95936, saving model to weights/model_4.26-0.9594.hdf5\n",
            "Epoch 27/100\n",
            "22046/22046 [==============================] - 228s 10ms/step - loss: 0.1593 - acc: 0.9438 - val_loss: 0.1344 - val_acc: 0.9590\n",
            "\n",
            "Epoch 00027: val_acc did not improve from 0.95936\n",
            "Epoch 28/100\n",
            "22046/22046 [==============================] - 230s 10ms/step - loss: 0.1575 - acc: 0.9460 - val_loss: 0.1335 - val_acc: 0.9583\n",
            "\n",
            "Epoch 00028: val_acc did not improve from 0.95936\n",
            "Epoch 29/100\n",
            "22046/22046 [==============================] - 229s 10ms/step - loss: 0.1585 - acc: 0.9453 - val_loss: 0.1333 - val_acc: 0.9597\n",
            "\n",
            "Epoch 00029: val_acc improved from 0.95936 to 0.95972, saving model to weights/model_4.29-0.9597.hdf5\n",
            "Epoch 30/100\n",
            "22046/22046 [==============================] - 229s 10ms/step - loss: 0.1545 - acc: 0.9472 - val_loss: 0.1324 - val_acc: 0.9590\n",
            "\n",
            "Epoch 00030: val_acc did not improve from 0.95972\n",
            "Epoch 31/100\n",
            "22046/22046 [==============================] - 229s 10ms/step - loss: 0.1553 - acc: 0.9467 - val_loss: 0.1323 - val_acc: 0.9579\n",
            "\n",
            "Epoch 00031: val_acc did not improve from 0.95972\n",
            "Epoch 32/100\n",
            "22046/22046 [==============================] - 229s 10ms/step - loss: 0.1555 - acc: 0.9472 - val_loss: 0.1310 - val_acc: 0.9561\n",
            "\n",
            "Epoch 00032: val_acc did not improve from 0.95972\n",
            "Epoch 33/100\n",
            "22046/22046 [==============================] - 229s 10ms/step - loss: 0.1538 - acc: 0.9467 - val_loss: 0.1311 - val_acc: 0.9590\n",
            "\n",
            "Epoch 00033: val_acc did not improve from 0.95972\n",
            "Epoch 34/100\n",
            "22046/22046 [==============================] - 230s 10ms/step - loss: 0.1526 - acc: 0.9475 - val_loss: 0.1353 - val_acc: 0.9583\n",
            "\n",
            "Epoch 00034: val_acc did not improve from 0.95972\n",
            "Epoch 35/100\n",
            "22046/22046 [==============================] - 229s 10ms/step - loss: 0.1533 - acc: 0.9441 - val_loss: 0.1306 - val_acc: 0.9590\n",
            "\n",
            "Epoch 00035: val_acc did not improve from 0.95972\n",
            "Epoch 36/100\n",
            "22046/22046 [==============================] - 229s 10ms/step - loss: 0.1535 - acc: 0.9466 - val_loss: 0.1304 - val_acc: 0.9619\n",
            "\n",
            "Epoch 00036: val_acc improved from 0.95972 to 0.96190, saving model to weights/model_4.36-0.9619.hdf5\n",
            "Epoch 37/100\n",
            "22046/22046 [==============================] - 229s 10ms/step - loss: 0.1520 - acc: 0.9467 - val_loss: 0.1312 - val_acc: 0.9590\n",
            "\n",
            "Epoch 00037: val_acc did not improve from 0.96190\n",
            "Epoch 38/100\n",
            "22046/22046 [==============================] - 229s 10ms/step - loss: 0.1461 - acc: 0.9506 - val_loss: 0.1285 - val_acc: 0.9601\n",
            "\n",
            "Epoch 00038: val_acc did not improve from 0.96190\n",
            "Epoch 39/100\n",
            "22046/22046 [==============================] - 229s 10ms/step - loss: 0.1489 - acc: 0.9483 - val_loss: 0.1294 - val_acc: 0.9604\n",
            "\n",
            "Epoch 00039: val_acc did not improve from 0.96190\n",
            "Epoch 40/100\n",
            "22046/22046 [==============================] - 228s 10ms/step - loss: 0.1473 - acc: 0.9493 - val_loss: 0.1291 - val_acc: 0.9615\n",
            "\n",
            "Epoch 00040: val_acc did not improve from 0.96190\n",
            "Epoch 41/100\n",
            "22046/22046 [==============================] - 229s 10ms/step - loss: 0.1477 - acc: 0.9495 - val_loss: 0.1306 - val_acc: 0.9565\n",
            "\n",
            "Epoch 00041: val_acc did not improve from 0.96190\n",
            "Epoch 42/100\n",
            "22046/22046 [==============================] - 229s 10ms/step - loss: 0.1485 - acc: 0.9482 - val_loss: 0.1293 - val_acc: 0.9601\n",
            "\n",
            "Epoch 00042: val_acc did not improve from 0.96190\n",
            "Epoch 43/100\n",
            "22046/22046 [==============================] - 229s 10ms/step - loss: 0.1454 - acc: 0.9495 - val_loss: 0.1296 - val_acc: 0.9586\n",
            "\n",
            "Epoch 00043: val_acc did not improve from 0.96190\n",
            "Epoch 44/100\n",
            "22046/22046 [==============================] - 229s 10ms/step - loss: 0.1433 - acc: 0.9519 - val_loss: 0.1317 - val_acc: 0.9550\n",
            "\n",
            "Epoch 00044: val_acc did not improve from 0.96190\n",
            "Epoch 45/100\n",
            "22046/22046 [==============================] - 229s 10ms/step - loss: 0.1452 - acc: 0.9500 - val_loss: 0.1281 - val_acc: 0.9608\n",
            "\n",
            "Epoch 00045: val_acc did not improve from 0.96190\n",
            "Epoch 46/100\n",
            "22046/22046 [==============================] - 229s 10ms/step - loss: 0.1457 - acc: 0.9487 - val_loss: 0.1291 - val_acc: 0.9572\n",
            "\n",
            "Epoch 00046: val_acc did not improve from 0.96190\n",
            "Epoch 47/100\n",
            "22046/22046 [==============================] - 229s 10ms/step - loss: 0.1447 - acc: 0.9489 - val_loss: 0.1283 - val_acc: 0.9597\n",
            "\n",
            "Epoch 00047: val_acc did not improve from 0.96190\n",
            "Epoch 48/100\n",
            "22046/22046 [==============================] - 229s 10ms/step - loss: 0.1465 - acc: 0.9492 - val_loss: 0.1286 - val_acc: 0.9568\n",
            "\n",
            "Epoch 00048: val_acc did not improve from 0.96190\n",
            "Epoch 49/100\n",
            "22046/22046 [==============================] - 229s 10ms/step - loss: 0.1423 - acc: 0.9499 - val_loss: 0.1268 - val_acc: 0.9590\n",
            "\n",
            "Epoch 00049: val_acc did not improve from 0.96190\n",
            "Epoch 50/100\n",
            "22046/22046 [==============================] - 230s 10ms/step - loss: 0.1428 - acc: 0.9503 - val_loss: 0.1267 - val_acc: 0.9604\n",
            "\n",
            "Epoch 00050: val_acc did not improve from 0.96190\n",
            "Epoch 51/100\n",
            "22046/22046 [==============================] - 229s 10ms/step - loss: 0.1413 - acc: 0.9500 - val_loss: 0.1412 - val_acc: 0.9514\n",
            "\n",
            "Epoch 00051: val_acc did not improve from 0.96190\n",
            "Epoch 52/100\n",
            "22046/22046 [==============================] - 229s 10ms/step - loss: 0.1429 - acc: 0.9499 - val_loss: 0.1263 - val_acc: 0.9615\n",
            "\n",
            "Epoch 00052: val_acc did not improve from 0.96190\n",
            "Epoch 53/100\n",
            "22046/22046 [==============================] - 229s 10ms/step - loss: 0.1396 - acc: 0.9500 - val_loss: 0.1267 - val_acc: 0.9594\n",
            "\n",
            "Epoch 00053: val_acc did not improve from 0.96190\n",
            "Epoch 54/100\n",
            "22046/22046 [==============================] - 230s 10ms/step - loss: 0.1418 - acc: 0.9506 - val_loss: 0.1267 - val_acc: 0.9612\n",
            "\n",
            "Epoch 00054: val_acc did not improve from 0.96190\n",
            "Epoch 55/100\n",
            "22046/22046 [==============================] - 230s 10ms/step - loss: 0.1407 - acc: 0.9516 - val_loss: 0.1284 - val_acc: 0.9608\n",
            "\n",
            "Epoch 00055: val_acc did not improve from 0.96190\n",
            "Epoch 56/100\n",
            "22046/22046 [==============================] - 230s 10ms/step - loss: 0.1428 - acc: 0.9509 - val_loss: 0.1263 - val_acc: 0.9601\n",
            "\n",
            "Epoch 00056: val_acc did not improve from 0.96190\n",
            "Epoch 57/100\n",
            "22046/22046 [==============================] - 230s 10ms/step - loss: 0.1393 - acc: 0.9500 - val_loss: 0.1263 - val_acc: 0.9608\n",
            "\n",
            "Epoch 00057: val_acc did not improve from 0.96190\n",
            "Epoch 58/100\n",
            "22046/22046 [==============================] - 230s 10ms/step - loss: 0.1382 - acc: 0.9524 - val_loss: 0.1258 - val_acc: 0.9601\n",
            "\n",
            "Epoch 00058: val_acc did not improve from 0.96190\n",
            "Epoch 59/100\n",
            "22046/22046 [==============================] - 230s 10ms/step - loss: 0.1388 - acc: 0.9516 - val_loss: 0.1269 - val_acc: 0.9579\n",
            "\n",
            "Epoch 00059: val_acc did not improve from 0.96190\n",
            "Epoch 60/100\n",
            "22046/22046 [==============================] - 230s 10ms/step - loss: 0.1391 - acc: 0.9523 - val_loss: 0.1250 - val_acc: 0.9601\n",
            "\n",
            "Epoch 00060: val_acc did not improve from 0.96190\n",
            "Epoch 61/100\n",
            "22046/22046 [==============================] - 230s 10ms/step - loss: 0.1398 - acc: 0.9518 - val_loss: 0.1275 - val_acc: 0.9630\n",
            "\n",
            "Epoch 00061: val_acc improved from 0.96190 to 0.96299, saving model to weights/model_4.61-0.9630.hdf5\n",
            "Epoch 62/100\n",
            "22046/22046 [==============================] - 229s 10ms/step - loss: 0.1370 - acc: 0.9516 - val_loss: 0.1255 - val_acc: 0.9594\n",
            "\n",
            "Epoch 00062: val_acc did not improve from 0.96299\n",
            "Epoch 63/100\n",
            "22046/22046 [==============================] - 229s 10ms/step - loss: 0.1385 - acc: 0.9516 - val_loss: 0.1265 - val_acc: 0.9590\n",
            "\n",
            "Epoch 00063: val_acc did not improve from 0.96299\n",
            "Epoch 64/100\n",
            "22046/22046 [==============================] - 228s 10ms/step - loss: 0.1383 - acc: 0.9510 - val_loss: 0.1290 - val_acc: 0.9612\n",
            "\n",
            "Epoch 00064: val_acc did not improve from 0.96299\n",
            "Epoch 65/100\n",
            "22046/22046 [==============================] - 229s 10ms/step - loss: 0.1380 - acc: 0.9522 - val_loss: 0.1253 - val_acc: 0.9626\n",
            "\n",
            "Epoch 00065: val_acc did not improve from 0.96299\n",
            "Epoch 66/100\n",
            "22046/22046 [==============================] - 229s 10ms/step - loss: 0.1367 - acc: 0.9511 - val_loss: 0.1249 - val_acc: 0.9608\n",
            "\n",
            "Epoch 00066: val_acc did not improve from 0.96299\n",
            "Epoch 67/100\n",
            "22046/22046 [==============================] - 229s 10ms/step - loss: 0.1361 - acc: 0.9523 - val_loss: 0.1245 - val_acc: 0.9626\n",
            "\n",
            "Epoch 00067: val_acc did not improve from 0.96299\n",
            "Epoch 68/100\n",
            "22046/22046 [==============================] - 229s 10ms/step - loss: 0.1366 - acc: 0.9516 - val_loss: 0.1246 - val_acc: 0.9623\n",
            "\n",
            "Epoch 00068: val_acc did not improve from 0.96299\n",
            "Epoch 69/100\n",
            "22046/22046 [==============================] - 229s 10ms/step - loss: 0.1365 - acc: 0.9517 - val_loss: 0.1240 - val_acc: 0.9601\n",
            "\n",
            "Epoch 00069: val_acc did not improve from 0.96299\n",
            "Epoch 70/100\n",
            "22046/22046 [==============================] - 229s 10ms/step - loss: 0.1359 - acc: 0.9531 - val_loss: 0.1296 - val_acc: 0.9557\n",
            "\n",
            "Epoch 00070: val_acc did not improve from 0.96299\n",
            "Epoch 71/100\n",
            "22046/22046 [==============================] - 229s 10ms/step - loss: 0.1375 - acc: 0.9518 - val_loss: 0.1241 - val_acc: 0.9597\n",
            "\n",
            "Epoch 00071: val_acc did not improve from 0.96299\n",
            "Epoch 72/100\n",
            "22046/22046 [==============================] - 229s 10ms/step - loss: 0.1352 - acc: 0.9529 - val_loss: 0.1232 - val_acc: 0.9608\n",
            "\n",
            "Epoch 00072: val_acc did not improve from 0.96299\n",
            "Epoch 73/100\n",
            "22046/22046 [==============================] - 229s 10ms/step - loss: 0.1365 - acc: 0.9522 - val_loss: 0.1223 - val_acc: 0.9619\n",
            "\n",
            "Epoch 00073: val_acc did not improve from 0.96299\n",
            "Epoch 74/100\n",
            "22046/22046 [==============================] - 229s 10ms/step - loss: 0.1360 - acc: 0.9519 - val_loss: 0.1235 - val_acc: 0.9615\n",
            "\n",
            "Epoch 00074: val_acc did not improve from 0.96299\n",
            "Epoch 75/100\n",
            "22046/22046 [==============================] - 230s 10ms/step - loss: 0.1345 - acc: 0.9531 - val_loss: 0.1248 - val_acc: 0.9630\n",
            "\n",
            "Epoch 00075: val_acc did not improve from 0.96299\n",
            "Epoch 76/100\n",
            "22046/22046 [==============================] - 230s 10ms/step - loss: 0.1348 - acc: 0.9529 - val_loss: 0.1238 - val_acc: 0.9604\n",
            "\n",
            "Epoch 00076: val_acc did not improve from 0.96299\n",
            "Epoch 77/100\n",
            "22046/22046 [==============================] - 228s 10ms/step - loss: 0.1352 - acc: 0.9532 - val_loss: 0.1222 - val_acc: 0.9601\n",
            "\n",
            "Epoch 00077: val_acc did not improve from 0.96299\n",
            "Epoch 78/100\n",
            "22046/22046 [==============================] - 229s 10ms/step - loss: 0.1341 - acc: 0.9533 - val_loss: 0.1223 - val_acc: 0.9615\n",
            "\n",
            "Epoch 00078: val_acc did not improve from 0.96299\n",
            "Epoch 79/100\n",
            "22046/22046 [==============================] - 228s 10ms/step - loss: 0.1324 - acc: 0.9535 - val_loss: 0.1231 - val_acc: 0.9608\n",
            "\n",
            "Epoch 00079: val_acc did not improve from 0.96299\n",
            "Epoch 80/100\n",
            "22046/22046 [==============================] - 228s 10ms/step - loss: 0.1343 - acc: 0.9536 - val_loss: 0.1225 - val_acc: 0.9615\n",
            "\n",
            "Epoch 00080: val_acc did not improve from 0.96299\n",
            "Epoch 81/100\n",
            "22046/22046 [==============================] - 230s 10ms/step - loss: 0.1315 - acc: 0.9529 - val_loss: 0.1213 - val_acc: 0.9619\n",
            "\n",
            "Epoch 00081: val_acc did not improve from 0.96299\n",
            "Epoch 82/100\n",
            "22046/22046 [==============================] - 228s 10ms/step - loss: 0.1319 - acc: 0.9542 - val_loss: 0.1249 - val_acc: 0.9634\n",
            "\n",
            "Epoch 00082: val_acc improved from 0.96299 to 0.96335, saving model to weights/model_4.82-0.9634.hdf5\n",
            "Epoch 83/100\n",
            "22046/22046 [==============================] - 228s 10ms/step - loss: 0.1306 - acc: 0.9538 - val_loss: 0.1213 - val_acc: 0.9594\n",
            "\n",
            "Epoch 00083: val_acc did not improve from 0.96335\n",
            "Epoch 84/100\n",
            "22046/22046 [==============================] - 228s 10ms/step - loss: 0.1303 - acc: 0.9553 - val_loss: 0.1213 - val_acc: 0.9619\n",
            "\n",
            "Epoch 00084: val_acc did not improve from 0.96335\n",
            "Epoch 85/100\n",
            "21952/22046 [============================>.] - ETA: 0s - loss: 0.1334 - acc: 0.9539Buffered data was truncated after reaching the output size limit."
          ],
          "name": "stdout"
        }
      ]
    },
    {
      "metadata": {
        "id": "w2qN7ElfhH0y",
        "colab_type": "code",
        "colab": {}
      },
      "cell_type": "code",
      "source": [
        "train_loss=hist.history['loss']\n",
        "val_loss=hist.history['val_loss']\n",
        "train_acc=hist.history['acc']\n",
        "val_acc=hist.history['val_acc']\n",
        "xc=range(num_epoch)\n",
        "\n",
        "plt.figure(1,figsize=(20,10), dpi=100)\n",
        "plt.plot(xc,train_loss)\n",
        "plt.plot(xc,val_loss)\n",
        "plt.xlabel('num of Epochs')\n",
        "plt.ylabel('loss')\n",
        "plt.title('train_loss vs val_loss')\n",
        "plt.grid(True)\n",
        "plt.legend(['train','val'])\n",
        "plt.style.use(['classic'])\n",
        "\n",
        "plt.figure(2,figsize=(20,10), dpi=100)\n",
        "plt.plot(xc,train_acc)\n",
        "plt.plot(xc,val_acc)\n",
        "plt.xlabel('num of Epochs')\n",
        "plt.ylabel('accuracy')\n",
        "plt.title('train_acc vs val_acc')\n",
        "plt.grid(True)\n",
        "plt.legend(['train','val'])\n",
        "plt.style.use(['classic'])"
      ],
      "execution_count": 0,
      "outputs": []
    },
    {
      "metadata": {
        "id": "5IQUSlp3rnOK",
        "colab_type": "code",
        "colab": {}
      },
      "cell_type": "code",
      "source": [
        "#model.load_weights('weights/model_2.01-0.8546.hdf5') #modify for your own model"
      ],
      "execution_count": 0,
      "outputs": []
    },
    {
      "metadata": {
        "id": "n6z-ycnmqUbv",
        "colab_type": "code",
        "outputId": "9c7ab341-05b4-4cf7-90e7-8ba4b999cd5d",
        "colab": {
          "base_uri": "https://localhost:8080/",
          "height": 52
        }
      },
      "cell_type": "code",
      "source": [
        "y_pred = model.predict(X_test, batch_size=batch_size, verbose=1)\n",
        "\n",
        "# compute the accuracy\n",
        "Test_accuracy = accuracy_score(Y_test.argmax(axis=-1),y_pred.argmax(axis=-1))\n",
        "print(\"Test_Accuracy = \",Test_accuracy)"
      ],
      "execution_count": 39,
      "outputs": [
        {
          "output_type": "stream",
          "text": [
            "2756/2756 [==============================] - 25s 9ms/step\n",
            "Test_Accuracy =  0.9506531204644412\n"
          ],
          "name": "stdout"
        }
      ]
    },
    {
      "metadata": {
        "id": "MRheIRkc7N3V",
        "colab_type": "code",
        "colab": {
          "base_uri": "https://localhost:8080/",
          "height": 34
        },
        "outputId": "d015f03e-3019-460e-aa2f-1715a7f73083"
      },
      "cell_type": "code",
      "source": [
        "Test_accuracy"
      ],
      "execution_count": 40,
      "outputs": [
        {
          "output_type": "execute_result",
          "data": {
            "text/plain": [
              "0.9506531204644412"
            ]
          },
          "metadata": {
            "tags": []
          },
          "execution_count": 40
        }
      ]
    },
    {
      "metadata": {
        "id": "I8BVM7k8glUP",
        "colab_type": "code",
        "outputId": "62d12cf9-9677-4a3a-e124-1b4cdbfcf04b",
        "colab": {
          "base_uri": "https://localhost:8080/",
          "height": 238
        }
      },
      "cell_type": "code",
      "source": [
        "fpr = dict()\n",
        "tpr = dict()\n",
        "roc_auc = dict()\n",
        "for i in range(num_classes):\n",
        "    fpr[i], tpr[i], _ = roc_curve(Y_test[:, i], y_pred[:, i])\n",
        "    roc_auc[i] = auc(fpr[i], tpr[i])\n",
        "    \n",
        "# Compute micro-average ROC curve and ROC area\n",
        "fpr[\"micro\"], tpr[\"micro\"], _ = roc_curve(Y_test.ravel(), y_pred.ravel())\n",
        "roc_auc[\"micro\"] = auc(fpr[\"micro\"], tpr[\"micro\"])\n",
        "\n",
        "#Plot ROC curves\n",
        "plt.figure(figsize=(12,12), dpi=100)\n",
        "lw = 1\n",
        "plt.plot(fpr[1], tpr[1], color='red',\n",
        "         lw=lw, label='ROC curve (area = %0.4f)' % roc_auc[1])\n",
        "plt.plot([0, 1], [0, 1], color='black', lw=lw, linestyle='--')\n",
        "plt.xlim([0.0, 1.0])\n",
        "plt.ylim([0.0, 1.05])\n",
        "plt.xlabel('False Positive Rate')\n",
        "plt.ylabel('True Positive Rate')\n",
        "plt.title('Receiver operating characteristics')\n",
        "plt.legend(loc=\"lower right\")\n",
        "plt.show()\n",
        "\n",
        "# computhe the cross-entropy loss score\n",
        "score = log_loss(Y_test,y_pred)\n",
        "print(score)\n",
        "\n",
        "# compute the average precision score\n",
        "prec_score = average_precision_score(Y_test,y_pred)  \n",
        "print(prec_score)\n",
        "\n",
        "# transfer it back\n",
        "y_pred = np.argmax(y_pred, axis=1)\n",
        "Y_test = np.argmax(Y_test, axis=1)\n",
        "print(y_pred)\n",
        "print(Y_test)\n",
        "\n",
        "#save the predictions as a CSV file for further analysis\n",
        "#np.savetxt('custom_model_y_pred.csv',y_pred,fmt='%i',delimiter = \",\")\n",
        "#np.savetxt('custom_model_Y_test.csv',Y_test,fmt='%i',delimiter = \",\")"
      ],
      "execution_count": 48,
      "outputs": [
        {
          "output_type": "error",
          "ename": "IndexError",
          "evalue": "ignored",
          "traceback": [
            "\u001b[0;31m---------------------------------------------------------------------------\u001b[0m",
            "\u001b[0;31mIndexError\u001b[0m                                Traceback (most recent call last)",
            "\u001b[0;32m<ipython-input-48-cf82d4553024>\u001b[0m in \u001b[0;36m<module>\u001b[0;34m()\u001b[0m\n\u001b[1;32m      3\u001b[0m \u001b[0mroc_auc\u001b[0m \u001b[0;34m=\u001b[0m \u001b[0mdict\u001b[0m\u001b[0;34m(\u001b[0m\u001b[0;34m)\u001b[0m\u001b[0;34m\u001b[0m\u001b[0;34m\u001b[0m\u001b[0m\n\u001b[1;32m      4\u001b[0m \u001b[0;32mfor\u001b[0m \u001b[0mi\u001b[0m \u001b[0;32min\u001b[0m \u001b[0mrange\u001b[0m\u001b[0;34m(\u001b[0m\u001b[0mnum_classes\u001b[0m\u001b[0;34m)\u001b[0m\u001b[0;34m:\u001b[0m\u001b[0;34m\u001b[0m\u001b[0;34m\u001b[0m\u001b[0m\n\u001b[0;32m----> 5\u001b[0;31m     \u001b[0mfpr\u001b[0m\u001b[0;34m[\u001b[0m\u001b[0mi\u001b[0m\u001b[0;34m]\u001b[0m\u001b[0;34m,\u001b[0m \u001b[0mtpr\u001b[0m\u001b[0;34m[\u001b[0m\u001b[0mi\u001b[0m\u001b[0;34m]\u001b[0m\u001b[0;34m,\u001b[0m \u001b[0m_\u001b[0m \u001b[0;34m=\u001b[0m \u001b[0mroc_curve\u001b[0m\u001b[0;34m(\u001b[0m\u001b[0mY_test\u001b[0m\u001b[0;34m[\u001b[0m\u001b[0;34m:\u001b[0m\u001b[0;34m,\u001b[0m \u001b[0mi\u001b[0m\u001b[0;34m]\u001b[0m\u001b[0;34m,\u001b[0m \u001b[0my_pred\u001b[0m\u001b[0;34m[\u001b[0m\u001b[0;34m:\u001b[0m\u001b[0;34m,\u001b[0m \u001b[0mi\u001b[0m\u001b[0;34m]\u001b[0m\u001b[0;34m)\u001b[0m\u001b[0;34m\u001b[0m\u001b[0;34m\u001b[0m\u001b[0m\n\u001b[0m\u001b[1;32m      6\u001b[0m     \u001b[0mroc_auc\u001b[0m\u001b[0;34m[\u001b[0m\u001b[0mi\u001b[0m\u001b[0;34m]\u001b[0m \u001b[0;34m=\u001b[0m \u001b[0mauc\u001b[0m\u001b[0;34m(\u001b[0m\u001b[0mfpr\u001b[0m\u001b[0;34m[\u001b[0m\u001b[0mi\u001b[0m\u001b[0;34m]\u001b[0m\u001b[0;34m,\u001b[0m \u001b[0mtpr\u001b[0m\u001b[0;34m[\u001b[0m\u001b[0mi\u001b[0m\u001b[0;34m]\u001b[0m\u001b[0;34m)\u001b[0m\u001b[0;34m\u001b[0m\u001b[0;34m\u001b[0m\u001b[0m\n\u001b[1;32m      7\u001b[0m \u001b[0;34m\u001b[0m\u001b[0m\n",
            "\u001b[0;31mIndexError\u001b[0m: too many indices for array"
          ]
        }
      ]
    },
    {
      "metadata": {
        "id": "myX07oD57d3h",
        "colab_type": "code",
        "colab": {
          "base_uri": "https://localhost:8080/",
          "height": 70
        },
        "outputId": "c39385ca-790d-40e2-83b3-4f8ae5c788d7"
      },
      "cell_type": "code",
      "source": [
        "!ls"
      ],
      "execution_count": 43,
      "outputs": [
        {
          "output_type": "stream",
          "text": [
            "custom_model_y_pred.csv  malaria.zip  x_test.npy   y_test.npy\n",
            "custom_model_Y_test.csv  sample_data  x_train.npy  y_train.npy\n",
            "kaggle.json\t\t weights      x_val.npy    y_val.npy\n"
          ],
          "name": "stdout"
        }
      ]
    },
    {
      "metadata": {
        "id": "UfKrus_Gr2Kf",
        "colab_type": "code",
        "colab": {
          "base_uri": "https://localhost:8080/",
          "height": 1645
        },
        "outputId": "ea106193-5c82-4497-d58d-a4b65f1cdd9a"
      },
      "cell_type": "code",
      "source": [
        "target_names = ['class 0(abnormal)', 'class 1(normal)'] #decide the labels for your own data\n",
        "print(classification_report(Y_test,y_pred,target_names=target_names))\n",
        "print(confusion_matrix(Y_test,y_pred))\n",
        "cnf_matrix = (confusion_matrix(Y_test,y_pred))\n",
        "np.set_printoptions(precision=4)\n",
        "\n",
        "# Plot non-normalized confusion matrix\n",
        "plt.figure(figsize=(14,14), dpi=100)\n",
        "plot_confusion_matrix(cnf_matrix, classes=target_names,\n",
        "                  title='Confusion matrix')\n",
        "plt.show()"
      ],
      "execution_count": 46,
      "outputs": [
        {
          "output_type": "stream",
          "text": [
            "                   precision    recall  f1-score   support\n",
            "\n",
            "class 0(abnormal)       0.95      0.95      0.95      1409\n",
            "  class 1(normal)       0.95      0.95      0.95      1347\n",
            "\n",
            "        micro avg       0.95      0.95      0.95      2756\n",
            "        macro avg       0.95      0.95      0.95      2756\n",
            "     weighted avg       0.95      0.95      0.95      2756\n",
            "\n",
            "[[1343   66]\n",
            " [  70 1277]]\n",
            "Confusion matrix, without normalization\n",
            "[[1343   66]\n",
            " [  70 1277]]\n"
          ],
          "name": "stdout"
        },
        {
          "output_type": "display_data",
          "data": {
            "image/png": "[encoded data removed]",
            "text/plain": [
              "<Figure size 1400x1400 with 2 Axes>"
            ]
          },
          "metadata": {
            "tags": []
          }
        }
      ]
    },
    {
      "metadata": {
        "id": "mUbgYhXgmyEi",
        "colab_type": "code",
        "outputId": "856a04fb-d8e0-46a4-c42c-8d2d2cf6f8b7",
        "colab": {
          "base_uri": "https://localhost:8080/",
          "height": 34
        }
      },
      "cell_type": "code",
      "source": [
        "!mkdir files"
      ],
      "execution_count": 0,
      "outputs": [
        {
          "output_type": "stream",
          "text": [
            "mkdir: cannot create directory ‘files’: File exists\n"
          ],
          "name": "stdout"
        }
      ]
    },
    {
      "metadata": {
        "id": "P6Bj_sKdmyK1",
        "colab_type": "code",
        "outputId": "6b074d94-e50d-4d0c-cddc-a7ec5cdff288",
        "colab": {
          "base_uri": "https://localhost:8080/",
          "height": 51
        }
      },
      "cell_type": "code",
      "source": [
        "!ls"
      ],
      "execution_count": 0,
      "outputs": [
        {
          "output_type": "stream",
          "text": [
            "files\t     malaria.zip  vgg_1a.h5   x_train.npy  y_test.npy\ty_val.npy\n",
            "kaggle.json  sample_data  x_test.npy  x_val.npy    y_train.npy\n"
          ],
          "name": "stdout"
        }
      ]
    },
    {
      "metadata": {
        "id": "SrRehrb4mRDk",
        "colab_type": "code",
        "outputId": "9320116d-0337-40df-e673-8c8bcda7de64",
        "colab": {
          "base_uri": "https://localhost:8080/",
          "height": 34
        }
      },
      "cell_type": "code",
      "source": [
        "#pred_labels.shape"
      ],
      "execution_count": 0,
      "outputs": [
        {
          "output_type": "execute_result",
          "data": {
            "text/plain": [
              "(2756,)"
            ]
          },
          "metadata": {
            "tags": []
          },
          "execution_count": 30
        }
      ]
    },
    {
      "metadata": {
        "id": "3fj7_it8mRPX",
        "colab_type": "code",
        "outputId": "a6a947b4-6450-4e2d-8d23-3797a707349e",
        "colab": {
          "base_uri": "https://localhost:8080/",
          "height": 51
        }
      },
      "cell_type": "code",
      "source": [
        "#!cp pred_labels.npy files\n",
        "#!cp vgg_1a.h5 files\n"
      ],
      "execution_count": 0,
      "outputs": [
        {
          "output_type": "stream",
          "text": [
            "cp: cannot stat 'pred_labels.npy': No such file or directory\n",
            "cp: cannot stat 'vgg_1a.h5': No such file or directory\n"
          ],
          "name": "stdout"
        }
      ]
    },
    {
      "metadata": {
        "id": "_rWO1Q6Tl-dX",
        "colab_type": "code",
        "outputId": "5d52b0a3-6263-4aa2-9a22-a39ca746b307",
        "colab": {
          "base_uri": "https://localhost:8080/",
          "height": 68
        }
      },
      "cell_type": "code",
      "source": [
        "# zip folder\n",
        "#!zip -r files.zip files"
      ],
      "execution_count": 0,
      "outputs": [
        {
          "output_type": "stream",
          "text": [
            "  adding: files/ (stored 0%)\n",
            "  adding: files/pred_labels.npy (deflated 96%)\n",
            "  adding: files/vgg_1a.h5 (deflated 7%)\n"
          ],
          "name": "stdout"
        }
      ]
    },
    {
      "metadata": {
        "id": "sXq4KVlPw8v9",
        "colab_type": "code",
        "outputId": "58556963-78d2-4f69-d45f-221b7c9951c5",
        "colab": {
          "base_uri": "https://localhost:8080/",
          "height": 51
        }
      },
      "cell_type": "code",
      "source": [
        "!ls"
      ],
      "execution_count": 0,
      "outputs": [
        {
          "output_type": "stream",
          "text": [
            "files\t   kaggle.json\tsample_data  x_train.npy  y_test.npy   y_val.npy\n",
            "files.zip  malaria.zip\tx_test.npy   x_val.npy\t  y_train.npy\n"
          ],
          "name": "stdout"
        }
      ]
    },
    {
      "metadata": {
        "id": "ABOnul_WxkaP",
        "colab_type": "code",
        "colab": {}
      },
      "cell_type": "code",
      "source": [
        "from google.colab import files\n",
        "files.download('files.zip') "
      ],
      "execution_count": 0,
      "outputs": []
    },
    {
      "metadata": {
        "id": "JZ-HCWX3xxs5",
        "colab_type": "code",
        "colab": {}
      },
      "cell_type": "code",
      "source": [
        ""
      ],
      "execution_count": 0,
      "outputs": []
    }
  ]
}