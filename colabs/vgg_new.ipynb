{
  "nbformat": 4,
  "nbformat_minor": 0,
  "metadata": {
    "colab": {
      "name": "vgg-new.ipynb",
      "version": "0.3.2",
      "provenance": [],
      "collapsed_sections": [],
      "include_colab_link": true
    },
    "kernelspec": {
      "name": "python3",
      "display_name": "Python 3"
    },
    "accelerator": "GPU"
  },
  "cells": [
    {
      "cell_type": "markdown",
      "metadata": {
        "id": "view-in-github",
        "colab_type": "text"
      },
      "source": [
        "<a href=\"https://colab.research.google.com/github/hasibzunair/neuralwhat/blob/master/colabs/vgg_new.ipynb\" target=\"_parent\"><img src=\"https://colab.research.google.com/assets/colab-badge.svg\" alt=\"Open In Colab\"/></a>"
      ]
    },
    {
      "metadata": {
        "id": "tiEV3cHhSQ5u",
        "colab_type": "code",
        "colab": {}
      },
      "cell_type": "code",
      "source": [
        "import numpy as np\n",
        "import os\n",
        "import glob\n",
        "import cv2\n",
        "import random\n",
        "import matplotlib.pyplot as plt\n",
        "\n",
        "from imgaug import augmenters as iaa\n",
        "from keras.models import Sequential\n",
        "from keras.optimizers import RMSprop\n",
        "from keras.layers import Conv2D, MaxPooling2D\n",
        "from keras.layers import Activation, Dropout, Flatten, Dense\n",
        "from sklearn.utils import shuffle\n",
        "from sklearn.model_selection import train_test_split\n",
        "from keras import optimizers\n",
        "from keras.utils import to_categorical, plot_model\n",
        "from keras.layers import Dense, Input, Conv2D, Flatten, MaxPooling2D, Activation,  GlobalAveragePooling2D\n",
        "from keras.models import Model, Sequential\n",
        "from keras.layers import Activation, Dropout, Flatten, Dense\n",
        "from keras.callbacks import ModelCheckpoint\n",
        "from keras.optimizers import Adam\n",
        "from keras.applications.vgg16 import VGG16\n",
        "from keras.models import load_model\n",
        "from keras.utils import np_utils\n",
        "from keras import backend as K\n",
        "\n",
        "np.random.seed(1)"
      ],
      "execution_count": 0,
      "outputs": []
    },
    {
      "metadata": {
        "id": "SOd7fODrVyra",
        "colab_type": "code",
        "outputId": "e92bb047-ecfa-4132-e02f-3e60216af521",
        "colab": {
          "base_uri": "https://localhost:8080/",
          "height": 35
        }
      },
      "cell_type": "code",
      "source": [
        "!ls"
      ],
      "execution_count": 3,
      "outputs": [
        {
          "output_type": "stream",
          "text": [
            "sample_data\n"
          ],
          "name": "stdout"
        }
      ]
    },
    {
      "metadata": {
        "id": "vXarwaVqznvy",
        "colab_type": "code",
        "colab": {}
      },
      "cell_type": "code",
      "source": [
        "!pip install -U -q kaggle\n",
        "!mkdir -p ~/.kaggle"
      ],
      "execution_count": 0,
      "outputs": []
    },
    {
      "metadata": {
        "id": "qsoVbwN9UVNE",
        "colab_type": "code",
        "outputId": "f3f9ca66-21ef-4795-8036-71fe7aa89a6c",
        "colab": {
          "resources": {
            "http://localhost:8080/nbextensions/google.colab/files.js": {
              "data": "Ly8gQ29weXJpZ2h0IDIwMTcgR29vZ2xlIExMQwovLwovLyBMaWNlbnNlZCB1bmRlciB0aGUgQXBhY2hlIExpY2Vuc2UsIFZlcnNpb24gMi4wICh0aGUgIkxpY2Vuc2UiKTsKLy8geW91IG1heSBub3QgdXNlIHRoaXMgZmlsZSBleGNlcHQgaW4gY29tcGxpYW5jZSB3aXRoIHRoZSBMaWNlbnNlLgovLyBZb3UgbWF5IG9idGFpbiBhIGNvcHkgb2YgdGhlIExpY2Vuc2UgYXQKLy8KLy8gICAgICBodHRwOi8vd3d3LmFwYWNoZS5vcmcvbGljZW5zZXMvTElDRU5TRS0yLjAKLy8KLy8gVW5sZXNzIHJlcXVpcmVkIGJ5IGFwcGxpY2FibGUgbGF3IG9yIGFncmVlZCB0byBpbiB3cml0aW5nLCBzb2Z0d2FyZQovLyBkaXN0cmlidXRlZCB1bmRlciB0aGUgTGljZW5zZSBpcyBkaXN0cmlidXRlZCBvbiBhbiAiQVMgSVMiIEJBU0lTLAovLyBXSVRIT1VUIFdBUlJBTlRJRVMgT1IgQ09ORElUSU9OUyBPRiBBTlkgS0lORCwgZWl0aGVyIGV4cHJlc3Mgb3IgaW1wbGllZC4KLy8gU2VlIHRoZSBMaWNlbnNlIGZvciB0aGUgc3BlY2lmaWMgbGFuZ3VhZ2UgZ292ZXJuaW5nIHBlcm1pc3Npb25zIGFuZAovLyBsaW1pdGF0aW9ucyB1bmRlciB0aGUgTGljZW5zZS4KCi8qKgogKiBAZmlsZW92ZXJ2aWV3IEhlbHBlcnMgZm9yIGdvb2dsZS5jb2xhYiBQeXRob24gbW9kdWxlLgogKi8KKGZ1bmN0aW9uKHNjb3BlKSB7CmZ1bmN0aW9uIHNwYW4odGV4dCwgc3R5bGVBdHRyaWJ1dGVzID0ge30pIHsKICBjb25zdCBlbGVtZW50ID0gZG9jdW1lbnQuY3JlYXRlRWxlbWVudCgnc3BhbicpOwogIGVsZW1lbnQudGV4dENvbnRlbnQgPSB0ZXh0OwogIGZvciAoY29uc3Qga2V5IG9mIE9iamVjdC5rZXlzKHN0eWxlQXR0cmlidXRlcykpIHsKICAgIGVsZW1lbnQuc3R5bGVba2V5XSA9IHN0eWxlQXR0cmlidXRlc1trZXldOwogIH0KICByZXR1cm4gZWxlbWVudDsKfQoKLy8gTWF4IG51bWJlciBvZiBieXRlcyB3aGljaCB3aWxsIGJlIHVwbG9hZGVkIGF0IGEgdGltZS4KY29uc3QgTUFYX1BBWUxPQURfU0laRSA9IDEwMCAqIDEwMjQ7Ci8vIE1heCBhbW91bnQgb2YgdGltZSB0byBibG9jayB3YWl0aW5nIGZvciB0aGUgdXNlci4KY29uc3QgRklMRV9DSEFOR0VfVElNRU9VVF9NUyA9IDMwICogMTAwMDsKCmZ1bmN0aW9uIF91cGxvYWRGaWxlcyhpbnB1dElkLCBvdXRwdXRJZCkgewogIGNvbnN0IHN0ZXBzID0gdXBsb2FkRmlsZXNTdGVwKGlucHV0SWQsIG91dHB1dElkKTsKICBjb25zdCBvdXRwdXRFbGVtZW50ID0gZG9jdW1lbnQuZ2V0RWxlbWVudEJ5SWQob3V0cHV0SWQpOwogIC8vIENhY2hlIHN0ZXBzIG9uIHRoZSBvdXRwdXRFbGVtZW50IHRvIG1ha2UgaXQgYXZhaWxhYmxlIGZvciB0aGUgbmV4dCBjYWxsCiAgLy8gdG8gdXBsb2FkRmlsZXNDb250aW51ZSBmcm9tIFB5dGhvbi4KICBvdXRwdXRFbGVtZW50LnN0ZXBzID0gc3RlcHM7CgogIHJldHVybiBfdXBsb2FkRmlsZXNDb250aW51ZShvdXRwdXRJZCk7Cn0KCi8vIFRoaXMgaXMgcm91Z2hseSBhbiBhc3luYyBnZW5lcmF0b3IgKG5vdCBzdXBwb3J0ZWQgaW4gdGhlIGJyb3dzZXIgeWV0KSwKLy8gd2hlcmUgdGhlcmUgYXJlIG11bHRpcGxlIGFzeW5jaHJvbm91cyBzdGVwcyBhbmQgdGhlIFB5dGhvbiBzaWRlIGlzIGdvaW5nCi8vIHRvIHBvbGwgZm9yIGNvbXBsZXRpb24gb2YgZWFjaCBzdGVwLgovLyBUaGlzIHVzZXMgYSBQcm9taXNlIHRvIGJsb2NrIHRoZSBweXRob24gc2lkZSBvbiBjb21wbGV0aW9uIG9mIGVhY2ggc3RlcCwKLy8gdGhlbiBwYXNzZXMgdGhlIHJlc3VsdCBvZiB0aGUgcHJldmlvdXMgc3RlcCBhcyB0aGUgaW5wdXQgdG8gdGhlIG5leHQgc3RlcC4KZnVuY3Rpb24gX3VwbG9hZEZpbGVzQ29udGludWUob3V0cHV0SWQpIHsKICBjb25zdCBvdXRwdXRFbGVtZW50ID0gZG9jdW1lbnQuZ2V0RWxlbWVudEJ5SWQob3V0cHV0SWQpOwogIGNvbnN0IHN0ZXBzID0gb3V0cHV0RWxlbWVudC5zdGVwczsKCiAgY29uc3QgbmV4dCA9IHN0ZXBzLm5leHQob3V0cHV0RWxlbWVudC5sYXN0UHJvbWlzZVZhbHVlKTsKICByZXR1cm4gUHJvbWlzZS5yZXNvbHZlKG5leHQudmFsdWUucHJvbWlzZSkudGhlbigodmFsdWUpID0+IHsKICAgIC8vIENhY2hlIHRoZSBsYXN0IHByb21pc2UgdmFsdWUgdG8gbWFrZSBpdCBhdmFpbGFibGUgdG8gdGhlIG5leHQKICAgIC8vIHN0ZXAgb2YgdGhlIGdlbmVyYXRvci4KICAgIG91dHB1dEVsZW1lbnQubGFzdFByb21pc2VWYWx1ZSA9IHZhbHVlOwogICAgcmV0dXJuIG5leHQudmFsdWUucmVzcG9uc2U7CiAgfSk7Cn0KCi8qKgogKiBHZW5lcmF0b3IgZnVuY3Rpb24gd2hpY2ggaXMgY2FsbGVkIGJldHdlZW4gZWFjaCBhc3luYyBzdGVwIG9mIHRoZSB1cGxvYWQKICogcHJvY2Vzcy4KICogQHBhcmFtIHtzdHJpbmd9IGlucHV0SWQgRWxlbWVudCBJRCBvZiB0aGUgaW5wdXQgZmlsZSBwaWNrZXIgZWxlbWVudC4KICogQHBhcmFtIHtzdHJpbmd9IG91dHB1dElkIEVsZW1lbnQgSUQgb2YgdGhlIG91dHB1dCBkaXNwbGF5LgogKiBAcmV0dXJuIHshSXRlcmFibGU8IU9iamVjdD59IEl0ZXJhYmxlIG9mIG5leHQgc3RlcHMuCiAqLwpmdW5jdGlvbiogdXBsb2FkRmlsZXNTdGVwKGlucHV0SWQsIG91dHB1dElkKSB7CiAgY29uc3QgaW5wdXRFbGVtZW50ID0gZG9jdW1lbnQuZ2V0RWxlbWVudEJ5SWQoaW5wdXRJZCk7CiAgaW5wdXRFbGVtZW50LmRpc2FibGVkID0gZmFsc2U7CgogIGNvbnN0IG91dHB1dEVsZW1lbnQgPSBkb2N1bWVudC5nZXRFbGVtZW50QnlJZChvdXRwdXRJZCk7CiAgb3V0cHV0RWxlbWVudC5pbm5lckhUTUwgPSAnJzsKCiAgY29uc3QgcGlja2VkUHJvbWlzZSA9IG5ldyBQcm9taXNlKChyZXNvbHZlKSA9PiB7CiAgICBpbnB1dEVsZW1lbnQuYWRkRXZlbnRMaXN0ZW5lcignY2hhbmdlJywgKGUpID0+IHsKICAgICAgcmVzb2x2ZShlLnRhcmdldC5maWxlcyk7CiAgICB9KTsKICB9KTsKCiAgY29uc3QgY2FuY2VsID0gZG9jdW1lbnQuY3JlYXRlRWxlbWVudCgnYnV0dG9uJyk7CiAgaW5wdXRFbGVtZW50LnBhcmVudEVsZW1lbnQuYXBwZW5kQ2hpbGQoY2FuY2VsKTsKICBjYW5jZWwudGV4dENvbnRlbnQgPSAnQ2FuY2VsIHVwbG9hZCc7CiAgY29uc3QgY2FuY2VsUHJvbWlzZSA9IG5ldyBQcm9taXNlKChyZXNvbHZlKSA9PiB7CiAgICBjYW5jZWwub25jbGljayA9ICgpID0+IHsKICAgICAgcmVzb2x2ZShudWxsKTsKICAgIH07CiAgfSk7CgogIC8vIENhbmNlbCB1cGxvYWQgaWYgdXNlciBoYXNuJ3QgcGlja2VkIGFueXRoaW5nIGluIHRpbWVvdXQuCiAgY29uc3QgdGltZW91dFByb21pc2UgPSBuZXcgUHJvbWlzZSgocmVzb2x2ZSkgPT4gewogICAgc2V0VGltZW91dCgoKSA9PiB7CiAgICAgIHJlc29sdmUobnVsbCk7CiAgICB9LCBGSUxFX0NIQU5HRV9USU1FT1VUX01TKTsKICB9KTsKCiAgLy8gV2FpdCBmb3IgdGhlIHVzZXIgdG8gcGljayB0aGUgZmlsZXMuCiAgY29uc3QgZmlsZXMgPSB5aWVsZCB7CiAgICBwcm9taXNlOiBQcm9taXNlLnJhY2UoW3BpY2tlZFByb21pc2UsIHRpbWVvdXRQcm9taXNlLCBjYW5jZWxQcm9taXNlXSksCiAgICByZXNwb25zZTogewogICAgICBhY3Rpb246ICdzdGFydGluZycsCiAgICB9CiAgfTsKCiAgaWYgKCFmaWxlcykgewogICAgcmV0dXJuIHsKICAgICAgcmVzcG9uc2U6IHsKICAgICAgICBhY3Rpb246ICdjb21wbGV0ZScsCiAgICAgIH0KICAgIH07CiAgfQoKICBjYW5jZWwucmVtb3ZlKCk7CgogIC8vIERpc2FibGUgdGhlIGlucHV0IGVsZW1lbnQgc2luY2UgZnVydGhlciBwaWNrcyBhcmUgbm90IGFsbG93ZWQuCiAgaW5wdXRFbGVtZW50LmRpc2FibGVkID0gdHJ1ZTsKCiAgZm9yIChjb25zdCBmaWxlIG9mIGZpbGVzKSB7CiAgICBjb25zdCBsaSA9IGRvY3VtZW50LmNyZWF0ZUVsZW1lbnQoJ2xpJyk7CiAgICBsaS5hcHBlbmQoc3BhbihmaWxlLm5hbWUsIHtmb250V2VpZ2h0OiAnYm9sZCd9KSk7CiAgICBsaS5hcHBlbmQoc3BhbigKICAgICAgICBgKCR7ZmlsZS50eXBlIHx8ICduL2EnfSkgLSAke2ZpbGUuc2l6ZX0gYnl0ZXMsIGAgKwogICAgICAgIGBsYXN0IG1vZGlmaWVkOiAkewogICAgICAgICAgICBmaWxlLmxhc3RNb2RpZmllZERhdGUgPyBmaWxlLmxhc3RNb2RpZmllZERhdGUudG9Mb2NhbGVEYXRlU3RyaW5nKCkgOgogICAgICAgICAgICAgICAgICAgICAgICAgICAgICAgICAgICAnbi9hJ30gLSBgKSk7CiAgICBjb25zdCBwZXJjZW50ID0gc3BhbignMCUgZG9uZScpOwogICAgbGkuYXBwZW5kQ2hpbGQocGVyY2VudCk7CgogICAgb3V0cHV0RWxlbWVudC5hcHBlbmRDaGlsZChsaSk7CgogICAgY29uc3QgZmlsZURhdGFQcm9taXNlID0gbmV3IFByb21pc2UoKHJlc29sdmUpID0+IHsKICAgICAgY29uc3QgcmVhZGVyID0gbmV3IEZpbGVSZWFkZXIoKTsKICAgICAgcmVhZGVyLm9ubG9hZCA9IChlKSA9PiB7CiAgICAgICAgcmVzb2x2ZShlLnRhcmdldC5yZXN1bHQpOwogICAgICB9OwogICAgICByZWFkZXIucmVhZEFzQXJyYXlCdWZmZXIoZmlsZSk7CiAgICB9KTsKICAgIC8vIFdhaXQgZm9yIHRoZSBkYXRhIHRvIGJlIHJlYWR5LgogICAgbGV0IGZpbGVEYXRhID0geWllbGQgewogICAgICBwcm9taXNlOiBmaWxlRGF0YVByb21pc2UsCiAgICAgIHJlc3BvbnNlOiB7CiAgICAgICAgYWN0aW9uOiAnY29udGludWUnLAogICAgICB9CiAgICB9OwoKICAgIC8vIFVzZSBhIGNodW5rZWQgc2VuZGluZyB0byBhdm9pZCBtZXNzYWdlIHNpemUgbGltaXRzLiBTZWUgYi82MjExNTY2MC4KICAgIGxldCBwb3NpdGlvbiA9IDA7CiAgICB3aGlsZSAocG9zaXRpb24gPCBmaWxlRGF0YS5ieXRlTGVuZ3RoKSB7CiAgICAgIGNvbnN0IGxlbmd0aCA9IE1hdGgubWluKGZpbGVEYXRhLmJ5dGVMZW5ndGggLSBwb3NpdGlvbiwgTUFYX1BBWUxPQURfU0laRSk7CiAgICAgIGNvbnN0IGNodW5rID0gbmV3IFVpbnQ4QXJyYXkoZmlsZURhdGEsIHBvc2l0aW9uLCBsZW5ndGgpOwogICAgICBwb3NpdGlvbiArPSBsZW5ndGg7CgogICAgICBjb25zdCBiYXNlNjQgPSBidG9hKFN0cmluZy5mcm9tQ2hhckNvZGUuYXBwbHkobnVsbCwgY2h1bmspKTsKICAgICAgeWllbGQgewogICAgICAgIHJlc3BvbnNlOiB7CiAgICAgICAgICBhY3Rpb246ICdhcHBlbmQnLAogICAgICAgICAgZmlsZTogZmlsZS5uYW1lLAogICAgICAgICAgZGF0YTogYmFzZTY0LAogICAgICAgIH0sCiAgICAgIH07CiAgICAgIHBlcmNlbnQudGV4dENvbnRlbnQgPQogICAgICAgICAgYCR7TWF0aC5yb3VuZCgocG9zaXRpb24gLyBmaWxlRGF0YS5ieXRlTGVuZ3RoKSAqIDEwMCl9JSBkb25lYDsKICAgIH0KICB9CgogIC8vIEFsbCBkb25lLgogIHlpZWxkIHsKICAgIHJlc3BvbnNlOiB7CiAgICAgIGFjdGlvbjogJ2NvbXBsZXRlJywKICAgIH0KICB9Owp9CgpzY29wZS5nb29nbGUgPSBzY29wZS5nb29nbGUgfHwge307CnNjb3BlLmdvb2dsZS5jb2xhYiA9IHNjb3BlLmdvb2dsZS5jb2xhYiB8fCB7fTsKc2NvcGUuZ29vZ2xlLmNvbGFiLl9maWxlcyA9IHsKICBfdXBsb2FkRmlsZXMsCiAgX3VwbG9hZEZpbGVzQ29udGludWUsCn07Cn0pKHNlbGYpOwo=",
              "ok": true,
              "headers": [
                [
                  "content-type",
                  "application/javascript"
                ]
              ],
              "status": 200,
              "status_text": ""
            }
          },
          "base_uri": "https://localhost:8080/",
          "height": 93
        }
      },
      "cell_type": "code",
      "source": [
        "from google.colab import files\n",
        "\n",
        "uploaded = files.upload()\n",
        "\n",
        "for fn in uploaded.keys():\n",
        "  print('User uploaded file \"{name}\" with length {length} bytes'.format(\n",
        "      name=fn, length=len(uploaded[fn])))"
      ],
      "execution_count": 5,
      "outputs": [
        {
          "output_type": "display_data",
          "data": {
            "text/html": [
              "\n",
              "     <input type=\"file\" id=\"files-f75d48fe-8c47-4245-a43d-0aa37a1ba52e\" name=\"files[]\" multiple disabled />\n",
              "     <output id=\"result-f75d48fe-8c47-4245-a43d-0aa37a1ba52e\">\n",
              "      Upload widget is only available when the cell has been executed in the\n",
              "      current browser session. Please rerun this cell to enable.\n",
              "      </output>\n",
              "      <script src=\"/nbextensions/google.colab/files.js\"></script> "
            ],
            "text/plain": [
              "<IPython.core.display.HTML object>"
            ]
          },
          "metadata": {
            "tags": []
          }
        },
        {
          "output_type": "stream",
          "text": [
            "Saving kaggle.json to kaggle.json\n",
            "User uploaded file \"kaggle.json\" with length 67 bytes\n"
          ],
          "name": "stdout"
        }
      ]
    },
    {
      "metadata": {
        "id": "nY5PzDDCMVkg",
        "colab_type": "code",
        "outputId": "5cc78041-15b3-401b-c285-2613718f3300",
        "colab": {
          "base_uri": "https://localhost:8080/",
          "height": 35
        }
      },
      "cell_type": "code",
      "source": [
        "!ls"
      ],
      "execution_count": 6,
      "outputs": [
        {
          "output_type": "stream",
          "text": [
            "kaggle.json  sample_data\n"
          ],
          "name": "stdout"
        }
      ]
    },
    {
      "metadata": {
        "id": "cUuuu_vrWAQY",
        "colab_type": "code",
        "colab": {}
      },
      "cell_type": "code",
      "source": [
        "!cp kaggle.json ~/.kaggle/"
      ],
      "execution_count": 0,
      "outputs": []
    },
    {
      "metadata": {
        "id": "riPFNpayXg76",
        "colab_type": "code",
        "outputId": "1f8e60d6-5616-40f8-f39e-46c228a44d2c",
        "colab": {
          "base_uri": "https://localhost:8080/",
          "height": 90
        }
      },
      "cell_type": "code",
      "source": [
        "!kaggle datasets download -d hasibzunair/malaria"
      ],
      "execution_count": 8,
      "outputs": [
        {
          "output_type": "stream",
          "text": [
            "Warning: Your Kaggle API key is readable by other users on this system! To fix this, you can run 'chmod 600 /root/.kaggle/kaggle.json'\n",
            "Downloading malaria.zip to /content\n",
            "100% 811M/815M [00:26<00:00, 28.2MB/s]\n",
            "100% 815M/815M [00:26<00:00, 31.7MB/s]\n"
          ],
          "name": "stdout"
        }
      ]
    },
    {
      "metadata": {
        "id": "2V3kkM-ZX6y_",
        "colab_type": "code",
        "outputId": "5077261e-7ca2-4a8e-9507-6028d3b56a67",
        "colab": {
          "base_uri": "https://localhost:8080/",
          "height": 35
        }
      },
      "cell_type": "code",
      "source": [
        "!ls"
      ],
      "execution_count": 9,
      "outputs": [
        {
          "output_type": "stream",
          "text": [
            "kaggle.json  malaria.zip  sample_data\n"
          ],
          "name": "stdout"
        }
      ]
    },
    {
      "metadata": {
        "id": "w4GI7_AIYh7o",
        "colab_type": "code",
        "outputId": "6bce1c89-0062-4fdc-f6a4-a84ed41ad63f",
        "colab": {
          "base_uri": "https://localhost:8080/",
          "height": 145
        }
      },
      "cell_type": "code",
      "source": [
        "!unzip 'malaria.zip'"
      ],
      "execution_count": 10,
      "outputs": [
        {
          "output_type": "stream",
          "text": [
            "Archive:  malaria.zip\n",
            "  inflating: y_test.npy              \n",
            "  inflating: x_test.npy              \n",
            "  inflating: y_train.npy             \n",
            "  inflating: y_val.npy               \n",
            "  inflating: x_train.npy             \n",
            "  inflating: x_val.npy               \n"
          ],
          "name": "stdout"
        }
      ]
    },
    {
      "metadata": {
        "id": "7YEH44-4pjyZ",
        "colab_type": "code",
        "outputId": "fc1b05d4-1508-40af-eb61-ac9983efdd2c",
        "colab": {
          "base_uri": "https://localhost:8080/",
          "height": 35
        }
      },
      "cell_type": "code",
      "source": [
        "x_train = np.load(\"x_train.npy\")\n",
        "y_train = np.load(\"y_train.npy\")\n",
        "x_train.shape, y_train.shape"
      ],
      "execution_count": 11,
      "outputs": [
        {
          "output_type": "execute_result",
          "data": {
            "text/plain": [
              "((22046, 200, 200, 3), (22046, 2))"
            ]
          },
          "metadata": {
            "tags": []
          },
          "execution_count": 11
        }
      ]
    },
    {
      "metadata": {
        "id": "gKzI376uppjH",
        "colab_type": "code",
        "outputId": "4224d519-37d3-4c22-bbbb-67c9660fccd4",
        "colab": {
          "base_uri": "https://localhost:8080/",
          "height": 35
        }
      },
      "cell_type": "code",
      "source": [
        "x_val = np.load(\"x_val.npy\")\n",
        "y_val = np.load(\"y_val.npy\")\n",
        "x_val.shape, y_val.shape"
      ],
      "execution_count": 12,
      "outputs": [
        {
          "output_type": "execute_result",
          "data": {
            "text/plain": [
              "((2756, 200, 200, 3), (2756, 2))"
            ]
          },
          "metadata": {
            "tags": []
          },
          "execution_count": 12
        }
      ]
    },
    {
      "metadata": {
        "id": "z1oTbkw2p2tt",
        "colab_type": "code",
        "outputId": "d2ea1c3b-31e0-422c-8574-6ce800f3267b",
        "colab": {
          "base_uri": "https://localhost:8080/",
          "height": 35
        }
      },
      "cell_type": "code",
      "source": [
        "x_test = np.load(\"x_test.npy\")\n",
        "y_test = np.load(\"y_test.npy\")\n",
        "x_test.shape, y_test.shape"
      ],
      "execution_count": 13,
      "outputs": [
        {
          "output_type": "execute_result",
          "data": {
            "text/plain": [
              "((2756, 200, 200, 3), (2756, 2))"
            ]
          },
          "metadata": {
            "tags": []
          },
          "execution_count": 13
        }
      ]
    },
    {
      "metadata": {
        "id": "PHebp2hWcRKp",
        "colab_type": "code",
        "outputId": "596c3f53-dc3b-4d53-d7aa-ac9c2d4ba528",
        "colab": {
          "base_uri": "https://localhost:8080/",
          "height": 54
        }
      },
      "cell_type": "code",
      "source": [
        "print(x_train.shape, y_train.shape)\n",
        "print(x_val.shape, x_test.shape, y_val.shape, y_test.shape)"
      ],
      "execution_count": 14,
      "outputs": [
        {
          "output_type": "stream",
          "text": [
            "(22046, 200, 200, 3) (22046, 2)\n",
            "(2756, 200, 200, 3) (2756, 200, 200, 3) (2756, 2) (2756, 2)\n"
          ],
          "name": "stdout"
        }
      ]
    },
    {
      "metadata": {
        "colab_type": "code",
        "id": "gHYInTAGqb11",
        "outputId": "723ddf8e-e15c-469a-d2d1-73bf928093b3",
        "colab": {
          "base_uri": "https://localhost:8080/",
          "height": 35
        }
      },
      "cell_type": "code",
      "source": [
        "IMAGE_SIZE = x_train.shape[1]\n",
        "IMAGE_SIZE"
      ],
      "execution_count": 15,
      "outputs": [
        {
          "output_type": "execute_result",
          "data": {
            "text/plain": [
              "200"
            ]
          },
          "metadata": {
            "tags": []
          },
          "execution_count": 15
        }
      ]
    },
    {
      "metadata": {
        "id": "gTiAb2ucfhF8",
        "colab_type": "code",
        "outputId": "d0ae17e3-9d18-4472-f19c-26da9d51abb0",
        "colab": {
          "base_uri": "https://localhost:8080/",
          "height": 1017
        }
      },
      "cell_type": "code",
      "source": [
        "# model with ALL layers frozen, except for the SOFTNAX layer\n",
        "def get_model_exp1_a():\n",
        "    base_model = VGG16(weights='imagenet',include_top=False,pooling='avg',input_shape=(IMAGE_SIZE, IMAGE_SIZE, 3))\n",
        "    base_model.trainable = False\n",
        "    X = base_model.output\n",
        "    X.trainable = False\n",
        "    \n",
        "    X = Dense(1024, activation='relu')(X)\n",
        "    X = Dropout(0.5)(X)\n",
        "    X = Dense(512, activation='relu')(X)\n",
        "    predictions = Dense(2, activation='softmax')(X)\n",
        "    \n",
        "    # magical line of freezing layers\n",
        "    for layer in base_model.layers[:-4]:\n",
        "        #print(layer)\n",
        "        layer.trainable=False\n",
        "    \n",
        "    model = Model(inputs=base_model.input, outputs=predictions)\n",
        "    model.compile(loss='binary_crossentropy', optimizer=optimizers.SGD(lr=1e-4, momentum=0.9), metrics=['accuracy'])\n",
        "    return model\n",
        "\n",
        "model=None\n",
        "model=get_model_exp1_a()\n",
        "model.summary()"
      ],
      "execution_count": 18,
      "outputs": [
        {
          "output_type": "stream",
          "text": [
            "_________________________________________________________________\n",
            "Layer (type)                 Output Shape              Param #   \n",
            "=================================================================\n",
            "input_3 (InputLayer)         (None, 200, 200, 3)       0         \n",
            "_________________________________________________________________\n",
            "block1_conv1 (Conv2D)        (None, 200, 200, 64)      1792      \n",
            "_________________________________________________________________\n",
            "block1_conv2 (Conv2D)        (None, 200, 200, 64)      36928     \n",
            "_________________________________________________________________\n",
            "block1_pool (MaxPooling2D)   (None, 100, 100, 64)      0         \n",
            "_________________________________________________________________\n",
            "block2_conv1 (Conv2D)        (None, 100, 100, 128)     73856     \n",
            "_________________________________________________________________\n",
            "block2_conv2 (Conv2D)        (None, 100, 100, 128)     147584    \n",
            "_________________________________________________________________\n",
            "block2_pool (MaxPooling2D)   (None, 50, 50, 128)       0         \n",
            "_________________________________________________________________\n",
            "block3_conv1 (Conv2D)        (None, 50, 50, 256)       295168    \n",
            "_________________________________________________________________\n",
            "block3_conv2 (Conv2D)        (None, 50, 50, 256)       590080    \n",
            "_________________________________________________________________\n",
            "block3_conv3 (Conv2D)        (None, 50, 50, 256)       590080    \n",
            "_________________________________________________________________\n",
            "block3_pool (MaxPooling2D)   (None, 25, 25, 256)       0         \n",
            "_________________________________________________________________\n",
            "block4_conv1 (Conv2D)        (None, 25, 25, 512)       1180160   \n",
            "_________________________________________________________________\n",
            "block4_conv2 (Conv2D)        (None, 25, 25, 512)       2359808   \n",
            "_________________________________________________________________\n",
            "block4_conv3 (Conv2D)        (None, 25, 25, 512)       2359808   \n",
            "_________________________________________________________________\n",
            "block4_pool (MaxPooling2D)   (None, 12, 12, 512)       0         \n",
            "_________________________________________________________________\n",
            "block5_conv1 (Conv2D)        (None, 12, 12, 512)       2359808   \n",
            "_________________________________________________________________\n",
            "block5_conv2 (Conv2D)        (None, 12, 12, 512)       2359808   \n",
            "_________________________________________________________________\n",
            "block5_conv3 (Conv2D)        (None, 12, 12, 512)       2359808   \n",
            "_________________________________________________________________\n",
            "block5_pool (MaxPooling2D)   (None, 6, 6, 512)         0         \n",
            "_________________________________________________________________\n",
            "global_average_pooling2d_3 ( (None, 512)               0         \n",
            "_________________________________________________________________\n",
            "dense_7 (Dense)              (None, 1024)              525312    \n",
            "_________________________________________________________________\n",
            "dropout_3 (Dropout)          (None, 1024)              0         \n",
            "_________________________________________________________________\n",
            "dense_8 (Dense)              (None, 512)               524800    \n",
            "_________________________________________________________________\n",
            "dense_9 (Dense)              (None, 2)                 1026      \n",
            "=================================================================\n",
            "Total params: 15,765,826\n",
            "Trainable params: 5,770,754\n",
            "Non-trainable params: 9,995,072\n",
            "_________________________________________________________________\n"
          ],
          "name": "stdout"
        }
      ]
    },
    {
      "metadata": {
        "id": "4ZqXHwe37gRF",
        "colab_type": "code",
        "outputId": "060d0e15-2f31-40d8-a565-be7b3d464adc",
        "colab": {
          "base_uri": "https://localhost:8080/",
          "height": 35
        }
      },
      "cell_type": "code",
      "source": [
        "# check input\n",
        "print(x_train.shape, y_train.shape, x_val.shape, y_val.shape, x_test.shape, y_test.shape)"
      ],
      "execution_count": 19,
      "outputs": [
        {
          "output_type": "stream",
          "text": [
            "(22046, 200, 200, 3) (22046, 2) (2756, 200, 200, 3) (2756, 2) (2756, 200, 200, 3) (2756, 2)\n"
          ],
          "name": "stdout"
        }
      ]
    },
    {
      "metadata": {
        "id": "uUTy2tgnstHJ",
        "colab_type": "code",
        "colab": {}
      },
      "cell_type": "code",
      "source": [
        "#!rm -f \"vgg_1a.h5\""
      ],
      "execution_count": 0,
      "outputs": []
    },
    {
      "metadata": {
        "id": "y4ikeUhUgKp0",
        "colab_type": "code",
        "outputId": "82e652d8-a9b7-426a-c6de-28872c2679e5",
        "colab": {
          "base_uri": "https://localhost:8080/",
          "height": 1565
        }
      },
      "cell_type": "code",
      "source": [
        "model=get_model_exp1_a()\n",
        "path_model='vgg16_1a.h5'  \n",
        "\n",
        "# set the learning rate (set while compiling model)\n",
        "#K.set_value(model.optimizer.lr, 0.01) \n",
        "\n",
        "h=model.fit(x=x_train,     \n",
        "            y=y_train, \n",
        "            batch_size=64, \n",
        "            epochs=40, \n",
        "            verbose=1, \n",
        "            validation_data=(x_val,y_val),\n",
        "            shuffle=True,\n",
        "            callbacks=[\n",
        "                ModelCheckpoint(filepath=path_model),\n",
        "            ]\n",
        "            )\n",
        "\n"
      ],
      "execution_count": 20,
      "outputs": [
        {
          "output_type": "stream",
          "text": [
            "WARNING:tensorflow:From /usr/local/lib/python3.6/dist-packages/tensorflow/python/ops/math_ops.py:3066: to_int32 (from tensorflow.python.ops.math_ops) is deprecated and will be removed in a future version.\n",
            "Instructions for updating:\n",
            "Use tf.cast instead.\n",
            "Train on 22046 samples, validate on 2756 samples\n",
            "Epoch 1/40\n",
            "22046/22046 [==============================] - 213s 10ms/step - loss: 0.2299 - acc: 0.9178 - val_loss: 0.1248 - val_acc: 0.9601\n",
            "Epoch 2/40\n",
            "22046/22046 [==============================] - 202s 9ms/step - loss: 0.1381 - acc: 0.9544 - val_loss: 0.1139 - val_acc: 0.9623\n",
            "Epoch 3/40\n",
            "22046/22046 [==============================] - 202s 9ms/step - loss: 0.1248 - acc: 0.9574 - val_loss: 0.1110 - val_acc: 0.9641\n",
            "Epoch 4/40\n",
            "22046/22046 [==============================] - 202s 9ms/step - loss: 0.1223 - acc: 0.9585 - val_loss: 0.1064 - val_acc: 0.9634\n",
            "Epoch 5/40\n",
            "22046/22046 [==============================] - 202s 9ms/step - loss: 0.1177 - acc: 0.9601 - val_loss: 0.1035 - val_acc: 0.9637\n",
            "Epoch 6/40\n",
            "22046/22046 [==============================] - 203s 9ms/step - loss: 0.1131 - acc: 0.9620 - val_loss: 0.1056 - val_acc: 0.9634\n",
            "Epoch 7/40\n",
            "22046/22046 [==============================] - 202s 9ms/step - loss: 0.1098 - acc: 0.9620 - val_loss: 0.1043 - val_acc: 0.9641\n",
            "Epoch 8/40\n",
            "22046/22046 [==============================] - 202s 9ms/step - loss: 0.1067 - acc: 0.9625 - val_loss: 0.0980 - val_acc: 0.9648\n",
            "Epoch 9/40\n",
            "22046/22046 [==============================] - 202s 9ms/step - loss: 0.1050 - acc: 0.9628 - val_loss: 0.0982 - val_acc: 0.9652\n",
            "Epoch 10/40\n",
            "22046/22046 [==============================] - 201s 9ms/step - loss: 0.1031 - acc: 0.9643 - val_loss: 0.0975 - val_acc: 0.9666\n",
            "Epoch 11/40\n",
            "22046/22046 [==============================] - 201s 9ms/step - loss: 0.0987 - acc: 0.9652 - val_loss: 0.0976 - val_acc: 0.9659\n",
            "Epoch 12/40\n",
            "22046/22046 [==============================] - 201s 9ms/step - loss: 0.0960 - acc: 0.9662 - val_loss: 0.0949 - val_acc: 0.9677\n",
            "Epoch 13/40\n",
            "22046/22046 [==============================] - 201s 9ms/step - loss: 0.0933 - acc: 0.9661 - val_loss: 0.0955 - val_acc: 0.9670\n",
            "Epoch 14/40\n",
            "22046/22046 [==============================] - 202s 9ms/step - loss: 0.0906 - acc: 0.9680 - val_loss: 0.1055 - val_acc: 0.9630\n",
            "Epoch 15/40\n",
            "22046/22046 [==============================] - 202s 9ms/step - loss: 0.0892 - acc: 0.9667 - val_loss: 0.0939 - val_acc: 0.9673\n",
            "Epoch 16/40\n",
            "22046/22046 [==============================] - 202s 9ms/step - loss: 0.0883 - acc: 0.9694 - val_loss: 0.0920 - val_acc: 0.9684\n",
            "Epoch 17/40\n",
            "22046/22046 [==============================] - 202s 9ms/step - loss: 0.0876 - acc: 0.9687 - val_loss: 0.0950 - val_acc: 0.9684\n",
            "Epoch 18/40\n",
            "22046/22046 [==============================] - 203s 9ms/step - loss: 0.0823 - acc: 0.9704 - val_loss: 0.0900 - val_acc: 0.9688\n",
            "Epoch 19/40\n",
            "22046/22046 [==============================] - 203s 9ms/step - loss: 0.0809 - acc: 0.9706 - val_loss: 0.0936 - val_acc: 0.9684\n",
            "Epoch 20/40\n",
            "22046/22046 [==============================] - 203s 9ms/step - loss: 0.0803 - acc: 0.9713 - val_loss: 0.0945 - val_acc: 0.9673\n",
            "Epoch 21/40\n",
            "22046/22046 [==============================] - 203s 9ms/step - loss: 0.0778 - acc: 0.9717 - val_loss: 0.0916 - val_acc: 0.9699\n",
            "Epoch 22/40\n",
            "22046/22046 [==============================] - 203s 9ms/step - loss: 0.0743 - acc: 0.9740 - val_loss: 0.0924 - val_acc: 0.9692\n",
            "Epoch 23/40\n",
            "22046/22046 [==============================] - 203s 9ms/step - loss: 0.0736 - acc: 0.9735 - val_loss: 0.0934 - val_acc: 0.9688\n",
            "Epoch 24/40\n",
            "22046/22046 [==============================] - 202s 9ms/step - loss: 0.0703 - acc: 0.9752 - val_loss: 0.0934 - val_acc: 0.9684\n",
            "Epoch 25/40\n",
            "22046/22046 [==============================] - 202s 9ms/step - loss: 0.0707 - acc: 0.9744 - val_loss: 0.0950 - val_acc: 0.9695\n",
            "Epoch 26/40\n",
            "22046/22046 [==============================] - 202s 9ms/step - loss: 0.0696 - acc: 0.9750 - val_loss: 0.0928 - val_acc: 0.9702\n",
            "Epoch 27/40\n",
            "22046/22046 [==============================] - 202s 9ms/step - loss: 0.0671 - acc: 0.9766 - val_loss: 0.0903 - val_acc: 0.9706\n",
            "Epoch 28/40\n",
            "22046/22046 [==============================] - 203s 9ms/step - loss: 0.0657 - acc: 0.9757 - val_loss: 0.0956 - val_acc: 0.9713\n",
            "Epoch 29/40\n",
            "22046/22046 [==============================] - 202s 9ms/step - loss: 0.0639 - acc: 0.9771 - val_loss: 0.0906 - val_acc: 0.9706\n",
            "Epoch 30/40\n",
            "22046/22046 [==============================] - 203s 9ms/step - loss: 0.0625 - acc: 0.9771 - val_loss: 0.0998 - val_acc: 0.9677\n",
            "Epoch 31/40\n",
            "22046/22046 [==============================] - 203s 9ms/step - loss: 0.0609 - acc: 0.9782 - val_loss: 0.0894 - val_acc: 0.9706\n",
            "Epoch 32/40\n",
            "22046/22046 [==============================] - 202s 9ms/step - loss: 0.0596 - acc: 0.9785 - val_loss: 0.0945 - val_acc: 0.9699\n",
            "Epoch 33/40\n",
            "22046/22046 [==============================] - 202s 9ms/step - loss: 0.0579 - acc: 0.9796 - val_loss: 0.0904 - val_acc: 0.9710\n",
            "Epoch 34/40\n",
            "22046/22046 [==============================] - 203s 9ms/step - loss: 0.0531 - acc: 0.9808 - val_loss: 0.0913 - val_acc: 0.9695\n",
            "Epoch 35/40\n",
            "22046/22046 [==============================] - 203s 9ms/step - loss: 0.0549 - acc: 0.9800 - val_loss: 0.0948 - val_acc: 0.9692\n",
            "Epoch 36/40\n",
            "22046/22046 [==============================] - 202s 9ms/step - loss: 0.0526 - acc: 0.9810 - val_loss: 0.0921 - val_acc: 0.9713\n",
            "Epoch 37/40\n",
            "22046/22046 [==============================] - 203s 9ms/step - loss: 0.0507 - acc: 0.9819 - val_loss: 0.0912 - val_acc: 0.9706\n",
            "Epoch 38/40\n",
            "22046/22046 [==============================] - 203s 9ms/step - loss: 0.0477 - acc: 0.9831 - val_loss: 0.0924 - val_acc: 0.9706\n",
            "Epoch 39/40\n",
            "22046/22046 [==============================] - 202s 9ms/step - loss: 0.0486 - acc: 0.9833 - val_loss: 0.0906 - val_acc: 0.9724\n",
            "Epoch 40/40\n",
            "22046/22046 [==============================] - 203s 9ms/step - loss: 0.0474 - acc: 0.9833 - val_loss: 0.0964 - val_acc: 0.9699\n"
          ],
          "name": "stdout"
        }
      ]
    },
    {
      "metadata": {
        "id": "61WMnn7R2L-i",
        "colab_type": "code",
        "colab": {}
      },
      "cell_type": "code",
      "source": [
        "#precision = keras_metrics.precision()\n",
        "#recall = keras_metrics.recall()\n",
        "#f1 = keras_metrics.f1_score()\n",
        "\n",
        "#metrics=[precision, recall, f1, 'acc']"
      ],
      "execution_count": 0,
      "outputs": []
    },
    {
      "metadata": {
        "id": "w2qN7ElfhH0y",
        "colab_type": "code",
        "colab": {}
      },
      "cell_type": "code",
      "source": [
        " def plot_loss_accu(history):\n",
        "    loss = history.history['loss']\n",
        "    val_loss = history.history['val_loss']\n",
        "    epochs = range(len(loss))\n",
        "    plt.plot(epochs, loss, 'g')\n",
        "    plt.plot(epochs, val_loss, 'y')\n",
        "    plt.title('Training loss')\n",
        "    plt.legend(['train', 'val'], loc='upper right')\n",
        "    plt.grid()\n",
        "    plt.show()\n",
        "    loss = history.history['acc']\n",
        "    val_loss = history.history['val_acc']\n",
        "    epochs = range(len(loss))\n",
        "    plt.plot(epochs, loss, 'r')\n",
        "    plt.plot(epochs, val_loss, 'b')\n",
        "    plt.title('Training accuracy')\n",
        "    plt.legend(['train', 'val'], loc='lower right')\n",
        "    plt.grid()\n",
        "    plt.show()"
      ],
      "execution_count": 0,
      "outputs": []
    },
    {
      "metadata": {
        "id": "obPywb3KhH6n",
        "colab_type": "code",
        "outputId": "d94ba1d1-f206-4c64-ac50-a9b9e8009f8b",
        "colab": {
          "base_uri": "https://localhost:8080/",
          "height": 708
        }
      },
      "cell_type": "code",
      "source": [
        "plot_loss_accu(h)"
      ],
      "execution_count": 22,
      "outputs": [
        {
          "output_type": "display_data",
          "data": {
            "image/png": "[encoded data removed]",
            "text/plain": [
              "<Figure size 576x396 with 1 Axes>"
            ]
          },
          "metadata": {
            "tags": []
          }
        },
        {
          "output_type": "display_data",
          "data": {
            "image/png": "[encoded data removed]",
            "text/plain": [
              "<Figure size 576x396 with 1 Axes>"
            ]
          },
          "metadata": {
            "tags": []
          }
        }
      ]
    },
    {
      "metadata": {
        "id": "n6z-ycnmqUbv",
        "colab_type": "code",
        "outputId": "2a4b5384-d04b-40ca-e524-c356fc4c8b60",
        "colab": {
          "base_uri": "https://localhost:8080/",
          "height": 54
        }
      },
      "cell_type": "code",
      "source": [
        "score = model.evaluate(x_test, y_test, verbose=0)\n",
        "print('Test loss:', score[0])\n",
        "print('Test accuracy:', score[1])"
      ],
      "execution_count": 23,
      "outputs": [
        {
          "output_type": "stream",
          "text": [
            "Test loss: 0.1210846807923529\n",
            "Test accuracy: 0.9611756168359942\n"
          ],
          "name": "stdout"
        }
      ]
    },
    {
      "metadata": {
        "id": "ku3vj6N0vyR9",
        "colab_type": "text"
      },
      "cell_type": "markdown",
      "source": [
        "| Experiments | Train | Val  | Test | Others \n",
        "|------|------|------|------|------|\n",
        "|   1a   | |    |   |  \n",
        "|   VGG   | xx | xx  | xx  | \n",
        "|   VGG   | xx| xx   | xx  | "
      ]
    },
    {
      "metadata": {
        "id": "I8BVM7k8glUP",
        "colab_type": "code",
        "outputId": "1fcd99d1-1066-46ee-a2f6-c04f8d2a0bd1",
        "colab": {
          "base_uri": "https://localhost:8080/",
          "height": 34
        }
      },
      "cell_type": "code",
      "source": [
        "def accuracy(x_test):\n",
        "  y_pred = model.predict(x_test)\n",
        "  # get labels from predictions\n",
        "  pred_labels = np.array([np.argmax(pred) for pred in y_pred])\n",
        "  #convert ground truths to column values\n",
        "  y_test = np.argmax(y_test, axis=1)\n",
        "  accuracy = np.mean((y_test==pred_labels)))\n",
        "  return accuracy\n",
        "\n",
        "def evaluate_error(x_test):\n",
        "    pred = model.predict(x_test, batch_size = 32)\n",
        "    pred = np.argmax(pred, axis=1)\n",
        "    pred = np.expand_dims(pred, axis=1) # make same shape as y_test\n",
        "    error = np.sum(np.not_equal(pred, y_test)) / y_test.shape[0]  \n",
        "    return error\n",
        "  "
      ],
      "execution_count": 0,
      "outputs": [
        {
          "output_type": "execute_result",
          "data": {
            "text/plain": [
              "(2756, 2)"
            ]
          },
          "metadata": {
            "tags": []
          },
          "execution_count": 58
        }
      ]
    },
    {
      "metadata": {
        "id": "S79QTd_svvU-",
        "colab_type": "code",
        "colab": {}
      },
      "cell_type": "code",
      "source": [
        "y_pred = model.predict(x_test)\n",
        "# get labels from predictions\n",
        "pred_labels = np.array([np.argmax(pred) for pred in y_pred])\n",
        "#convert ground truths to column values\n",
        "y_test = np.argmax(y_test, axis=1)\n",
        "accuracy = np.mean((y_test==pred_labels))\n"
      ],
      "execution_count": 0,
      "outputs": []
    },
    {
      "metadata": {
        "id": "zuf1y-PSv9Na",
        "colab_type": "code",
        "outputId": "389f6bc5-6466-4250-8bf0-c8a5e9c49ec1",
        "colab": {
          "base_uri": "https://localhost:8080/",
          "height": 34
        }
      },
      "cell_type": "code",
      "source": [
        "accuracy"
      ],
      "execution_count": 0,
      "outputs": [
        {
          "output_type": "execute_result",
          "data": {
            "text/plain": [
              "0.9357764876632801"
            ]
          },
          "metadata": {
            "tags": []
          },
          "execution_count": 29
        }
      ]
    },
    {
      "metadata": {
        "id": "mUbgYhXgmyEi",
        "colab_type": "code",
        "colab": {}
      },
      "cell_type": "code",
      "source": [
        "!mkdir files"
      ],
      "execution_count": 0,
      "outputs": []
    },
    {
      "metadata": {
        "id": "P6Bj_sKdmyK1",
        "colab_type": "code",
        "outputId": "6b074d94-e50d-4d0c-cddc-a7ec5cdff288",
        "colab": {
          "base_uri": "https://localhost:8080/",
          "height": 51
        }
      },
      "cell_type": "code",
      "source": [
        "!ls"
      ],
      "execution_count": 0,
      "outputs": [
        {
          "output_type": "stream",
          "text": [
            "files\t     malaria.zip  vgg_1a.h5   x_train.npy  y_test.npy\ty_val.npy\n",
            "kaggle.json  sample_data  x_test.npy  x_val.npy    y_train.npy\n"
          ],
          "name": "stdout"
        }
      ]
    },
    {
      "metadata": {
        "id": "SrRehrb4mRDk",
        "colab_type": "code",
        "outputId": "28854fd5-0f73-4be2-811b-e32c5db9523a",
        "colab": {
          "base_uri": "https://localhost:8080/",
          "height": 34
        }
      },
      "cell_type": "code",
      "source": [
        "pred_labels.shape"
      ],
      "execution_count": 0,
      "outputs": [
        {
          "output_type": "execute_result",
          "data": {
            "text/plain": [
              "(2756,)"
            ]
          },
          "metadata": {
            "tags": []
          },
          "execution_count": 31
        }
      ]
    },
    {
      "metadata": {
        "id": "vxQMB24MwmgX",
        "colab_type": "code",
        "outputId": "18450bb7-770d-4cbb-d999-bf2115113a7f",
        "colab": {
          "base_uri": "https://localhost:8080/",
          "height": 51
        }
      },
      "cell_type": "code",
      "source": [
        "!os.listdir(\"files/\")"
      ],
      "execution_count": 0,
      "outputs": [
        {
          "output_type": "stream",
          "text": [
            "/bin/bash: -c: line 0: syntax error near unexpected token `\"files/\"'\n",
            "/bin/bash: -c: line 0: `os.listdir(\"files/\")'\n"
          ],
          "name": "stdout"
        }
      ]
    },
    {
      "metadata": {
        "id": "02QnyafKwLbQ",
        "colab_type": "code",
        "outputId": "629ecfc9-17a7-4d0d-8a3e-8104eb52b2c8",
        "colab": {
          "base_uri": "https://localhost:8080/",
          "height": 51
        }
      },
      "cell_type": "code",
      "source": [
        "np.save(\"pred_labels.npy\",pred_labels)\n",
        "!ls"
      ],
      "execution_count": 0,
      "outputs": [
        {
          "output_type": "stream",
          "text": [
            "files\t     malaria.zip      sample_data  x_test.npy\tx_val.npy   y_train.npy\n",
            "kaggle.json  pred_labels.npy  vgg16_1a.h5  x_train.npy\ty_test.npy  y_val.npy\n"
          ],
          "name": "stdout"
        }
      ]
    },
    {
      "metadata": {
        "id": "3fj7_it8mRPX",
        "colab_type": "code",
        "colab": {}
      },
      "cell_type": "code",
      "source": [
        "!cp pred_labels.npy files"
      ],
      "execution_count": 0,
      "outputs": []
    },
    {
      "metadata": {
        "id": "_rWO1Q6Tl-dX",
        "colab_type": "code",
        "outputId": "bad931db-7c03-401a-a5ea-feb25a7b81d6",
        "colab": {
          "base_uri": "https://localhost:8080/",
          "height": 51
        }
      },
      "cell_type": "code",
      "source": [
        "# zip folder\n",
        "!zip -r files.zip files"
      ],
      "execution_count": 0,
      "outputs": [
        {
          "output_type": "stream",
          "text": [
            "  adding: files/ (stored 0%)\n",
            "  adding: files/pred_labels.npy (deflated 96%)\n"
          ],
          "name": "stdout"
        }
      ]
    },
    {
      "metadata": {
        "id": "sXq4KVlPw8v9",
        "colab_type": "code",
        "outputId": "c19e4c5f-4ef9-4862-c3a3-ab5683a6c1bc",
        "colab": {
          "base_uri": "https://localhost:8080/",
          "height": 68
        }
      },
      "cell_type": "code",
      "source": [
        "!ls"
      ],
      "execution_count": 0,
      "outputs": [
        {
          "output_type": "stream",
          "text": [
            "files\t     malaria.zip      vgg16_1a.h5  x_val.npy\ty_val.npy\n",
            "files.zip    pred_labels.npy  x_test.npy   y_test.npy\n",
            "kaggle.json  sample_data      x_train.npy  y_train.npy\n"
          ],
          "name": "stdout"
        }
      ]
    },
    {
      "metadata": {
        "id": "ABOnul_WxkaP",
        "colab_type": "code",
        "colab": {}
      },
      "cell_type": "code",
      "source": [
        "from google.colab import files\n",
        "files.download('files.zip') "
      ],
      "execution_count": 0,
      "outputs": []
    },
    {
      "metadata": {
        "id": "JZ-HCWX3xxs5",
        "colab_type": "code",
        "colab": {}
      },
      "cell_type": "code",
      "source": [
        ""
      ],
      "execution_count": 0,
      "outputs": []
    }
  ]
}