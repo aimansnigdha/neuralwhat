{
  "nbformat": 4,
  "nbformat_minor": 0,
  "metadata": {
    "colab": {
      "name": "ensemble.ipynb",
      "version": "0.3.2",
      "provenance": [],
      "collapsed_sections": [],
      "include_colab_link": true
    },
    "kernelspec": {
      "name": "python3",
      "display_name": "Python 3"
    }
  },
  "cells": [
    {
      "cell_type": "markdown",
      "metadata": {
        "id": "view-in-github",
        "colab_type": "text"
      },
      "source": [
        "<a href=\"https://colab.research.google.com/github/hasibzunair/neuralwhat/blob/master/colabs/ensemble.ipynb\" target=\"_parent\"><img src=\"https://colab.research.google.com/assets/colab-badge.svg\" alt=\"Open In Colab\"/></a>"
      ]
    },
    {
      "metadata": {
        "id": "zCJTHd9T6CFX",
        "colab_type": "code",
        "colab": {
          "base_uri": "https://localhost:8080/",
          "height": 34
        },
        "outputId": "b122d4d8-a9d9-463a-b722-11f93a23f352"
      },
      "cell_type": "code",
      "source": [
        "import numpy as np\n",
        "import os\n",
        "import matplotlib.pyplot as plt\n",
        "from keras.models import load_model"
      ],
      "execution_count": 1,
      "outputs": [
        {
          "output_type": "stream",
          "text": [
            "Using TensorFlow backend.\n"
          ],
          "name": "stderr"
        }
      ]
    },
    {
      "metadata": {
        "id": "0Qd5yNCkyc86",
        "colab_type": "code",
        "colab": {}
      },
      "cell_type": "code",
      "source": [
        "def accuracy(x_test):\n",
        "  y_pred = model.predict(x_test)\n",
        "  # get labels from predictions\n",
        "  pred_labels = np.array([np.argmax(pred) for pred in y_pred])\n",
        "  #convert ground truths to column values\n",
        "  y_test = np.argmax(y_test, axis=1)\n",
        "  accuracy = np.mean((y_test==pred_labels)))\n",
        "  return accuracy\n",
        "\n",
        "def evaluate_error(x_test):\n",
        "    pred = model.predict(x_test, batch_size = 32)\n",
        "    pred = np.argmax(pred, axis=1)\n",
        "    pred = np.expand_dims(pred, axis=1) # make same shape as y_test\n",
        "    error = np.sum(np.not_equal(pred, y_test)) / y_test.shape[0]  \n",
        "    return error\n",
        "  "
      ],
      "execution_count": 0,
      "outputs": []
    },
    {
      "metadata": {
        "id": "rlvz72MKxn5i",
        "colab_type": "code",
        "colab": {
          "base_uri": "https://localhost:8080/",
          "height": 122
        },
        "outputId": "f5c47128-9acc-48fc-d581-b5814a5096a9"
      },
      "cell_type": "code",
      "source": [
        "# save files in drive\n",
        "from google.colab import drive\n",
        "drive.mount('/content/gdrive')"
      ],
      "execution_count": 5,
      "outputs": [
        {
          "output_type": "stream",
          "text": [
            "Go to this URL in a browser: https://accounts.google.com/o/oauth2/auth?client_id=947318989803-6bn6qk8qdgf4n4g3pfee6491hc0brc4i.apps.googleusercontent.com&redirect_uri=urn%3Aietf%3Awg%3Aoauth%3A2.0%3Aoob&scope=email%20https%3A%2F%2Fwww.googleapis.com%2Fauth%2Fdocs.test%20https%3A%2F%2Fwww.googleapis.com%2Fauth%2Fdrive%20https%3A%2F%2Fwww.googleapis.com%2Fauth%2Fdrive.photos.readonly%20https%3A%2F%2Fwww.googleapis.com%2Fauth%2Fpeopleapi.readonly&response_type=code\n",
            "\n",
            "Enter your authorization code:\n",
            "··········\n",
            "Mounted at /content/gdrive\n"
          ],
          "name": "stdout"
        }
      ]
    },
    {
      "metadata": {
        "id": "lackpdYyxLtD",
        "colab_type": "code",
        "colab": {}
      },
      "cell_type": "code",
      "source": [
        "!rm -f inference.zip"
      ],
      "execution_count": 0,
      "outputs": []
    },
    {
      "metadata": {
        "id": "n6C6PnGqxIyt",
        "colab_type": "code",
        "colab": {}
      },
      "cell_type": "code",
      "source": [
        "!cp \"/content/gdrive/My Drive/RBC Localization/works/inference.zip\" test"
      ],
      "execution_count": 0,
      "outputs": []
    },
    {
      "metadata": {
        "id": "kC03EkaJ79Zl",
        "colab_type": "code",
        "outputId": "56e75d57-d635-4a21-a4e8-079e03cdb964",
        "colab": {
          "base_uri": "https://localhost:8080/",
          "height": 34
        }
      },
      "cell_type": "code",
      "source": [
        "!ls"
      ],
      "execution_count": 10,
      "outputs": [
        {
          "output_type": "stream",
          "text": [
            "gdrive\tsample_data  test\n"
          ],
          "name": "stdout"
        }
      ]
    },
    {
      "metadata": {
        "id": "uoTBxfMpIBdh",
        "colab_type": "code",
        "outputId": "37bb7bb3-2056-4aad-a7ff-6226c1669e6f",
        "colab": {
          "base_uri": "https://localhost:8080/",
          "height": 102
        }
      },
      "cell_type": "code",
      "source": [
        "!unzip test/inference.zip"
      ],
      "execution_count": 11,
      "outputs": [
        {
          "output_type": "stream",
          "text": [
            "Archive:  test/inference.zip\n",
            "  inflating: inference/naive.h5      \n",
            "  inflating: inference/vgg.h5        \n",
            "  inflating: inference/x_test.npy    \n",
            "  inflating: inference/y_test.npy    \n"
          ],
          "name": "stdout"
        }
      ]
    },
    {
      "metadata": {
        "id": "zdZqiEAfIFNw",
        "colab_type": "code",
        "outputId": "62de6a6d-5322-4b2e-ff4c-0b75d0e2177e",
        "colab": {
          "base_uri": "https://localhost:8080/",
          "height": 34
        }
      },
      "cell_type": "code",
      "source": [
        "!ls"
      ],
      "execution_count": 12,
      "outputs": [
        {
          "output_type": "stream",
          "text": [
            "gdrive\tinference  sample_data\ttest\n"
          ],
          "name": "stdout"
        }
      ]
    },
    {
      "metadata": {
        "id": "feeeReHgIIF_",
        "colab_type": "code",
        "outputId": "44e71b75-71ac-461b-b80b-ab97851e5846",
        "colab": {
          "base_uri": "https://localhost:8080/",
          "height": 34
        }
      },
      "cell_type": "code",
      "source": [
        "os.listdir(\"inference\")"
      ],
      "execution_count": 13,
      "outputs": [
        {
          "output_type": "execute_result",
          "data": {
            "text/plain": [
              "['x_test.npy', 'naive.h5', 'vgg.h5', 'y_test.npy']"
            ]
          },
          "metadata": {
            "tags": []
          },
          "execution_count": 13
        }
      ]
    },
    {
      "metadata": {
        "id": "5O6SU7VQIN7E",
        "colab_type": "code",
        "outputId": "edbf92e7-66f0-4fbb-a780-df9324a58229",
        "colab": {
          "base_uri": "https://localhost:8080/",
          "height": 34
        }
      },
      "cell_type": "code",
      "source": [
        "x_test = np.load(\"inference/x_test.npy\")\n",
        "y_test = np.load(\"inference/y_test.npy\")\n",
        "\n",
        "x_test.shape, y_test.shape"
      ],
      "execution_count": 14,
      "outputs": [
        {
          "output_type": "execute_result",
          "data": {
            "text/plain": [
              "((2756, 200, 200, 3), (2756, 2))"
            ]
          },
          "metadata": {
            "tags": []
          },
          "execution_count": 14
        }
      ]
    },
    {
      "metadata": {
        "id": "UlSoQe9INZ4a",
        "colab_type": "code",
        "colab": {}
      },
      "cell_type": "code",
      "source": [
        "#plt.imshow(x_test[9])"
      ],
      "execution_count": 0,
      "outputs": []
    },
    {
      "metadata": {
        "id": "3kNcoAkhIVoR",
        "colab_type": "code",
        "outputId": "d1d0dd30-2f38-4af8-d8f5-b1d85d1942d7",
        "colab": {
          "base_uri": "https://localhost:8080/",
          "height": 850
        }
      },
      "cell_type": "code",
      "source": [
        "model_1 = load_model(\"inference/vgg.h5\")\n",
        "model_1.summary()"
      ],
      "execution_count": 16,
      "outputs": [
        {
          "output_type": "stream",
          "text": [
            "_________________________________________________________________\n",
            "Layer (type)                 Output Shape              Param #   \n",
            "=================================================================\n",
            "input_4 (InputLayer)         (None, 200, 200, 3)       0         \n",
            "_________________________________________________________________\n",
            "block1_conv1 (Conv2D)        (None, 200, 200, 64)      1792      \n",
            "_________________________________________________________________\n",
            "block1_conv2 (Conv2D)        (None, 200, 200, 64)      36928     \n",
            "_________________________________________________________________\n",
            "block1_pool (MaxPooling2D)   (None, 100, 100, 64)      0         \n",
            "_________________________________________________________________\n",
            "block2_conv1 (Conv2D)        (None, 100, 100, 128)     73856     \n",
            "_________________________________________________________________\n",
            "block2_conv2 (Conv2D)        (None, 100, 100, 128)     147584    \n",
            "_________________________________________________________________\n",
            "block2_pool (MaxPooling2D)   (None, 50, 50, 128)       0         \n",
            "_________________________________________________________________\n",
            "block3_conv1 (Conv2D)        (None, 50, 50, 256)       295168    \n",
            "_________________________________________________________________\n",
            "block3_conv2 (Conv2D)        (None, 50, 50, 256)       590080    \n",
            "_________________________________________________________________\n",
            "block3_conv3 (Conv2D)        (None, 50, 50, 256)       590080    \n",
            "_________________________________________________________________\n",
            "block3_pool (MaxPooling2D)   (None, 25, 25, 256)       0         \n",
            "_________________________________________________________________\n",
            "block4_conv1 (Conv2D)        (None, 25, 25, 512)       1180160   \n",
            "_________________________________________________________________\n",
            "block4_conv2 (Conv2D)        (None, 25, 25, 512)       2359808   \n",
            "_________________________________________________________________\n",
            "block4_conv3 (Conv2D)        (None, 25, 25, 512)       2359808   \n",
            "_________________________________________________________________\n",
            "block4_pool (MaxPooling2D)   (None, 12, 12, 512)       0         \n",
            "_________________________________________________________________\n",
            "block5_conv1 (Conv2D)        (None, 12, 12, 512)       2359808   \n",
            "_________________________________________________________________\n",
            "block5_conv2 (Conv2D)        (None, 12, 12, 512)       2359808   \n",
            "_________________________________________________________________\n",
            "block5_conv3 (Conv2D)        (None, 12, 12, 512)       2359808   \n",
            "_________________________________________________________________\n",
            "block5_pool (MaxPooling2D)   (None, 6, 6, 512)         0         \n",
            "_________________________________________________________________\n",
            "global_average_pooling2d_4 ( (None, 512)               0         \n",
            "_________________________________________________________________\n",
            "dense_4 (Dense)              (None, 2)                 1026      \n",
            "=================================================================\n",
            "Total params: 14,715,714\n",
            "Trainable params: 4,720,642\n",
            "Non-trainable params: 9,995,072\n",
            "_________________________________________________________________\n"
          ],
          "name": "stdout"
        }
      ]
    },
    {
      "metadata": {
        "id": "CnmJHXesIgQN",
        "colab_type": "code",
        "outputId": "91026e20-387b-4a3c-a2f6-ec3cafeb3bda",
        "colab": {
          "base_uri": "https://localhost:8080/",
          "height": 782
        }
      },
      "cell_type": "code",
      "source": [
        "model_2 = load_model(\"inference/naive.h5\")\n",
        "model_2.summary()"
      ],
      "execution_count": 17,
      "outputs": [
        {
          "output_type": "stream",
          "text": [
            "_________________________________________________________________\n",
            "Layer (type)                 Output Shape              Param #   \n",
            "=================================================================\n",
            "conv2d_9 (Conv2D)            (None, 200, 200, 32)      896       \n",
            "_________________________________________________________________\n",
            "conv2d_10 (Conv2D)           (None, 200, 200, 32)      9248      \n",
            "_________________________________________________________________\n",
            "max_pooling2d_5 (MaxPooling2 (None, 100, 100, 32)      0         \n",
            "_________________________________________________________________\n",
            "conv2d_11 (Conv2D)           (None, 100, 100, 64)      18496     \n",
            "_________________________________________________________________\n",
            "conv2d_12 (Conv2D)           (None, 100, 100, 64)      36928     \n",
            "_________________________________________________________________\n",
            "max_pooling2d_6 (MaxPooling2 (None, 50, 50, 64)        0         \n",
            "_________________________________________________________________\n",
            "conv2d_13 (Conv2D)           (None, 50, 50, 128)       73856     \n",
            "_________________________________________________________________\n",
            "conv2d_14 (Conv2D)           (None, 50, 50, 128)       147584    \n",
            "_________________________________________________________________\n",
            "max_pooling2d_7 (MaxPooling2 (None, 25, 25, 128)       0         \n",
            "_________________________________________________________________\n",
            "conv2d_15 (Conv2D)           (None, 25, 25, 256)       295168    \n",
            "_________________________________________________________________\n",
            "conv2d_16 (Conv2D)           (None, 25, 25, 256)       590080    \n",
            "_________________________________________________________________\n",
            "max_pooling2d_8 (MaxPooling2 (None, 12, 12, 256)       0         \n",
            "_________________________________________________________________\n",
            "flatten_2 (Flatten)          (None, 36864)             0         \n",
            "_________________________________________________________________\n",
            "dense_4 (Dense)              (None, 256)               9437440   \n",
            "_________________________________________________________________\n",
            "dropout_3 (Dropout)          (None, 256)               0         \n",
            "_________________________________________________________________\n",
            "dense_5 (Dense)              (None, 256)               65792     \n",
            "_________________________________________________________________\n",
            "dropout_4 (Dropout)          (None, 256)               0         \n",
            "_________________________________________________________________\n",
            "dense_6 (Dense)              (None, 2)                 514       \n",
            "_________________________________________________________________\n",
            "activation_2 (Activation)    (None, 2)                 0         \n",
            "=================================================================\n",
            "Total params: 10,676,002\n",
            "Trainable params: 10,676,002\n",
            "Non-trainable params: 0\n",
            "_________________________________________________________________\n"
          ],
          "name": "stdout"
        }
      ]
    },
    {
      "metadata": {
        "id": "Lktb7eKUKRm7",
        "colab_type": "code",
        "outputId": "348e974c-d4b2-4f57-cf27-5e05d58e201a",
        "colab": {
          "base_uri": "https://localhost:8080/",
          "height": 68
        }
      },
      "cell_type": "code",
      "source": [
        "score_1 = model_1.evaluate(x_test, y_test, verbose=1)\n",
        "print('Test loss:', score_1[0])\n",
        "print('Test accuracy:', score_1[1])"
      ],
      "execution_count": 18,
      "outputs": [
        {
          "output_type": "stream",
          "text": [
            "2756/2756 [==============================] - 1198s 435ms/step\n",
            "Test loss: 0.13639475404447438\n",
            "Test accuracy: 0.9499274310595065\n"
          ],
          "name": "stdout"
        }
      ]
    },
    {
      "metadata": {
        "id": "3cCj7FtSeNyH",
        "colab_type": "code",
        "outputId": "b203c017-5b7b-4f5a-81d1-553a23a8e961",
        "colab": {
          "base_uri": "https://localhost:8080/",
          "height": 68
        }
      },
      "cell_type": "code",
      "source": [
        "score_2 = model_2.evaluate(x_test, y_test, verbose=1)\n",
        "print('Test loss:', score_2[0])\n",
        "print('Test accuracy:', score_2[1])"
      ],
      "execution_count": 19,
      "outputs": [
        {
          "output_type": "stream",
          "text": [
            "2756/2756 [==============================] - 286s 104ms/step\n",
            "Test loss: 0.25343694605488476\n",
            "Test accuracy: 0.9499274310595065\n"
          ],
          "name": "stdout"
        }
      ]
    },
    {
      "metadata": {
        "id": "E94m2x_5IkiW",
        "colab_type": "code",
        "outputId": "35b1770c-6b16-4c5b-ca41-162b4124a306",
        "colab": {
          "base_uri": "https://localhost:8080/",
          "height": 51
        }
      },
      "cell_type": "code",
      "source": [
        "# prediction for model 1\n",
        "y_pred_1 = model_1.predict(x_test, verbose=1)\n",
        "y_pred_1.shape"
      ],
      "execution_count": 20,
      "outputs": [
        {
          "output_type": "stream",
          "text": [
            "2756/2756 [==============================] - 1195s 434ms/step\n"
          ],
          "name": "stdout"
        },
        {
          "output_type": "execute_result",
          "data": {
            "text/plain": [
              "(2756, 2)"
            ]
          },
          "metadata": {
            "tags": []
          },
          "execution_count": 20
        }
      ]
    },
    {
      "metadata": {
        "id": "ZliCPjntIxMF",
        "colab_type": "code",
        "outputId": "bc36bf8c-2be4-4b2c-b24e-cb63c4467b34",
        "colab": {
          "base_uri": "https://localhost:8080/",
          "height": 51
        }
      },
      "cell_type": "code",
      "source": [
        "# prediction for model 2\n",
        "y_pred_2 = model_2.predict(x_test, verbose=1)\n",
        "y_pred_2.shape"
      ],
      "execution_count": 21,
      "outputs": [
        {
          "output_type": "stream",
          "text": [
            "2756/2756 [==============================] - 292s 106ms/step\n"
          ],
          "name": "stdout"
        },
        {
          "output_type": "execute_result",
          "data": {
            "text/plain": [
              "(2756, 2)"
            ]
          },
          "metadata": {
            "tags": []
          },
          "execution_count": 21
        }
      ]
    },
    {
      "metadata": {
        "id": "DCU-Pwhhbbn6",
        "colab_type": "code",
        "outputId": "06221558-b726-4b94-8eab-20fba4239533",
        "colab": {
          "base_uri": "https://localhost:8080/",
          "height": 34
        }
      },
      "cell_type": "code",
      "source": [
        "y_pred_1.shape, y_pred_2.shape"
      ],
      "execution_count": 22,
      "outputs": [
        {
          "output_type": "execute_result",
          "data": {
            "text/plain": [
              "((2756, 2), (2756, 2))"
            ]
          },
          "metadata": {
            "tags": []
          },
          "execution_count": 22
        }
      ]
    },
    {
      "metadata": {
        "id": "2-xyY6s6da0J",
        "colab_type": "code",
        "outputId": "bd0d2fed-4d89-4bae-d4f6-06e3a5e27ccf",
        "colab": {
          "base_uri": "https://localhost:8080/",
          "height": 34
        }
      },
      "cell_type": "code",
      "source": [
        "# ensemble lol\n",
        "y_pred = .5 *y_pred_1 + .5 *y_pred_2\n",
        "y_pred.shape"
      ],
      "execution_count": 23,
      "outputs": [
        {
          "output_type": "execute_result",
          "data": {
            "text/plain": [
              "(2756, 2)"
            ]
          },
          "metadata": {
            "tags": []
          },
          "execution_count": 23
        }
      ]
    },
    {
      "metadata": {
        "id": "bSpCgbRXdoSM",
        "colab_type": "code",
        "outputId": "cef618db-cb16-41e2-edd6-eb4fa9b91b6d",
        "colab": {
          "base_uri": "https://localhost:8080/",
          "height": 34
        }
      },
      "cell_type": "code",
      "source": [
        "y_pred.shape, y_test.shape"
      ],
      "execution_count": 26,
      "outputs": [
        {
          "output_type": "execute_result",
          "data": {
            "text/plain": [
              "((2756, 2), (2756, 2))"
            ]
          },
          "metadata": {
            "tags": []
          },
          "execution_count": 26
        }
      ]
    },
    {
      "metadata": {
        "id": "_bXbzmi4d8cU",
        "colab_type": "code",
        "outputId": "4a32af1e-660d-4cde-db76-f0e17a4b66e0",
        "colab": {
          "base_uri": "https://localhost:8080/",
          "height": 34
        }
      },
      "cell_type": "code",
      "source": [
        "# get labels from predictions\n",
        "pred_labels = np.array([np.argmax(pred) for pred in y_pred])\n",
        "pred_labels.shape"
      ],
      "execution_count": 27,
      "outputs": [
        {
          "output_type": "execute_result",
          "data": {
            "text/plain": [
              "(2756,)"
            ]
          },
          "metadata": {
            "tags": []
          },
          "execution_count": 27
        }
      ]
    },
    {
      "metadata": {
        "id": "3PbwT37bd8ld",
        "colab_type": "code",
        "outputId": "840ceeb9-6387-4620-dd98-2d62714140f5",
        "colab": {
          "base_uri": "https://localhost:8080/",
          "height": 34
        }
      },
      "cell_type": "code",
      "source": [
        "#convert ground truths to column values\n",
        "y_test = np.argmax(y_test, axis=1)\n",
        "y_test.shape"
      ],
      "execution_count": 28,
      "outputs": [
        {
          "output_type": "execute_result",
          "data": {
            "text/plain": [
              "(2756,)"
            ]
          },
          "metadata": {
            "tags": []
          },
          "execution_count": 28
        }
      ]
    },
    {
      "metadata": {
        "id": "dY2XdCPPd8r3",
        "colab_type": "code",
        "outputId": "da49875b-7d17-4f2c-c51a-dea76e14552d",
        "colab": {
          "base_uri": "https://localhost:8080/",
          "height": 34
        }
      },
      "cell_type": "code",
      "source": [
        "y_test.shape, pred_labels.shape"
      ],
      "execution_count": 29,
      "outputs": [
        {
          "output_type": "execute_result",
          "data": {
            "text/plain": [
              "((2756,), (2756,))"
            ]
          },
          "metadata": {
            "tags": []
          },
          "execution_count": 29
        }
      ]
    },
    {
      "metadata": {
        "id": "2txRllRSdtVe",
        "colab_type": "code",
        "outputId": "26a2dbd2-0411-4602-b026-ab9eb02283c1",
        "colab": {
          "base_uri": "https://localhost:8080/",
          "height": 34
        }
      },
      "cell_type": "code",
      "source": [
        "print('Accuracy by ensembling two models: ',np.mean((y_test==pred_labels)))"
      ],
      "execution_count": 30,
      "outputs": [
        {
          "output_type": "stream",
          "text": [
            "Accuracy by ensembling two models:  0.9582728592162555\n"
          ],
          "name": "stdout"
        }
      ]
    },
    {
      "metadata": {
        "id": "FOup0fDUeH8h",
        "colab_type": "code",
        "colab": {}
      },
      "cell_type": "code",
      "source": [
        "# .6 .4 -->>> VGG FTW\n",
        "# Accuracy by ensembling two models:  0.9589985486211902\n",
        "\n",
        "# .5 .5\n",
        "# Accuracy by ensembling two models:  0.9582728592162555"
      ],
      "execution_count": 0,
      "outputs": []
    },
    {
      "metadata": {
        "id": "UDs0Hd-Af9N3",
        "colab_type": "code",
        "colab": {
          "base_uri": "https://localhost:8080/",
          "height": 34
        },
        "outputId": "8c1941c4-5695-43bb-d333-ad77b526166c"
      },
      "cell_type": "code",
      "source": [
        "x = 0.9582728592162555\n",
        "y = 0.9499274310595065\n",
        "\n",
        "(x-y) * 100"
      ],
      "execution_count": 34,
      "outputs": [
        {
          "output_type": "execute_result",
          "data": {
            "text/plain": [
              "0.8345428156748991"
            ]
          },
          "metadata": {
            "tags": []
          },
          "execution_count": 34
        }
      ]
    },
    {
      "metadata": {
        "id": "Bdg4DABt-bgE",
        "colab_type": "code",
        "colab": {}
      },
      "cell_type": "code",
      "source": [
        ""
      ],
      "execution_count": 0,
      "outputs": []
    }
  ]
}