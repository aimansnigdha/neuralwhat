{
 "cells": [
  {
   "cell_type": "code",
   "execution_count": 1,
   "metadata": {
    "_cell_guid": "b1076dfc-b9ad-4769-8c92-a6c4dae69d19",
    "_uuid": "8f2839f25d086af736a60e9eeb907d3b93b6e0e5"
   },
   "outputs": [
    {
     "name": "stdout",
     "output_type": "stream",
     "text": [
      "['Parasitized', 'Uninfected']\n"
     ]
    },
    {
     "name": "stderr",
     "output_type": "stream",
     "text": [
      "Using TensorFlow backend.\n"
     ]
    }
   ],
   "source": [
    "import numpy as np \n",
    "import pandas as pd \n",
    "import os\n",
    "import glob\n",
    "import cv2\n",
    "import random\n",
    "import matplotlib.pyplot as plt\n",
    "\n",
    "from sklearn.utils import shuffle\n",
    "from sklearn.model_selection import train_test_split\n",
    "from keras import optimizers\n",
    "from keras.utils import to_categorical, plot_model\n",
    "from keras.layers import Dense, Input, Conv2D, Flatten, MaxPooling2D, Activation\n",
    "from keras.models import Model, Sequential\n",
    "from keras.layers import Activation, Dropout, Flatten, Dense\n",
    "from keras.callbacks import ModelCheckpoint\n",
    "from keras.optimizers import Adam\n",
    "from keras.applications.vgg16 import VGG16\n",
    "from keras.models import load_model\n",
    "from keras.utils import np_utils\n",
    "from keras import backend as K\n",
    "\n",
    "PATH = \"../input/cell-images-for-detecting-malaria/cell_images/cell_images/\"\n",
    "print(os.listdir(PATH))"
   ]
  },
  {
   "cell_type": "markdown",
   "metadata": {
    "_uuid": "f0e13b1c6c95678320814d090a1556e161f2414d"
   },
   "source": [
    " * https://github.com/keras-team/keras/issues/5400"
   ]
  },
  {
   "cell_type": "code",
   "execution_count": 2,
   "metadata": {
    "_uuid": "0ec0a9c480a5d056693e44359139b662e3903f75"
   },
   "outputs": [
    {
     "data": {
      "text/plain": [
       "(13779, 13779)"
      ]
     },
     "execution_count": 2,
     "metadata": {},
     "output_type": "execute_result"
    }
   ],
   "source": [
    "# all image path of parasitized\n",
    "paths_para=glob.glob(os.path.join(PATH,'Parasitized','*.png'))\n",
    "paths_uninf=glob.glob(os.path.join(PATH,'Uninfected','*.png'))\n",
    "len(paths_para), len(paths_uninf)"
   ]
  },
  {
   "cell_type": "code",
   "execution_count": 3,
   "metadata": {
    "_uuid": "b3d0919a9e6b7d82d5d014a4fba7a555f6e7807d"
   },
   "outputs": [
    {
     "data": {
      "text/plain": [
       "(130, 118, 3)"
      ]
     },
     "execution_count": 3,
     "metadata": {},
     "output_type": "execute_result"
    }
   ],
   "source": [
    "# show one\n",
    "path=paths_para[0]\n",
    "img=cv2.imread(path) # cv2 stores image in BGR format\n",
    "img=cv2.cvtColor(img,cv2.COLOR_BGR2RGB) # transforming to RGB format\n",
    "img.shape"
   ]
  },
  {
   "cell_type": "code",
   "execution_count": 4,
   "metadata": {
    "_uuid": "888f92d251eb702b852ba0a3abcf1e02aee8fdf5"
   },
   "outputs": [],
   "source": [
    "# helper to get images\n",
    "def get_data(path, resize_dim=200):\n",
    "    img=cv2.imread(path)\n",
    "    img=cv2.cvtColor(img,cv2.COLOR_BGR2RGB)\n",
    "    img_rz=cv2.resize(img,(resize_dim,resize_dim),interpolation=cv2.INTER_AREA)\n",
    "    return img_rz"
   ]
  },
  {
   "cell_type": "markdown",
   "metadata": {
    "_uuid": "783648a195326e94f7fb4db41b92e18e7d304bb1"
   },
   "source": [
    "## Get the data"
   ]
  },
  {
   "cell_type": "code",
   "execution_count": 5,
   "metadata": {
    "_uuid": "530df5628be9e66354199f5c6786b0a76c8ae310"
   },
   "outputs": [
    {
     "data": {
      "text/plain": [
       "(13779, 200, 200, 3)"
      ]
     },
     "execution_count": 5,
     "metadata": {},
     "output_type": "execute_result"
    }
   ],
   "source": [
    "parasite_images=np.array([get_data(path) for path in paths_para])\n",
    "parasite_images.shape"
   ]
  },
  {
   "cell_type": "code",
   "execution_count": 6,
   "metadata": {
    "_uuid": "625c28eb6f89669f4f9f8ec8a1c3a71569a326ef"
   },
   "outputs": [
    {
     "data": {
      "text/plain": [
       "(13779, 200, 200, 3)"
      ]
     },
     "execution_count": 6,
     "metadata": {},
     "output_type": "execute_result"
    }
   ],
   "source": [
    "uninf_images=np.array([get_data(path) for path in paths_uninf])\n",
    "uninf_images.shape"
   ]
  },
  {
   "cell_type": "markdown",
   "metadata": {
    "_uuid": "cfa8d4c993b342bf905571089dd9173b89078a04"
   },
   "source": [
    "## Make labels"
   ]
  },
  {
   "cell_type": "code",
   "execution_count": 7,
   "metadata": {
    "_uuid": "ad8f78ecb68d6570372275d19919d55a443b5409"
   },
   "outputs": [
    {
     "data": {
      "text/plain": [
       "((13779,), (13779,))"
      ]
     },
     "execution_count": 7,
     "metadata": {},
     "output_type": "execute_result"
    }
   ],
   "source": [
    "para_label = np.array([1 for _ in range(len(parasite_images))])\n",
    "uninf_label = np.array([0 for _ in range(len(uninf_images))])\n",
    "\n",
    "para_label.shape, uninf_label.shape"
   ]
  },
  {
   "cell_type": "markdown",
   "metadata": {
    "_uuid": "dc997ae51ad6abf870b035096370640ff1ea02da"
   },
   "source": [
    "## Data set initialize"
   ]
  },
  {
   "cell_type": "code",
   "execution_count": 8,
   "metadata": {
    "_uuid": "ad698e6b25af44746533b63b524be90d1fd9623f"
   },
   "outputs": [
    {
     "name": "stdout",
     "output_type": "stream",
     "text": [
      "(27558, 200, 200, 3) (27558,)\n"
     ]
    }
   ],
   "source": [
    "x_all = np.concatenate((parasite_images, uninf_images), axis=0)\n",
    "y_all = np.concatenate((para_label, uninf_label), axis=0)\n",
    "print(x_all.shape, y_all.shape)\n",
    "\n",
    "#del parasite_images \n",
    "#del uninf_images\n",
    "\n",
    "#train = shuffle(train, random_state=123)"
   ]
  },
  {
   "cell_type": "markdown",
   "metadata": {
    "_uuid": "a6fd9f764ebf830e0a4519d326843e3ba4357983"
   },
   "source": [
    "## Show an image"
   ]
  },
  {
   "cell_type": "code",
   "execution_count": 16,
   "metadata": {
    "_uuid": "10f4e82e18084ec9c6352825560abb4357bf9033"
   },
   "outputs": [
    {
     "name": "stdout",
     "output_type": "stream",
     "text": [
      "Index number: 19836\n",
      "Label: 0\n"
     ]
    },
    {
     "data": {
      "text/plain": [
       "<matplotlib.image.AxesImage at 0x7f2f8855a0b8>"
      ]
     },
     "execution_count": 16,
     "metadata": {},
     "output_type": "execute_result"
    },
    {
     "data": {
      "image/png": "[encoded data removed]",
      "text/plain": [
       "<Figure size 432x288 with 1 Axes>"
      ]
     },
     "metadata": {},
     "output_type": "display_data"
    }
   ],
   "source": [
    "idx = random.randint(0, len(x_all))\n",
    "print(\"Index number: {}\".format(idx))\n",
    "print(\"Label: {}\".format(y_all[idx]))\n",
    "plt.imshow(x_all[idx])"
   ]
  },
  {
   "cell_type": "markdown",
   "metadata": {
    "_uuid": "0c9d1dc5d7a103d78f254c9d89b0327e6898d305"
   },
   "source": [
    "## Show many images"
   ]
  },
  {
   "cell_type": "code",
   "execution_count": null,
   "metadata": {
    "_uuid": "9097d6c9cd426531329248ac80f8d473196fb7f9"
   },
   "outputs": [],
   "source": [
    "plt.figure(figsize=(20,20))\n",
    "columns = 5\n",
    "\n",
    "lower = 0\n",
    "upper = 30 \n",
    "\n",
    "for i in range(upper):\n",
    "    ax = plt.subplot(upper / columns + 1, columns, i + 1)\n",
    "    idx = random.randint(0, len(x_all))\n",
    "    ax.set_title(y_all[idx])\n",
    "    plt.imshow(x_all[idx], cmap='gray') # binary\n",
    "    \n",
    "plt.tight_layout(pad=0.4, w_pad=0.5, h_pad=1.0)"
   ]
  },
  {
   "cell_type": "markdown",
   "metadata": {
    "_uuid": "ac8a5e832ea9d6e9a8518139303899f3a6b35dc5"
   },
   "source": [
    "## Make training and testing sets"
   ]
  },
  {
   "cell_type": "code",
   "execution_count": null,
   "metadata": {
    "_uuid": "e7a32b1e45a1640f0be1970e7131282e15bbe7d1"
   },
   "outputs": [],
   "source": [
    "indices=list(range(len(x_all)))\n",
    "np.random.seed(42)\n",
    "np.random.shuffle(indices)\n",
    "\n",
    "ind=int(len(indices)*0.95)\n",
    "# train data\n",
    "input_features=x_all[indices[:ind]] \n",
    "labels=y_all[indices[:ind]]\n",
    "# validation data\n",
    "x_test=x_all[indices[-(len(indices)-ind):]] \n",
    "y_test=y_all[indices[-(len(indices)-ind):]]"
   ]
  },
  {
   "cell_type": "code",
   "execution_count": 18,
   "metadata": {
    "_uuid": "0e234b7a4f78dd9c090af75a1bc790770fec44dc"
   },
   "outputs": [
    {
     "name": "stdout",
     "output_type": "stream",
     "text": [
      "(27558, 200, 200, 3) (27558,)\n"
     ]
    }
   ],
   "source": [
    "print(x_all.shape, y_all.shape)"
   ]
  },
  {
   "cell_type": "code",
   "execution_count": null,
   "metadata": {
    "_uuid": "4f3cf3785953689c744325bff4f06db0da7900ce"
   },
   "outputs": [],
   "source": [
    "print(input_features.shape, labels.shape)\n",
    "print(x_test.shape, y_test.shape)"
   ]
  },
  {
   "cell_type": "code",
   "execution_count": null,
   "metadata": {
    "_uuid": "b155082b593426f38a9ade66c01d5af81505cb10"
   },
   "outputs": [],
   "source": [
    "x_train, x_val, y_train, y_val = train_test_split(input_features, labels, test_size=0.1, random_state=1)\n",
    "print(x_train.shape, x_val.shape, y_train.shape, y_val.shape)"
   ]
  },
  {
   "cell_type": "markdown",
   "metadata": {
    "_uuid": "8d6ae277b1dc0ce2491d68c351ee6e866b9928a0"
   },
   "source": [
    "# Transfer Learning"
   ]
  },
  {
   "cell_type": "code",
   "execution_count": 24,
   "metadata": {
    "_uuid": "93d01d8d81b08f883f1c97cc72ceb0c449e3ce5e"
   },
   "outputs": [
    {
     "name": "stdout",
     "output_type": "stream",
     "text": [
      "_________________________________________________________________\n",
      "Layer (type)                 Output Shape              Param #   \n",
      "=================================================================\n",
      "input_4 (InputLayer)         (None, 200, 200, 3)       0         \n",
      "_________________________________________________________________\n",
      "block1_conv1 (Conv2D)        (None, 200, 200, 64)      1792      \n",
      "_________________________________________________________________\n",
      "block1_conv2 (Conv2D)        (None, 200, 200, 64)      36928     \n",
      "_________________________________________________________________\n",
      "block1_pool (MaxPooling2D)   (None, 100, 100, 64)      0         \n",
      "_________________________________________________________________\n",
      "block2_conv1 (Conv2D)        (None, 100, 100, 128)     73856     \n",
      "_________________________________________________________________\n",
      "block2_conv2 (Conv2D)        (None, 100, 100, 128)     147584    \n",
      "_________________________________________________________________\n",
      "block2_pool (MaxPooling2D)   (None, 50, 50, 128)       0         \n",
      "_________________________________________________________________\n",
      "block3_conv1 (Conv2D)        (None, 50, 50, 256)       295168    \n",
      "_________________________________________________________________\n",
      "block3_conv2 (Conv2D)        (None, 50, 50, 256)       590080    \n",
      "_________________________________________________________________\n",
      "block3_conv3 (Conv2D)        (None, 50, 50, 256)       590080    \n",
      "_________________________________________________________________\n",
      "block3_pool (MaxPooling2D)   (None, 25, 25, 256)       0         \n",
      "_________________________________________________________________\n",
      "block4_conv1 (Conv2D)        (None, 25, 25, 512)       1180160   \n",
      "_________________________________________________________________\n",
      "block4_conv2 (Conv2D)        (None, 25, 25, 512)       2359808   \n",
      "_________________________________________________________________\n",
      "block4_conv3 (Conv2D)        (None, 25, 25, 512)       2359808   \n",
      "_________________________________________________________________\n",
      "block4_pool (MaxPooling2D)   (None, 12, 12, 512)       0         \n",
      "_________________________________________________________________\n",
      "block5_conv1 (Conv2D)        (None, 12, 12, 512)       2359808   \n",
      "_________________________________________________________________\n",
      "block5_conv2 (Conv2D)        (None, 12, 12, 512)       2359808   \n",
      "_________________________________________________________________\n",
      "block5_conv3 (Conv2D)        (None, 12, 12, 512)       2359808   \n",
      "_________________________________________________________________\n",
      "block5_pool (MaxPooling2D)   (None, 6, 6, 512)         0         \n",
      "_________________________________________________________________\n",
      "global_average_pooling2d_4 ( (None, 512)               0         \n",
      "_________________________________________________________________\n",
      "dense_4 (Dense)              (None, 2)                 1026      \n",
      "=================================================================\n",
      "Total params: 14,715,714\n",
      "Trainable params: 2,360,834\n",
      "Non-trainable params: 12,354,880\n",
      "_________________________________________________________________\n"
     ]
    }
   ],
   "source": [
    "# model with ALL layers frozen, except for the SOFTMAX layer\n",
    "def vgg16():\n",
    "    base_model = VGG16(weights='../input/keras-pretrained-models/vgg16_weights_tf_dim_ordering_tf_kernels_notop.h5',include_top=False,pooling='avg',input_shape=(200, 200, 3))\n",
    "    base_model.trainable = False\n",
    "    X = base_model.output\n",
    "    X.trainable = False\n",
    "    # softmax layer\n",
    "    predictions = Dense(2, activation='softmax')(X)\n",
    "    \n",
    "    # magical line of freezing layers\n",
    "    for layer in base_model.layers[:-3]:\n",
    "        layer.trainable=False\n",
    "\n",
    "    model = Model(inputs=base_model.input, outputs=predictions)\n",
    "    model.compile(optimizer='adadelta', loss='binary_crossentropy', metrics=['accuracy'])\n",
    "    return model\n",
    "\n",
    "model=vgg16()\n",
    "model.summary()"
   ]
  },
  {
   "cell_type": "code",
   "execution_count": null,
   "metadata": {
    "_uuid": "553f32938cb8ed16532d400c38a3cdfb73f5fd34"
   },
   "outputs": [],
   "source": [
    "# check input\n",
    "print(x_train.shape, y_train.shape, x_val.shape, y_val.shape)"
   ]
  },
  {
   "cell_type": "code",
   "execution_count": null,
   "metadata": {
    "_uuid": "8f790461f14c4063b14cef834e2b6e0ea26ea628"
   },
   "outputs": [],
   "source": [
    "# one hot encoded vectors\n",
    "num_classes = 2\n",
    "\n",
    "y_train = np_utils.to_categorical(y_train,num_classes)\n",
    "y_val = np_utils.to_categorical(y_val,num_classes)\n",
    "y_test = np_utils.to_categorical(y_test,num_classes)\n",
    "print(y_train.shape, y_val.shape, y_test.shape)"
   ]
  },
  {
   "cell_type": "code",
   "execution_count": 23,
   "metadata": {
    "_uuid": "cfe5345604349eb4b9d238e4ab8c298b6fd4af49"
   },
   "outputs": [
    {
     "data": {
      "text/plain": [
       "(27558, 2)"
      ]
     },
     "execution_count": 23,
     "metadata": {},
     "output_type": "execute_result"
    }
   ],
   "source": [
    "y_all = np_utils.to_categorical(y_all,2)\n",
    "y_all.shape"
   ]
  },
  {
   "cell_type": "code",
   "execution_count": null,
   "metadata": {
    "_uuid": "b189555f7450c3335e0aee45dc2f4cc586b02aa5"
   },
   "outputs": [],
   "source": [
    "# check input\n",
    "print(x_train.shape, y_train.shape, x_val.shape, y_val.shape)"
   ]
  },
  {
   "cell_type": "code",
   "execution_count": 32,
   "metadata": {
    "_uuid": "915d897e6aa450f905bd351082c14c7b286dfdae"
   },
   "outputs": [
    {
     "data": {
      "text/plain": [
       "(27558, 200, 200, 3)"
      ]
     },
     "execution_count": 32,
     "metadata": {},
     "output_type": "execute_result"
    }
   ],
   "source": [
    "x_all.shape"
   ]
  },
  {
   "cell_type": "code",
   "execution_count": 33,
   "metadata": {
    "_uuid": "8a276a288788c087ad6e1c659c91fd3d34f3960f"
   },
   "outputs": [
    {
     "name": "stdout",
     "output_type": "stream",
     "text": [
      "Epoch 1/20\n",
      "27558/27558 [==============================] - 228s 8ms/step - loss: 0.2290 - acc: 0.9192\n",
      "Epoch 2/20\n",
      "27558/27558 [==============================] - 230s 8ms/step - loss: 0.1366 - acc: 0.9551\n",
      "Epoch 3/20\n",
      "27558/27558 [==============================] - 229s 8ms/step - loss: 0.1191 - acc: 0.9596\n",
      "Epoch 4/20\n",
      "27558/27558 [==============================] - 230s 8ms/step - loss: 0.1070 - acc: 0.9632\n",
      "Epoch 5/20\n",
      "27558/27558 [==============================] - 230s 8ms/step - loss: 0.0962 - acc: 0.9657\n",
      "Epoch 6/20\n",
      "27558/27558 [==============================] - 230s 8ms/step - loss: 0.0886 - acc: 0.9684\n",
      "Epoch 7/20\n",
      "27558/27558 [==============================] - 230s 8ms/step - loss: 0.0825 - acc: 0.9706\n",
      "Epoch 8/20\n",
      "27558/27558 [==============================] - 230s 8ms/step - loss: 0.0757 - acc: 0.9726\n",
      "Epoch 9/20\n",
      "27558/27558 [==============================] - 230s 8ms/step - loss: 0.0706 - acc: 0.9751\n",
      "Epoch 10/20\n",
      "27558/27558 [==============================] - 230s 8ms/step - loss: 0.0659 - acc: 0.9768\n",
      "Epoch 11/20\n",
      "27558/27558 [==============================] - 231s 8ms/step - loss: 0.0612 - acc: 0.9783\n",
      "Epoch 12/20\n",
      "27558/27558 [==============================] - 231s 8ms/step - loss: 0.0570 - acc: 0.9800\n",
      "Epoch 13/20\n",
      "27558/27558 [==============================] - 230s 8ms/step - loss: 0.0545 - acc: 0.9814\n",
      "Epoch 14/20\n",
      "27558/27558 [==============================] - 230s 8ms/step - loss: 0.0500 - acc: 0.9827\n",
      "Epoch 15/20\n",
      "27558/27558 [==============================] - 230s 8ms/step - loss: 0.0468 - acc: 0.9842\n",
      "Epoch 16/20\n",
      "27558/27558 [==============================] - 229s 8ms/step - loss: 0.0437 - acc: 0.9854\n",
      "Epoch 17/20\n",
      "27558/27558 [==============================] - 228s 8ms/step - loss: 0.0418 - acc: 0.9870\n",
      "Epoch 18/20\n",
      "27558/27558 [==============================] - 227s 8ms/step - loss: 0.0388 - acc: 0.9873\n",
      "Epoch 19/20\n",
      "27558/27558 [==============================] - 228s 8ms/step - loss: 0.0368 - acc: 0.9880\n",
      "Epoch 20/20\n",
      "27558/27558 [==============================] - 228s 8ms/step - loss: 0.0343 - acc: 0.9893\n"
     ]
    }
   ],
   "source": [
    "model=vgg16()\n",
    "path_model='vgg16.h5'  \n",
    "\n",
    "# set the learning rate\n",
    "K.set_value(model.optimizer.lr,1e-2) \n",
    "\n",
    "h=model.fit(x=x_all,     \n",
    "            y=y_all, \n",
    "            batch_size=32, \n",
    "            epochs=20, \n",
    "            verbose=1, \n",
    "            #validation_data=(x_val,y_val),\n",
    "            shuffle=True,\n",
    "            callbacks=[\n",
    "                ModelCheckpoint(filepath=path_model),\n",
    "            ]\n",
    "            )\n"
   ]
  },
  {
   "cell_type": "code",
   "execution_count": 34,
   "metadata": {
    "_uuid": "d9e9bb2dbbbdf4d9877bdb43aa9e0b8e8f1e91c2",
    "scrolled": true
   },
   "outputs": [
    {
     "name": "stdout",
     "output_type": "stream",
     "text": [
      "Epoch 1/10\n",
      "27558/27558 [==============================] - 221s 8ms/step - loss: 0.0321 - acc: 0.9901\n",
      "Epoch 2/10\n",
      "27558/27558 [==============================] - 221s 8ms/step - loss: 0.0304 - acc: 0.9910\n",
      "Epoch 3/10\n",
      "27558/27558 [==============================] - 221s 8ms/step - loss: 0.0289 - acc: 0.9913\n",
      "Epoch 4/10\n",
      "27558/27558 [==============================] - 220s 8ms/step - loss: 0.0269 - acc: 0.9922\n",
      "Epoch 5/10\n",
      "27558/27558 [==============================] - 221s 8ms/step - loss: 0.0256 - acc: 0.9933\n",
      "Epoch 6/10\n",
      "27558/27558 [==============================] - 221s 8ms/step - loss: 0.0242 - acc: 0.9938\n",
      "Epoch 7/10\n",
      "27558/27558 [==============================] - 221s 8ms/step - loss: 0.0224 - acc: 0.9943\n",
      "Epoch 8/10\n",
      "27558/27558 [==============================] - 221s 8ms/step - loss: 0.0215 - acc: 0.9945\n",
      "Epoch 9/10\n",
      "27558/27558 [==============================] - 221s 8ms/step - loss: 0.0199 - acc: 0.9951\n",
      "Epoch 10/10\n",
      "27558/27558 [==============================] - 220s 8ms/step - loss: 0.0188 - acc: 0.9960\n"
     ]
    }
   ],
   "source": [
    "model.load_weights(path_model) \n",
    "# set the learning rate\n",
    "K.set_value(model.optimizer.lr,1e-2) \n",
    "\n",
    "h=model.fit(x=x_all,     \n",
    "            y=y_all, \n",
    "            batch_size=32, \n",
    "            epochs=10, \n",
    "            verbose=1, \n",
    "            #validation_data=(x_val,y_val),\n",
    "            shuffle=True,\n",
    "            callbacks=[\n",
    "                ModelCheckpoint(filepath=path_model),\n",
    "            ]\n",
    "            )\n"
   ]
  },
  {
   "cell_type": "code",
   "execution_count": null,
   "metadata": {
    "_uuid": "143c7e9740e2f35b7e0bf9e5b04905e2b1dc4e65"
   },
   "outputs": [],
   "source": [
    "score = model.evaluate(x_test, y_test, verbose=0)\n",
    "print('Test loss:', score[0])\n",
    "print('Test accuracy:', score[1])"
   ]
  },
  {
   "cell_type": "code",
   "execution_count": 41,
   "metadata": {
    "_uuid": "7617939dac1e2fc922b89fbd648047bf87e0be87"
   },
   "outputs": [],
   "source": [
    "def plot_loss_accu(history):\n",
    "    loss = history.history['loss']\n",
    "    #val_loss = history.history['val_loss']\n",
    "    epochs = range(len(loss))\n",
    "    plt.plot(epochs, loss, 'g')\n",
    "    #plt.plot(epochs, val_loss, 'y')\n",
    "    plt.title('Training loss')\n",
    "    plt.legend(['train', 'val'], loc='upper right')\n",
    "    plt.grid()\n",
    "    plt.show()\n",
    "    loss = history.history['acc']\n",
    "    #val_loss = history.history['val_acc']\n",
    "    epochs = range(len(loss))\n",
    "    plt.plot(epochs, loss, 'r')\n",
    "    #plt.plot(epochs, val_loss, 'b')\n",
    "    plt.title('Training accuracy')\n",
    "    plt.legend(['train', 'val'], loc='lower right')\n",
    "    plt.grid()\n",
    "    plt.show()\n"
   ]
  },
  {
   "cell_type": "code",
   "execution_count": 42,
   "metadata": {
    "_uuid": "616ae91064c54fc950e5cb5beaa05602c181e175"
   },
   "outputs": [
    {
     "data": {
      "image/png": "[encoded data removed]",
      "text/plain": [
       "<Figure size 432x288 with 1 Axes>"
      ]
     },
     "metadata": {},
     "output_type": "display_data"
    },
    {
     "data": {
      "image/png": "[encoded data removed]",
      "text/plain": [
       "<Figure size 432x288 with 1 Axes>"
      ]
     },
     "metadata": {},
     "output_type": "display_data"
    }
   ],
   "source": [
    "plot_loss_accu(h)"
   ]
  },
  {
   "cell_type": "code",
   "execution_count": null,
   "metadata": {
    "_uuid": "2234b53cd782ea427081d60abe16f04f1c91e234"
   },
   "outputs": [],
   "source": []
  }
 ],
 "metadata": {
  "kernelspec": {
   "display_name": "Python 3",
   "language": "python",
   "name": "python3"
  },
  "language_info": {
   "codemirror_mode": {
    "name": "ipython",
    "version": 3
   },
   "file_extension": ".py",
   "mimetype": "text/x-python",
   "name": "python",
   "nbconvert_exporter": "python",
   "pygments_lexer": "ipython3",
   "version": "3.7.0"
  }
 },
 "nbformat": 4,
 "nbformat_minor": 1
}
