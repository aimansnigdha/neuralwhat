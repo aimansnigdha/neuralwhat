{
 "cells": [
  {
   "cell_type": "code",
   "execution_count": null,
   "metadata": {
    "_cell_guid": "b1076dfc-b9ad-4769-8c92-a6c4dae69d19",
    "_uuid": "8f2839f25d086af736a60e9eeb907d3b93b6e0e5"
   },
   "outputs": [],
   "source": [
    "import numpy as np \n",
    "import pandas as pd \n",
    "import os\n",
    "import glob\n",
    "import cv2\n",
    "import random\n",
    "import matplotlib.pyplot as plt\n",
    "\n",
    "from sklearn.utils import shuffle\n",
    "from sklearn.model_selection import train_test_split\n",
    "from keras import optimizers\n",
    "from keras.utils import to_categorical, plot_model\n",
    "from keras.layers import Dense, Input, Conv2D, Flatten, MaxPooling2D, Activation\n",
    "from keras.models import Model, Sequential\n",
    "from keras.layers import Activation, Dropout, Flatten, Dense\n",
    "from keras.callbacks import ModelCheckpoint\n",
    "from keras.optimizers import Adam\n",
    "from keras.applications.vgg16 import VGG16\n",
    "from keras.models import load_model\n",
    "from keras.utils import np_utils\n",
    "from keras import backend as K\n",
    "\n",
    "PATH = \"../input/cell-images-for-detecting-malaria/cell_images/cell_images/\"\n",
    "print(os.listdir(PATH))"
   ]
  },
  {
   "cell_type": "markdown",
   "metadata": {
    "_uuid": "f0e13b1c6c95678320814d090a1556e161f2414d"
   },
   "source": [
    " * https://github.com/keras-team/keras/issues/5400"
   ]
  },
  {
   "cell_type": "code",
   "execution_count": null,
   "metadata": {
    "_uuid": "0ec0a9c480a5d056693e44359139b662e3903f75"
   },
   "outputs": [],
   "source": [
    "# all image path of parasitized\n",
    "paths_para=glob.glob(os.path.join(PATH,'Parasitized','*.png'))\n",
    "paths_uninf=glob.glob(os.path.join(PATH,'Uninfected','*.png'))\n",
    "len(paths_para), len(paths_uninf)"
   ]
  },
  {
   "cell_type": "code",
   "execution_count": null,
   "metadata": {
    "_uuid": "b3d0919a9e6b7d82d5d014a4fba7a555f6e7807d"
   },
   "outputs": [],
   "source": [
    "# show one\n",
    "path=paths_para[0]\n",
    "img=cv2.imread(path) # cv2 stores image in BGR format\n",
    "img=cv2.cvtColor(img,cv2.COLOR_BGR2RGB) # transforming to RGB format\n",
    "img.shape"
   ]
  },
  {
   "cell_type": "code",
   "execution_count": null,
   "metadata": {
    "_uuid": "888f92d251eb702b852ba0a3abcf1e02aee8fdf5"
   },
   "outputs": [],
   "source": [
    "# helper to get images\n",
    "def get_data(path, resize_dim=96):\n",
    "    img=cv2.imread(path)\n",
    "    img=cv2.cvtColor(img,cv2.COLOR_BGR2RGB)\n",
    "    img_rz=cv2.resize(img,(resize_dim,resize_dim),interpolation=cv2.INTER_AREA)\n",
    "    return img_rz"
   ]
  },
  {
   "cell_type": "markdown",
   "metadata": {
    "_uuid": "783648a195326e94f7fb4db41b92e18e7d304bb1"
   },
   "source": [
    "## Get the data"
   ]
  },
  {
   "cell_type": "code",
   "execution_count": null,
   "metadata": {
    "_uuid": "530df5628be9e66354199f5c6786b0a76c8ae310"
   },
   "outputs": [],
   "source": [
    "parasite_images=np.array([get_data(path) for path in paths_para])\n",
    "parasite_images.shape"
   ]
  },
  {
   "cell_type": "code",
   "execution_count": null,
   "metadata": {
    "_uuid": "625c28eb6f89669f4f9f8ec8a1c3a71569a326ef"
   },
   "outputs": [],
   "source": [
    "uninf_images=np.array([get_data(path) for path in paths_uninf])\n",
    "uninf_images.shape"
   ]
  },
  {
   "cell_type": "markdown",
   "metadata": {
    "_uuid": "cfa8d4c993b342bf905571089dd9173b89078a04"
   },
   "source": [
    "## Make labels"
   ]
  },
  {
   "cell_type": "code",
   "execution_count": null,
   "metadata": {
    "_uuid": "ad8f78ecb68d6570372275d19919d55a443b5409"
   },
   "outputs": [],
   "source": [
    "para_label = np.array([1 for _ in range(len(parasite_images))])\n",
    "uninf_label = np.array([0 for _ in range(len(uninf_images))])\n",
    "\n",
    "para_label.shape, uninf_label.shape"
   ]
  },
  {
   "cell_type": "markdown",
   "metadata": {
    "_uuid": "dc997ae51ad6abf870b035096370640ff1ea02da"
   },
   "source": [
    "## Data set initialize"
   ]
  },
  {
   "cell_type": "code",
   "execution_count": null,
   "metadata": {
    "_uuid": "ad698e6b25af44746533b63b524be90d1fd9623f"
   },
   "outputs": [],
   "source": [
    "x_all = np.concatenate((parasite_images, uninf_images), axis=0)\n",
    "y_all = np.concatenate((para_label, uninf_label), axis=0)\n",
    "print(x_all.shape, y_all.shape)\n",
    "\n",
    "#train = shuffle(train, random_state=123)"
   ]
  },
  {
   "cell_type": "markdown",
   "metadata": {
    "_uuid": "a6fd9f764ebf830e0a4519d326843e3ba4357983"
   },
   "source": [
    "## Show an image"
   ]
  },
  {
   "cell_type": "code",
   "execution_count": null,
   "metadata": {
    "_uuid": "10f4e82e18084ec9c6352825560abb4357bf9033"
   },
   "outputs": [],
   "source": [
    "idx = random.randint(0, len(x_all))\n",
    "print(\"Index number: {}\".format(idx))\n",
    "print(\"Label: {}\".format(y_all[idx]))\n",
    "plt.imshow(x_all[idx])"
   ]
  },
  {
   "cell_type": "markdown",
   "metadata": {
    "_uuid": "0c9d1dc5d7a103d78f254c9d89b0327e6898d305"
   },
   "source": [
    "## Show many images"
   ]
  },
  {
   "cell_type": "code",
   "execution_count": null,
   "metadata": {
    "_uuid": "9097d6c9cd426531329248ac80f8d473196fb7f9"
   },
   "outputs": [],
   "source": [
    "plt.figure(figsize=(20,20))\n",
    "columns = 5\n",
    "\n",
    "lower = 0\n",
    "upper = 30 \n",
    "\n",
    "for i in range(upper):\n",
    "    ax = plt.subplot(upper / columns + 1, columns, i + 1)\n",
    "    idx = random.randint(0, len(x_all))\n",
    "    ax.set_title(y_all[idx])\n",
    "    plt.imshow(x_all[idx], cmap='gray') # binary\n",
    "    \n",
    "plt.tight_layout(pad=0.4, w_pad=0.5, h_pad=1.0)"
   ]
  },
  {
   "cell_type": "markdown",
   "metadata": {
    "_uuid": "ac8a5e832ea9d6e9a8518139303899f3a6b35dc5"
   },
   "source": [
    "## Make training and testing sets"
   ]
  },
  {
   "cell_type": "code",
   "execution_count": null,
   "metadata": {
    "_uuid": "e7a32b1e45a1640f0be1970e7131282e15bbe7d1"
   },
   "outputs": [],
   "source": [
    "indices=list(range(len(x_all)))\n",
    "np.random.seed(42)\n",
    "np.random.shuffle(indices)\n",
    "\n",
    "ind=int(len(indices)*0.85)\n",
    "# train data\n",
    "input_features=x_all[indices[:ind]] \n",
    "labels=y_all[indices[:ind]]\n",
    "# validation data\n",
    "x_test=x_all[indices[-(len(indices)-ind):]] \n",
    "y_test=y_all[indices[-(len(indices)-ind):]]"
   ]
  },
  {
   "cell_type": "code",
   "execution_count": null,
   "metadata": {
    "_uuid": "4f3cf3785953689c744325bff4f06db0da7900ce"
   },
   "outputs": [],
   "source": [
    "print(input_features.shape, labels.shape)\n",
    "print(x_test.shape, y_test.shape)"
   ]
  },
  {
   "cell_type": "markdown",
   "metadata": {
    "_uuid": "62513942a1789058638e2b5187c6d0d142c26c1b"
   },
   "source": [
    "## Define network"
   ]
  },
  {
   "cell_type": "code",
   "execution_count": null,
   "metadata": {
    "_uuid": "1c985b64f7dd2c57ed3d9cb7d3d1fed312f654ea"
   },
   "outputs": [],
   "source": [
    "def first():\n",
    "    input_shape = (96, 96, 3)\n",
    "    model = Sequential()\n",
    "    model.add(Conv2D(32, 3, 3, border_mode='same', input_shape=input_shape, activation='relu'))\n",
    "    model.add(Conv2D(32, 3, 3, border_mode='same', activation='relu'))\n",
    "    model.add(MaxPooling2D(pool_size=(2, 2)))\n",
    "\n",
    "    model.add(Conv2D(64, 3, 3, border_mode='same', activation='relu'))\n",
    "    model.add(Conv2D(64, 3, 3, border_mode='same', activation='relu'))\n",
    "    model.add(MaxPooling2D(pool_size=(2, 2)))\n",
    "\n",
    "    model.add(Conv2D(128, 3, 3, border_mode='same', activation='relu'))\n",
    "    model.add(Conv2D(128, 3, 3, border_mode='same', activation='relu'))\n",
    "    model.add(MaxPooling2D(pool_size=(2, 2)))\n",
    "\n",
    "    model.add(Conv2D(256, 3, 3, border_mode='same', activation='relu'))\n",
    "    model.add(Conv2D(256, 3, 3, border_mode='same', activation='relu'))\n",
    "    model.add(MaxPooling2D(pool_size=(2, 2)))\n",
    "\n",
    "    model.add(Flatten())\n",
    "    model.add(Dense(256, activation='relu'))\n",
    "    model.add(Dropout(0.5))\n",
    "\n",
    "    model.add(Dense(256, activation='relu'))\n",
    "    model.add(Dropout(0.5))\n",
    "\n",
    "    model.add(Dense(1))\n",
    "    model.add(Activation('sigmoid'))\n",
    "    model.compile(loss='binary_crossentropy',\n",
    "                optimizer=optimizers.RMSprop(lr=0.0001, rho=0.9, epsilon=None, decay=0.0), #RMSprop(lr=0.0001) #deafult LR=0.001\n",
    "                metrics=['accuracy'])\n",
    "                # metrics=[mcor,recall, f1]\n",
    "    return model"
   ]
  },
  {
   "cell_type": "code",
   "execution_count": null,
   "metadata": {
    "_uuid": "b4abdbaf6722e881e8d7358e60b2dd738de4df12"
   },
   "outputs": [],
   "source": [
    "model=first()\n",
    "model.summary()"
   ]
  },
  {
   "cell_type": "code",
   "execution_count": null,
   "metadata": {
    "_uuid": "b155082b593426f38a9ade66c01d5af81505cb10"
   },
   "outputs": [],
   "source": [
    "x_train, x_val, y_train, y_val = train_test_split(input_features, labels, test_size=0.2, random_state=1)\n",
    "print(x_train.shape, x_val.shape, y_train.shape, y_val.shape)"
   ]
  },
  {
   "cell_type": "code",
   "execution_count": null,
   "metadata": {
    "_uuid": "60f6bbd1b1d0304579bc980f2d936d0439e7e432"
   },
   "outputs": [],
   "source": [
    "model.fit(x_train, y_train,\n",
    "          batch_size=32,\n",
    "          epochs=10,\n",
    "          verbose=1,\n",
    "          validation_data=(x_val, y_val))\n",
    "\n",
    "print(\"Done training...\")"
   ]
  },
  {
   "cell_type": "code",
   "execution_count": null,
   "metadata": {
    "_uuid": "3a3dc0189876854d91219b9d8872113901b7fc77"
   },
   "outputs": [],
   "source": [
    "score = model.evaluate(x_test, y_test, verbose=0)\n",
    "print('Test loss:', score[0])\n",
    "print('Test accuracy:', score[1])"
   ]
  },
  {
   "cell_type": "code",
   "execution_count": null,
   "metadata": {
    "_uuid": "8ba68b98b34a0bd7f2e44aaf300f4dc80c6802b5"
   },
   "outputs": [],
   "source": [
    "'''\n",
    "80-20% split -> 92.42% 5 epoch\n",
    "80-20% split -> 96.03% 10 epoch\n",
    "'''"
   ]
  }
 ],
 "metadata": {
  "kernelspec": {
   "display_name": "Python 3",
   "language": "python",
   "name": "python3"
  },
  "language_info": {
   "codemirror_mode": {
    "name": "ipython",
    "version": 3
   },
   "file_extension": ".py",
   "mimetype": "text/x-python",
   "name": "python",
   "nbconvert_exporter": "python",
   "pygments_lexer": "ipython3",
   "version": "3.6.6"
  }
 },
 "nbformat": 4,
 "nbformat_minor": 1
}
