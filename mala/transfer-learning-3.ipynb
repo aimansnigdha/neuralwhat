{
  "cells": [
    {
      "metadata": {
        "_uuid": "8f2839f25d086af736a60e9eeb907d3b93b6e0e5",
        "_cell_guid": "b1076dfc-b9ad-4769-8c92-a6c4dae69d19",
        "trusted": true
      },
      "cell_type": "code",
      "source": "import numpy as np \nimport pandas as pd \nimport os\nimport glob\nimport cv2\nimport random\nimport matplotlib.pyplot as plt\n\nfrom sklearn.utils import shuffle\nfrom sklearn.model_selection import train_test_split\nfrom keras import optimizers\nfrom keras.utils import to_categorical, plot_model\nfrom keras.layers import Dense, Input, Conv2D, Flatten, MaxPooling2D, Activation\nfrom keras.models import Model, Sequential\nfrom keras.layers import Activation, Dropout, Flatten, Dense\nfrom keras.callbacks import ModelCheckpoint\nfrom keras.optimizers import Adam\nfrom keras.applications.vgg16 import VGG16\nfrom keras.models import load_model\nfrom keras.utils import np_utils\nfrom keras import backend as K\n\nPATH = \"../input/cell-images-for-detecting-malaria/cell_images/cell_images/\"\nprint(os.listdir(PATH))",
      "execution_count": 1,
      "outputs": [
        {
          "output_type": "stream",
          "text": "['Parasitized', 'Uninfected']\n",
          "name": "stdout"
        },
        {
          "output_type": "stream",
          "text": "Using TensorFlow backend.\n",
          "name": "stderr"
        }
      ]
    },
    {
      "metadata": {
        "_uuid": "f0e13b1c6c95678320814d090a1556e161f2414d"
      },
      "cell_type": "markdown",
      "source": " * https://github.com/keras-team/keras/issues/5400\n * https://stackoverflow.com/questions/43076609/how-to-calculate-precision-and-recall-in-keras"
    },
    {
      "metadata": {
        "trusted": true,
        "_uuid": "de2c45bcb323f62987cd4c7333f40fa659c1a8f8"
      },
      "cell_type": "code",
      "source": "def check_units(y_true, y_pred):\n    if y_pred.shape[1] != 1:\n      y_pred = y_pred[:,1:2]\n      y_true = y_true[:,1:2]\n    return y_true, y_pred\n\ndef precision(y_true, y_pred):\n    y_true, y_pred = check_units(y_true, y_pred)\n    true_positives = K.sum(K.round(K.clip(y_true * y_pred, 0, 1)))\n    predicted_positives = K.sum(K.round(K.clip(y_pred, 0, 1)))\n    precision = true_positives / (predicted_positives + K.epsilon())\n    return precision\n\ndef recall(y_true, y_pred):\n    y_true, y_pred = check_units(y_true, y_pred)\n    true_positives = K.sum(K.round(K.clip(y_true * y_pred, 0, 1)))\n    possible_positives = K.sum(K.round(K.clip(y_true, 0, 1)))\n    recall = true_positives / (possible_positives + K.epsilon())\n    return recall\n\ndef f1(y_true, y_pred):\n    def recall(y_true, y_pred):\n        true_positives = K.sum(K.round(K.clip(y_true * y_pred, 0, 1)))\n        possible_positives = K.sum(K.round(K.clip(y_true, 0, 1)))\n        recall = true_positives / (possible_positives + K.epsilon())\n        return recall\n\n    def precision(y_true, y_pred):\n        true_positives = K.sum(K.round(K.clip(y_true * y_pred, 0, 1)))\n        predicted_positives = K.sum(K.round(K.clip(y_pred, 0, 1)))\n        precision = true_positives / (predicted_positives + K.epsilon())\n        return precision\n    y_true, y_pred = check_units(y_true, y_pred)\n    precision = precision(y_true, y_pred)\n    recall = recall(y_true, y_pred)\n    return 2*((precision*recall)/(precision+recall+K.epsilon()))\n\n#you can use it as following\n#model.compile(loss='binary_crossentropy',\n              #optimizer= \"adam\",\n              #metrics=[precision,recall, f1])",
      "execution_count": null,
      "outputs": []
    },
    {
      "metadata": {
        "trusted": true,
        "_uuid": "0ec0a9c480a5d056693e44359139b662e3903f75"
      },
      "cell_type": "code",
      "source": "# all image path of parasitized\npaths_para=glob.glob(os.path.join(PATH,'Parasitized','*.png'))\npaths_uninf=glob.glob(os.path.join(PATH,'Uninfected','*.png'))\nlen(paths_para), len(paths_uninf)",
      "execution_count": 2,
      "outputs": [
        {
          "output_type": "execute_result",
          "execution_count": 2,
          "data": {
            "text/plain": "(13779, 13779)"
          },
          "metadata": {}
        }
      ]
    },
    {
      "metadata": {
        "trusted": true,
        "_uuid": "b3d0919a9e6b7d82d5d014a4fba7a555f6e7807d"
      },
      "cell_type": "code",
      "source": "# show one\npath=paths_para[0]\nimg=cv2.imread(path) # cv2 stores image in BGR format\nimg=cv2.cvtColor(img,cv2.COLOR_BGR2RGB) # transforming to RGB format\nimg.shape",
      "execution_count": 3,
      "outputs": [
        {
          "output_type": "execute_result",
          "execution_count": 3,
          "data": {
            "text/plain": "(130, 118, 3)"
          },
          "metadata": {}
        }
      ]
    },
    {
      "metadata": {
        "trusted": true,
        "_uuid": "888f92d251eb702b852ba0a3abcf1e02aee8fdf5"
      },
      "cell_type": "code",
      "source": "# helper to get images\ndef get_data(path, resize_dim=200):\n    img=cv2.imread(path)\n    img=cv2.cvtColor(img,cv2.COLOR_BGR2RGB)\n    img_rz=cv2.resize(img,(resize_dim,resize_dim),interpolation=cv2.INTER_AREA)\n    return img_rz",
      "execution_count": 4,
      "outputs": []
    },
    {
      "metadata": {
        "_uuid": "783648a195326e94f7fb4db41b92e18e7d304bb1"
      },
      "cell_type": "markdown",
      "source": "## Get the data"
    },
    {
      "metadata": {
        "trusted": true,
        "_uuid": "530df5628be9e66354199f5c6786b0a76c8ae310"
      },
      "cell_type": "code",
      "source": "parasite_images=np.array([get_data(path) for path in paths_para])\nparasite_images.shape",
      "execution_count": 5,
      "outputs": [
        {
          "output_type": "execute_result",
          "execution_count": 5,
          "data": {
            "text/plain": "(13779, 200, 200, 3)"
          },
          "metadata": {}
        }
      ]
    },
    {
      "metadata": {
        "trusted": true,
        "_uuid": "625c28eb6f89669f4f9f8ec8a1c3a71569a326ef"
      },
      "cell_type": "code",
      "source": "uninf_images=np.array([get_data(path) for path in paths_uninf])\nuninf_images.shape",
      "execution_count": 6,
      "outputs": [
        {
          "output_type": "execute_result",
          "execution_count": 6,
          "data": {
            "text/plain": "(13779, 200, 200, 3)"
          },
          "metadata": {}
        }
      ]
    },
    {
      "metadata": {
        "_uuid": "cfa8d4c993b342bf905571089dd9173b89078a04"
      },
      "cell_type": "markdown",
      "source": "## Make labels"
    },
    {
      "metadata": {
        "trusted": true,
        "_uuid": "ad8f78ecb68d6570372275d19919d55a443b5409"
      },
      "cell_type": "code",
      "source": "para_label = np.array([1 for _ in range(len(parasite_images))])\nuninf_label = np.array([0 for _ in range(len(uninf_images))])\n\npara_label.shape, uninf_label.shape",
      "execution_count": 7,
      "outputs": [
        {
          "output_type": "execute_result",
          "execution_count": 7,
          "data": {
            "text/plain": "((13779,), (13779,))"
          },
          "metadata": {}
        }
      ]
    },
    {
      "metadata": {
        "_uuid": "dc997ae51ad6abf870b035096370640ff1ea02da"
      },
      "cell_type": "markdown",
      "source": "## Data set initialize"
    },
    {
      "metadata": {
        "trusted": true,
        "_uuid": "ad698e6b25af44746533b63b524be90d1fd9623f"
      },
      "cell_type": "code",
      "source": "x_all = np.concatenate((parasite_images, uninf_images), axis=0)\ny_all = np.concatenate((para_label, uninf_label), axis=0)\nprint(x_all.shape, y_all.shape)\n\ndel parasite_images \ndel uninf_images\n\n#train = shuffle(train, random_state=123)",
      "execution_count": 8,
      "outputs": [
        {
          "output_type": "stream",
          "text": "(27558, 200, 200, 3) (27558,)\n",
          "name": "stdout"
        }
      ]
    },
    {
      "metadata": {
        "_uuid": "a6fd9f764ebf830e0a4519d326843e3ba4357983"
      },
      "cell_type": "markdown",
      "source": "## Show an image"
    },
    {
      "metadata": {
        "trusted": true,
        "_uuid": "10f4e82e18084ec9c6352825560abb4357bf9033"
      },
      "cell_type": "code",
      "source": "idx = random.randint(0, len(x_all))\nprint(\"Index number: {}\".format(idx))\nprint(\"Label: {}\".format(y_all[idx]))\nplt.imshow(x_all[idx])",
      "execution_count": 9,
      "outputs": [
        {
          "output_type": "stream",
          "text": "Index number: 8536\nLabel: 1\n",
          "name": "stdout"
        },
        {
          "output_type": "execute_result",
          "execution_count": 9,
          "data": {
            "text/plain": "<matplotlib.image.AxesImage at 0x7f03b8f189b0>"
          },
          "metadata": {}
        },
        {
          "output_type": "display_data",
          "data": {
            "text/plain": "<Figure size 432x288 with 1 Axes>",
            "image/png": "[encoded data removed]"
          },
          "metadata": {}
        }
      ]
    },
    {
      "metadata": {
        "_uuid": "0c9d1dc5d7a103d78f254c9d89b0327e6898d305"
      },
      "cell_type": "markdown",
      "source": "## Show many images"
    },
    {
      "metadata": {
        "trusted": true,
        "_uuid": "9097d6c9cd426531329248ac80f8d473196fb7f9"
      },
      "cell_type": "code",
      "source": "plt.figure(figsize=(20,20))\ncolumns = 5\n\nlower = 0\nupper = 30 \n\nfor i in range(upper):\n    ax = plt.subplot(upper / columns + 1, columns, i + 1)\n    idx = random.randint(0, len(x_all))\n    ax.set_title(y_all[idx])\n    plt.imshow(x_all[idx], cmap='gray') # binary\n    \nplt.tight_layout(pad=0.4, w_pad=0.5, h_pad=1.0)",
      "execution_count": null,
      "outputs": []
    },
    {
      "metadata": {
        "_uuid": "ac8a5e832ea9d6e9a8518139303899f3a6b35dc5"
      },
      "cell_type": "markdown",
      "source": "## Make training and testing sets"
    },
    {
      "metadata": {
        "trusted": true,
        "_uuid": "e7a32b1e45a1640f0be1970e7131282e15bbe7d1"
      },
      "cell_type": "code",
      "source": "indices=list(range(len(x_all)))\nnp.random.seed(42)\nnp.random.shuffle(indices)\n\nind=int(len(indices)*0.90)\n# train data\ninput_features=x_all[indices[:ind]] \nlabels=y_all[indices[:ind]]\n# validation data\nx_test=x_all[indices[-(len(indices)-ind):]] \ny_test=y_all[indices[-(len(indices)-ind):]]",
      "execution_count": 10,
      "outputs": []
    },
    {
      "metadata": {
        "trusted": true,
        "_uuid": "0e234b7a4f78dd9c090af75a1bc790770fec44dc"
      },
      "cell_type": "code",
      "source": "print(x_all.shape, y_all.shape)",
      "execution_count": 11,
      "outputs": [
        {
          "output_type": "stream",
          "text": "(27558, 200, 200, 3) (27558,)\n",
          "name": "stdout"
        }
      ]
    },
    {
      "metadata": {
        "trusted": true,
        "_uuid": "62513942a1789058638e2b5187c6d0d142c26c1b"
      },
      "cell_type": "markdown",
      "source": "## Define network"
    },
    {
      "metadata": {
        "trusted": true,
        "_uuid": "1c985b64f7dd2c57ed3d9cb7d3d1fed312f654ea"
      },
      "cell_type": "code",
      "source": "def first():\n    input_shape = (96, 96, 3)\n    model = Sequential()\n    model.add(Conv2D(32, 3, 3, border_mode='same', input_shape=input_shape, activation='relu'))\n    model.add(Conv2D(32, 3, 3, border_mode='same', activation='relu'))\n    model.add(MaxPooling2D(pool_size=(2, 2)))\n\n    model.add(Conv2D(64, 3, 3, border_mode='same', activation='relu'))\n    model.add(Conv2D(64, 3, 3, border_mode='same', activation='relu'))\n    model.add(MaxPooling2D(pool_size=(2, 2)))\n\n    model.add(Conv2D(128, 3, 3, border_mode='same', activation='relu'))\n    model.add(Conv2D(128, 3, 3, border_mode='same', activation='relu'))\n    model.add(MaxPooling2D(pool_size=(2, 2)))\n\n    model.add(Conv2D(256, 3, 3, border_mode='same', activation='relu'))\n    model.add(Conv2D(256, 3, 3, border_mode='same', activation='relu'))\n    model.add(MaxPooling2D(pool_size=(2, 2)))\n\n    model.add(Flatten())\n    model.add(Dense(256, activation='relu'))\n    model.add(Dropout(0.5))\n\n    model.add(Dense(256, activation='relu'))\n    model.add(Dropout(0.5))\n\n    model.add(Dense(1))\n    model.add(Activation('sigmoid'))\n    model.compile(loss='binary_crossentropy',\n                optimizer=optimizers.RMSprop(lr=0.0001, rho=0.9, epsilon=None, decay=0.0), #RMSprop(lr=0.0001) #deafult LR=0.001\n                metrics=['accuracy'])\n                # metrics=[mcor,recall, f1]\n    return model",
      "execution_count": null,
      "outputs": []
    },
    {
      "metadata": {
        "trusted": true,
        "_uuid": "b4abdbaf6722e881e8d7358e60b2dd738de4df12"
      },
      "cell_type": "code",
      "source": "model=first()\nmodel.summary()",
      "execution_count": null,
      "outputs": []
    },
    {
      "metadata": {
        "trusted": true,
        "_uuid": "b155082b593426f38a9ade66c01d5af81505cb10"
      },
      "cell_type": "code",
      "source": "x_train, x_val, y_train, y_val = train_test_split(x_all, y_all, test_size=0.1, random_state=1)\nprint(x_train.shape, x_val.shape, y_train.shape, y_val.shape)",
      "execution_count": 12,
      "outputs": [
        {
          "output_type": "stream",
          "text": "(24802, 200, 200, 3) (2756, 200, 200, 3) (24802,) (2756,)\n",
          "name": "stdout"
        }
      ]
    },
    {
      "metadata": {
        "trusted": true,
        "_uuid": "60f6bbd1b1d0304579bc980f2d936d0439e7e432"
      },
      "cell_type": "code",
      "source": "model.fit(x_train, y_train,\n          batch_size=32,\n          epochs=20,\n          verbose=1,\n          validation_data=(x_val, y_val))\n\nprint(\"Done training...\")",
      "execution_count": null,
      "outputs": []
    },
    {
      "metadata": {
        "trusted": true,
        "_uuid": "3a3dc0189876854d91219b9d8872113901b7fc77"
      },
      "cell_type": "code",
      "source": "score = model.evaluate(x_test, y_test, verbose=0)\nprint('Test loss:', score[0])\nprint('Test accuracy:', score[1])",
      "execution_count": null,
      "outputs": []
    },
    {
      "metadata": {
        "trusted": true,
        "_uuid": "8ba68b98b34a0bd7f2e44aaf300f4dc80c6802b5"
      },
      "cell_type": "code",
      "source": "'''\n80-10% 10% split -> \nTest loss: 0.12058413857580616\nTest accuracy: 0.967343976777939\n'''",
      "execution_count": null,
      "outputs": []
    },
    {
      "metadata": {
        "_uuid": "8d6ae277b1dc0ce2491d68c351ee6e866b9928a0"
      },
      "cell_type": "markdown",
      "source": "# Transfer Learning"
    },
    {
      "metadata": {
        "trusted": true,
        "_uuid": "93d01d8d81b08f883f1c97cc72ceb0c449e3ce5e"
      },
      "cell_type": "code",
      "source": "# model with ALL layers frozen, except for the SOFTMAX layer\ndef vgg16():\n    base_model = VGG16(weights='../input/keras-pretrained-models/vgg16_weights_tf_dim_ordering_tf_kernels_notop.h5',include_top=False,pooling='avg',input_shape=(200, 200, 3))\n    base_model.trainable = False\n    X = base_model.output\n    X.trainable = False\n    # softmax layer\n    predictions = Dense(2, activation='softmax')(X)\n    \n    # magical line of freezing layers\n    for layer in base_model.layers[:-3]:\n        layer.trainable=False\n\n    model = Model(inputs=base_model.input, outputs=predictions)\n    model.compile(optimizer='adadelta', loss='binary_crossentropy', metrics=['accuracy']) ##metrics=[precision,recall, f1])\n    return model\n\nmodel=vgg16()\nmodel.summary()",
      "execution_count": 14,
      "outputs": [
        {
          "output_type": "stream",
          "text": "_________________________________________________________________\nLayer (type)                 Output Shape              Param #   \n=================================================================\ninput_2 (InputLayer)         (None, 200, 200, 3)       0         \n_________________________________________________________________\nblock1_conv1 (Conv2D)        (None, 200, 200, 64)      1792      \n_________________________________________________________________\nblock1_conv2 (Conv2D)        (None, 200, 200, 64)      36928     \n_________________________________________________________________\nblock1_pool (MaxPooling2D)   (None, 100, 100, 64)      0         \n_________________________________________________________________\nblock2_conv1 (Conv2D)        (None, 100, 100, 128)     73856     \n_________________________________________________________________\nblock2_conv2 (Conv2D)        (None, 100, 100, 128)     147584    \n_________________________________________________________________\nblock2_pool (MaxPooling2D)   (None, 50, 50, 128)       0         \n_________________________________________________________________\nblock3_conv1 (Conv2D)        (None, 50, 50, 256)       295168    \n_________________________________________________________________\nblock3_conv2 (Conv2D)        (None, 50, 50, 256)       590080    \n_________________________________________________________________\nblock3_conv3 (Conv2D)        (None, 50, 50, 256)       590080    \n_________________________________________________________________\nblock3_pool (MaxPooling2D)   (None, 25, 25, 256)       0         \n_________________________________________________________________\nblock4_conv1 (Conv2D)        (None, 25, 25, 512)       1180160   \n_________________________________________________________________\nblock4_conv2 (Conv2D)        (None, 25, 25, 512)       2359808   \n_________________________________________________________________\nblock4_conv3 (Conv2D)        (None, 25, 25, 512)       2359808   \n_________________________________________________________________\nblock4_pool (MaxPooling2D)   (None, 12, 12, 512)       0         \n_________________________________________________________________\nblock5_conv1 (Conv2D)        (None, 12, 12, 512)       2359808   \n_________________________________________________________________\nblock5_conv2 (Conv2D)        (None, 12, 12, 512)       2359808   \n_________________________________________________________________\nblock5_conv3 (Conv2D)        (None, 12, 12, 512)       2359808   \n_________________________________________________________________\nblock5_pool (MaxPooling2D)   (None, 6, 6, 512)         0         \n_________________________________________________________________\nglobal_average_pooling2d_2 ( (None, 512)               0         \n_________________________________________________________________\ndense_2 (Dense)              (None, 2)                 1026      \n=================================================================\nTotal params: 14,715,714\nTrainable params: 2,360,834\nNon-trainable params: 12,354,880\n_________________________________________________________________\n",
          "name": "stdout"
        }
      ]
    },
    {
      "metadata": {
        "trusted": true,
        "_uuid": "553f32938cb8ed16532d400c38a3cdfb73f5fd34"
      },
      "cell_type": "code",
      "source": "# check input\nprint(x_train.shape, y_train.shape, x_val.shape, y_val.shape)",
      "execution_count": 15,
      "outputs": [
        {
          "output_type": "stream",
          "text": "(24802, 200, 200, 3) (24802,) (2756, 200, 200, 3) (2756,)\n",
          "name": "stdout"
        }
      ]
    },
    {
      "metadata": {
        "trusted": true,
        "_uuid": "8f790461f14c4063b14cef834e2b6e0ea26ea628"
      },
      "cell_type": "code",
      "source": "# one hot encoded vectors\nnum_classes = 2\n\ny_train = np_utils.to_categorical(y_train,num_classes)\ny_val = np_utils.to_categorical(y_val,num_classes)\ny_test = np_utils.to_categorical(y_test,num_classes)\nprint(y_train.shape, y_val.shape, y_test.shape)",
      "execution_count": 16,
      "outputs": [
        {
          "output_type": "stream",
          "text": "(24802, 2) (2756, 2) (2756, 2)\n",
          "name": "stdout"
        }
      ]
    },
    {
      "metadata": {
        "trusted": true,
        "_uuid": "b189555f7450c3335e0aee45dc2f4cc586b02aa5"
      },
      "cell_type": "code",
      "source": "# check input\nprint(x_train.shape, y_train.shape, x_val.shape, y_val.shape, x_test.shape, y_test.shape)",
      "execution_count": 17,
      "outputs": [
        {
          "output_type": "stream",
          "text": "(24802, 200, 200, 3) (24802, 2) (2756, 200, 200, 3) (2756, 2) (2756, 200, 200, 3) (2756, 2)\n",
          "name": "stdout"
        }
      ]
    },
    {
      "metadata": {
        "trusted": true,
        "_uuid": "8a276a288788c087ad6e1c659c91fd3d34f3960f"
      },
      "cell_type": "code",
      "source": "model=vgg16()\npath_model='vgg16.h5'  \n\n# set the learning rate\nK.set_value(model.optimizer.lr,1e-2) \n\nh=model.fit(x=x_train,     \n            y=y_train, \n            batch_size=32, \n            epochs=30, \n            verbose=1, \n            validation_data=(x_val,y_val),\n            shuffle=True,\n            callbacks=[\n                ModelCheckpoint(filepath=path_model),\n            ]\n            )\n",
      "execution_count": 18,
      "outputs": [
        {
          "output_type": "stream",
          "text": "Train on 24802 samples, validate on 2756 samples\nEpoch 1/30\n24802/24802 [==============================] - 237s 10ms/step - loss: 0.2905 - acc: 0.9066 - val_loss: 0.1513 - val_acc: 0.9510\nEpoch 2/30\n24802/24802 [==============================] - 230s 9ms/step - loss: 0.1402 - acc: 0.9533 - val_loss: 0.1366 - val_acc: 0.9510\nEpoch 3/30\n24802/24802 [==============================] - 231s 9ms/step - loss: 0.1218 - acc: 0.9583 - val_loss: 0.1462 - val_acc: 0.9517\nEpoch 4/30\n24802/24802 [==============================] - 230s 9ms/step - loss: 0.1092 - acc: 0.9622 - val_loss: 0.1322 - val_acc: 0.9539\nEpoch 5/30\n24802/24802 [==============================] - 230s 9ms/step - loss: 0.1001 - acc: 0.9648 - val_loss: 0.4323 - val_acc: 0.8374\nEpoch 6/30\n24802/24802 [==============================] - 230s 9ms/step - loss: 0.0924 - acc: 0.9677 - val_loss: 0.1306 - val_acc: 0.9586\nEpoch 7/30\n24802/24802 [==============================] - 230s 9ms/step - loss: 0.0855 - acc: 0.9698 - val_loss: 0.1208 - val_acc: 0.9557\nEpoch 8/30\n24802/24802 [==============================] - 230s 9ms/step - loss: 0.0798 - acc: 0.9724 - val_loss: 0.1203 - val_acc: 0.9590\nEpoch 9/30\n24802/24802 [==============================] - 230s 9ms/step - loss: 0.0739 - acc: 0.9745 - val_loss: 0.1185 - val_acc: 0.9597\nEpoch 10/30\n24802/24802 [==============================] - 230s 9ms/step - loss: 0.0698 - acc: 0.9767 - val_loss: 0.1282 - val_acc: 0.9590\nEpoch 11/30\n24802/24802 [==============================] - 230s 9ms/step - loss: 0.0657 - acc: 0.9773 - val_loss: 0.1228 - val_acc: 0.9608\nEpoch 12/30\n24802/24802 [==============================] - 230s 9ms/step - loss: 0.0609 - acc: 0.9790 - val_loss: 0.1241 - val_acc: 0.9579\nEpoch 13/30\n24802/24802 [==============================] - 231s 9ms/step - loss: 0.0574 - acc: 0.9810 - val_loss: 0.1186 - val_acc: 0.9604\nEpoch 14/30\n24802/24802 [==============================] - 230s 9ms/step - loss: 0.0533 - acc: 0.9820 - val_loss: 0.1219 - val_acc: 0.9634\nEpoch 15/30\n24802/24802 [==============================] - 229s 9ms/step - loss: 0.0509 - acc: 0.9831 - val_loss: 0.1164 - val_acc: 0.9626\nEpoch 16/30\n24802/24802 [==============================] - 230s 9ms/step - loss: 0.0474 - acc: 0.9844 - val_loss: 0.1308 - val_acc: 0.9612\nEpoch 17/30\n24802/24802 [==============================] - 230s 9ms/step - loss: 0.0453 - acc: 0.9844 - val_loss: 0.1264 - val_acc: 0.9575\nEpoch 18/30\n24802/24802 [==============================] - 230s 9ms/step - loss: 0.0416 - acc: 0.9870 - val_loss: 0.1195 - val_acc: 0.9594\nEpoch 19/30\n24802/24802 [==============================] - 230s 9ms/step - loss: 0.0405 - acc: 0.9865 - val_loss: 0.1201 - val_acc: 0.9612\nEpoch 20/30\n24802/24802 [==============================] - 230s 9ms/step - loss: 0.0377 - acc: 0.9884 - val_loss: 0.1224 - val_acc: 0.9604\nEpoch 21/30\n24802/24802 [==============================] - 230s 9ms/step - loss: 0.0359 - acc: 0.9889 - val_loss: 0.1192 - val_acc: 0.9626\nEpoch 22/30\n24802/24802 [==============================] - 230s 9ms/step - loss: 0.0342 - acc: 0.9894 - val_loss: 0.1213 - val_acc: 0.9608\nEpoch 23/30\n24802/24802 [==============================] - 230s 9ms/step - loss: 0.0324 - acc: 0.9904 - val_loss: 0.1240 - val_acc: 0.9623\nEpoch 24/30\n24802/24802 [==============================] - 230s 9ms/step - loss: 0.0298 - acc: 0.9908 - val_loss: 0.1239 - val_acc: 0.9623\nEpoch 25/30\n24802/24802 [==============================] - 230s 9ms/step - loss: 0.0287 - acc: 0.9918 - val_loss: 0.1928 - val_acc: 0.9405\nEpoch 26/30\n24802/24802 [==============================] - 230s 9ms/step - loss: 0.0268 - acc: 0.9929 - val_loss: 0.1355 - val_acc: 0.9601\nEpoch 27/30\n24802/24802 [==============================] - 230s 9ms/step - loss: 0.0257 - acc: 0.9933 - val_loss: 0.1245 - val_acc: 0.9615\nEpoch 28/30\n24802/24802 [==============================] - 230s 9ms/step - loss: 0.0242 - acc: 0.9932 - val_loss: 0.1288 - val_acc: 0.9626\nEpoch 29/30\n24802/24802 [==============================] - 229s 9ms/step - loss: 0.0228 - acc: 0.9946 - val_loss: 0.1250 - val_acc: 0.9619\nEpoch 30/30\n24802/24802 [==============================] - 230s 9ms/step - loss: 0.0214 - acc: 0.9946 - val_loss: 0.1388 - val_acc: 0.9597\n",
          "name": "stdout"
        }
      ]
    },
    {
      "metadata": {
        "trusted": true,
        "_uuid": "143c7e9740e2f35b7e0bf9e5b04905e2b1dc4e65",
        "scrolled": true
      },
      "cell_type": "code",
      "source": "score = model.evaluate(x_test, y_test, verbose=0)\nprint('Test loss:', score[0])\nprint('Test accuracy:', score[1])",
      "execution_count": 19,
      "outputs": [
        {
          "output_type": "stream",
          "text": "Test loss: 0.036485219879835544\nTest accuracy: 0.9887518142235123\n",
          "name": "stdout"
        }
      ]
    },
    {
      "metadata": {
        "trusted": true,
        "_uuid": "7617939dac1e2fc922b89fbd648047bf87e0be87"
      },
      "cell_type": "code",
      "source": "def plot_loss_accu(history):\n    loss = history.history['loss']\n    val_loss = history.history['val_loss']\n    epochs = range(len(loss))\n    plt.plot(epochs, loss, 'g')\n    plt.plot(epochs, val_loss, 'y')\n    plt.title('Training loss')\n    plt.legend(['train', 'val'], loc='upper right')\n    plt.grid()\n    plt.show()\n    loss = history.history['acc']\n    val_loss = history.history['val_acc']\n    epochs = range(len(loss))\n    plt.plot(epochs, loss, 'r')\n    plt.plot(epochs, val_loss, 'b')\n    plt.title('Training accuracy')\n    plt.legend(['train', 'val'], loc='lower right')\n    plt.grid()\n    plt.show()\n",
      "execution_count": 22,
      "outputs": []
    },
    {
      "metadata": {
        "trusted": true,
        "_uuid": "616ae91064c54fc950e5cb5beaa05602c181e175"
      },
      "cell_type": "code",
      "source": "plot_loss_accu(h)",
      "execution_count": null,
      "outputs": []
    },
    {
      "metadata": {
        "trusted": true,
        "_uuid": "2234b53cd782ea427081d60abe16f04f1c91e234"
      },
      "cell_type": "code",
      "source": "",
      "execution_count": null,
      "outputs": []
    }
  ],
  "metadata": {
    "kernelspec": {
      "display_name": "Python 3",
      "language": "python",
      "name": "python3"
    },
    "language_info": {
      "name": "python",
      "version": "3.6.6",
      "mimetype": "text/x-python",
      "codemirror_mode": {
        "name": "ipython",
        "version": 3
      },
      "pygments_lexer": "ipython3",
      "nbconvert_exporter": "python",
      "file_extension": ".py"
    }
  },
  "nbformat": 4,
  "nbformat_minor": 1
}